{
  "nbformat": 4,
  "nbformat_minor": 0,
  "metadata": {
    "colab": {
      "name": "dog_app.ipynb",
      "version": "0.3.2",
      "provenance": [],
      "collapsed_sections": [
        "twaOxNOkESEk",
        "6DT5ceNCESEn",
        "ctd0xBbdESEr",
        "TPG0ik2OESEw",
        "wsZPv7MNESE1",
        "P13cpKmPESFF",
        "itnUUYFVESFK",
        "XZNarmDWESFN",
        "pH_C6pmlESFR",
        "_1JEGdovESFU",
        "FYrU_JIyESFW",
        "epIg2ClVESFZ",
        "J5jcRWitESFb",
        "gxkcseWiESFf",
        "7CmdP0bRESFp",
        "HD4MedpwESFs",
        "k4g1WDVKESFv",
        "xqOPqYpQESFx",
        "ReHvjfYDESFz",
        "iVOa0wOvESF2",
        "Ml4zSuyAESF7",
        "5Ma95BXTESGD",
        "y_KJaXqmESGG",
        "_kVrUUfNESGI",
        "dFZdabhmESGM",
        "eoAGcARwESGO"
      ]
    },
    "kernelspec": {
      "name": "python2",
      "display_name": "Python 2"
    },
    "accelerator": "GPU"
  },
  "cells": [
    {
      "metadata": {
        "id": "zN_qEYCfGGjH",
        "colab_type": "code",
        "colab": {
          "base_uri": "https://localhost:8080/",
          "height": 85
        },
        "outputId": "deed77fa-daa3-4cd4-fadd-fd42c6fd736c"
      },
      "cell_type": "code",
      "source": [
        "# memory footprint support libraries/code\n",
        "!ln -sf /opt/bin/nvidia-smi /usr/bin/nvidia-smi\n",
        "!pip install gputil\n",
        "!pip install psutil\n",
        "!pip install humanize"
      ],
      "execution_count": 1,
      "outputs": [
        {
          "output_type": "stream",
          "text": [
            "Requirement already satisfied: gputil in /usr/local/lib/python2.7/dist-packages (1.3.0)\n",
            "Requirement already satisfied: numpy in /usr/local/lib/python2.7/dist-packages (from gputil) (1.14.6)\n",
            "Requirement already satisfied: psutil in /usr/local/lib/python2.7/dist-packages (5.4.8)\n",
            "Requirement already satisfied: humanize in /usr/local/lib/python2.7/dist-packages (0.5.1)\n"
          ],
          "name": "stdout"
        }
      ]
    },
    {
      "metadata": {
        "id": "-1KreYf8Ospn",
        "colab_type": "code",
        "colab": {
          "base_uri": "https://localhost:8080/",
          "height": 51
        },
        "outputId": "ab895a66-5684-4326-9b19-9f8c8d4d0c83"
      },
      "cell_type": "code",
      "source": [
        "import psutil\n",
        "import humanize\n",
        "import GPUtil as GPU\n",
        "import os\n",
        "\n",
        "import tensorflow as tf\n",
        "tf.test.gpu_device_name()\n",
        "\n",
        "GPUs = GPU.getGPUs()\n",
        "# XXX: only one GPU on Colab and isn’t guaranteed\n",
        "gpu = GPUs[0]\n",
        "def printm():\n",
        " process = psutil.Process(os.getpid())\n",
        " print(\"Gen RAM Free: \" + humanize.naturalsize( psutil.virtual_memory().available ), \" | Proc size: \" + humanize.naturalsize( process.memory_info().rss))\n",
        " print(\"GPU RAM Free: {0:.0f}MB | Used: {1:.0f}MB | Util {2:3.0f}% | Total {3:.0f}MB\".format(gpu.memoryFree, gpu.memoryUsed, gpu.memoryUtil*100, gpu.memoryTotal))\n",
        "printm()"
      ],
      "execution_count": 1,
      "outputs": [
        {
          "output_type": "stream",
          "text": [
            "('Gen RAM Free: 12.4 GB', ' | Proc size: 691.9 MB')\n",
            "GPU RAM Free: 11325MB | Used: 116MB | Util   1% | Total 11441MB\n"
          ],
          "name": "stdout"
        }
      ]
    },
    {
      "metadata": {
        "id": "aBAkkssB_vP3",
        "colab_type": "code",
        "colab": {
          "base_uri": "https://localhost:8080/",
          "height": 34
        },
        "outputId": "38f7f43b-40fe-490e-aed8-e39c6065aef6"
      },
      "cell_type": "code",
      "source": [
        "tf.test.gpu_device_name()"
      ],
      "execution_count": 2,
      "outputs": [
        {
          "output_type": "execute_result",
          "data": {
            "text/plain": [
              "'/device:GPU:0'"
            ]
          },
          "metadata": {
            "tags": []
          },
          "execution_count": 2
        }
      ]
    },
    {
      "metadata": {
        "id": "x90ZWu0Vf7pP",
        "colab_type": "code",
        "colab": {
          "base_uri": "https://localhost:8080/",
          "height": 34
        },
        "outputId": "995f2e80-d911-47e1-8714-7cfee52e808e"
      },
      "cell_type": "code",
      "source": [
        "from google.colab import drive\n",
        "drive.mount('/content/gdrive')\n",
        "dir = '/content/gdrive/My Drive/18_ML_Colab/UD_ML_Dog_Breed_Classifier/'"
      ],
      "execution_count": 3,
      "outputs": [
        {
          "output_type": "stream",
          "text": [
            "Drive already mounted at /content/gdrive; to attempt to forcibly remount, call drive.mount(\"/content/gdrive\", force_remount=True).\n"
          ],
          "name": "stdout"
        }
      ]
    },
    {
      "metadata": {
        "id": "-vy89ZHkESEH",
        "colab_type": "text"
      },
      "cell_type": "markdown",
      "source": [
        "# Artificial Intelligence Nanodegree\n",
        "\n",
        "## Convolutional Neural Networks\n",
        "\n",
        "## Project: Write an Algorithm for a Dog Identification App \n",
        "\n",
        "---\n",
        "\n",
        "\n",
        "In this notebook, some template code has already been provided for you, and you will need to implement additional functionality to successfully complete this project. You will not need to modify the included code beyond what is requested. Sections that begin with **'(IMPLEMENTATION)'** in the header indicate that the following block of code will require additional functionality which you must provide. Instructions will be provided for each section, and the specifics of the implementation are marked in the code block with a 'TODO' statement. Please be sure to read the instructions carefully! \n",
        "\n",
        "> **Note**: Once you have completed all of the code implementations, you need to finalize your work by exporting the iPython Notebook as an HTML document. Before exporting the notebook to html, all of the code cells need to have been run so that reviewers can see the final implementation and output. You can then export the notebook by using the menu above and navigating to  \\n\",\n",
        "    \"**File -> Download as -> HTML (.html)**. Include the finished document along with this notebook as your submission.\n",
        "\n",
        "In addition to implementing code, there will be questions that you must answer which relate to the project and your implementation. Each section where you will answer a question is preceded by a **'Question X'** header. Carefully read each question and provide thorough answers in the following text boxes that begin with **'Answer:'**. Your project submission will be evaluated based on your answers to each of the questions and the implementation you provide.\n",
        "\n",
        ">**Note:** Code and Markdown cells can be executed using the **Shift + Enter** keyboard shortcut.  Markdown cells can be edited by double-clicking the cell to enter edit mode.\n",
        "\n",
        "The rubric contains _optional_ \"Stand Out Suggestions\" for enhancing the project beyond the minimum requirements. If you decide to pursue the \"Stand Out Suggestions\", you should include the code in this IPython notebook.\n",
        "\n",
        "\n",
        "\n",
        "---\n",
        "### Why We're Here \n",
        "\n",
        "In this notebook, you will make the first steps towards developing an algorithm that could be used as part of a mobile or web app.  At the end of this project, your code will accept any user-supplied image as input.  If a dog is detected in the image, it will provide an estimate of the dog's breed.  If a human is detected, it will provide an estimate of the dog breed that is most resembling.  The image below displays potential sample output of your finished project (... but we expect that each student's algorithm will behave differently!). \n",
        "\n",
        "![alt text](https://drive.google.com/uc?id=1Wy7XoU515DopzHRm1i2UQ4M-dcPXoXJR)\n",
        "\n",
        "In this real-world setting, you will need to piece together a series of models to perform different tasks; for instance, the algorithm that detects humans in an image will be different from the CNN that infers dog breed.  There are many points of possible failure, and no perfect algorithm exists.  Your imperfect solution will nonetheless create a fun user experience!\n",
        "\n",
        "### The Road Ahead\n",
        "\n",
        "We break the notebook into separate steps.  Feel free to use the links below to navigate the notebook.\n",
        "\n",
        "* [Step 0](#step0): Import Datasets\n",
        "* [Step 1](#step1): Detect Humans\n",
        "* [Step 2](#step2): Detect Dogs\n",
        "* [Step 3](#step3): Create a CNN to Classify Dog Breeds (from Scratch)\n",
        "* [Step 4](#step4): Use a CNN to Classify Dog Breeds (using Transfer Learning)\n",
        "* [Step 5](#step5): Create a CNN to Classify Dog Breeds (using Transfer Learning)\n",
        "* [Step 6](#step6): Write your Algorithm\n",
        "* [Step 7](#step7): Test Your Algorithm\n",
        "\n",
        "---\n",
        "<a id='step0'></a>\n",
        "## Step 0: Import Datasets\n",
        "\n",
        "### Import Dog Dataset\n",
        "\n",
        "In the code cell below, we import a dataset of dog images.  We populate a few variables through the use of the `load_files` function from the scikit-learn library:\n",
        "- `train_files`, `valid_files`, `test_files` - numpy arrays containing file paths to images\n",
        "- `train_targets`, `valid_targets`, `test_targets` - numpy arrays containing onehot-encoded classification labels \n",
        "- `dog_names` - list of string-valued dog breed names for translating labels"
      ]
    },
    {
      "metadata": {
        "id": "cUIifd1qPIQW",
        "colab_type": "code",
        "colab": {
          "base_uri": "https://localhost:8080/",
          "height": 34
        },
        "outputId": "8706b8a1-d1b4-49be-fa10-e0f16b2b5d83"
      },
      "cell_type": "code",
      "source": [
        "from sklearn.datasets import load_files       \n",
        "from keras.utils import np_utils\n",
        "from google.colab import files\n",
        "from glob import glob\n",
        "import numpy as np"
      ],
      "execution_count": 4,
      "outputs": [
        {
          "output_type": "stream",
          "text": [
            "Using TensorFlow backend.\n"
          ],
          "name": "stderr"
        }
      ]
    },
    {
      "metadata": {
        "id": "Ho0_rel8ESEJ",
        "colab_type": "code",
        "colab": {}
      },
      "cell_type": "code",
      "source": [
        "# define function to load train, test, and validation datasets\n",
        "def load_dataset(path):\n",
        "    data = load_files(path)\n",
        "    dog_files = np.array(data['filenames'])\n",
        "    dog_targets = np_utils.to_categorical(np.array(data['target']), 133)\n",
        "    return dog_files, dog_targets\n",
        "\n",
        "# load train, test, and validation datasets\n",
        "valid_files, valid_targets = load_dataset(dir+'dogImages/valid')\n",
        "print(\"valid is ready\")\n",
        "test_files, test_targets = load_dataset(dir+'dogImages/test')\n",
        "print(\"test is ready\")\n",
        "train_files, train_targets = load_dataset(dir+'dogImages/train')\n",
        "print(\"train is ready\")\n",
        "\n",
        "# load list of dog names\n",
        "#dog_names = [item[20:-1] for item in sorted(glob(\"dogImages/train/*/\"))]\n",
        "\n",
        "# print statistics about the dataset\n",
        "print('There are %d total dog categories.' % len(dog_names))\n",
        "print('There are %s total dog images.\\n' % len(np.hstack([train_files, valid_files, test_files])))\n",
        "print('There are %d training dog images.' % len(train_files))\n",
        "print('There are %d validation dog images.' % len(valid_files))\n",
        "print('There are %d test dog images.'% len(test_files))"
      ],
      "execution_count": 0,
      "outputs": []
    },
    {
      "metadata": {
        "id": "M8JTSs7RDZJH",
        "colab_type": "code",
        "colab": {}
      },
      "cell_type": "code",
      "source": [
        "valid_files = np.load(dir+'valid_files.npy')\n",
        "train_files = np.load(dir+'train_files.npy')\n",
        "test_files = np.load(dir+'test_files.npy')\n",
        "valid_targets = np.load(dir+'valid_targets.npy')\n",
        "train_targets = np.load(dir+'train_targets.npy')\n",
        "test_targets = np.load(dir+'test_targets.npy')\n",
        "human_files = np.load(dir+'human_files.npy')"
      ],
      "execution_count": 0,
      "outputs": []
    },
    {
      "metadata": {
        "id": "IvzdqYcgMs1I",
        "colab_type": "code",
        "colab": {}
      },
      "cell_type": "code",
      "source": [
        "dog_names = [item[84:-1] for item in sorted(glob(dir+\"dogImages/train/*/\"))]"
      ],
      "execution_count": 0,
      "outputs": []
    },
    {
      "metadata": {
        "id": "TVTHf1PnhWpe",
        "colab_type": "code",
        "colab": {
          "base_uri": "https://localhost:8080/",
          "height": 119
        },
        "outputId": "9d1f3977-25ae-4577-8230-82790093a1e1"
      },
      "cell_type": "code",
      "source": [
        "# print statistics about the dataset\n",
        "print('There are %d total dog categories.' % len(dog_names))\n",
        "print('There are %s total dog images.\\n' % len(np.hstack([train_files, valid_files, test_files])))\n",
        "print('There are %d training dog images.' % len(train_files))\n",
        "print('There are %d validation dog images.' % len(valid_files))\n",
        "print('There are %d test dog images.'% len(test_files))"
      ],
      "execution_count": 7,
      "outputs": [
        {
          "output_type": "stream",
          "text": [
            "There are 133 total dog categories.\n",
            "There are 8351 total dog images.\n",
            "\n",
            "There are 6680 training dog images.\n",
            "There are 835 validation dog images.\n",
            "There are 836 test dog images.\n"
          ],
          "name": "stdout"
        }
      ]
    },
    {
      "metadata": {
        "id": "fMokip3ZESEN",
        "colab_type": "text"
      },
      "cell_type": "markdown",
      "source": [
        "### Import Human Dataset\n",
        "\n",
        "In the code cell below, we import a dataset of human images, where the file paths are stored in the numpy array `human_files`."
      ]
    },
    {
      "metadata": {
        "colab_type": "code",
        "id": "HHQlKuBfPcvW",
        "colab": {
          "base_uri": "https://localhost:8080/",
          "height": 34
        },
        "outputId": "ff5ee57a-b925-4fd4-9f49-a6c688cd7217"
      },
      "cell_type": "code",
      "source": [
        "import random\n",
        "\n",
        "random.seed(8675309)\n",
        "\n",
        "#human_files = np.array(glob(dir+\"lfw/*/*\"))\n",
        "human_files = np.load(dir+'human_files.npy')\n",
        "\n",
        "random.shuffle(human_files)\n",
        "\n",
        "# print statistics about the dataset\n",
        "print('There are %d total human images.' % len(human_files))"
      ],
      "execution_count": 16,
      "outputs": [
        {
          "output_type": "stream",
          "text": [
            "There are 13233 total human images.\n"
          ],
          "name": "stdout"
        }
      ]
    },
    {
      "metadata": {
        "id": "XyNmvlsSESES",
        "colab_type": "text"
      },
      "cell_type": "markdown",
      "source": [
        "---\n",
        "<a id='step1'></a>\n",
        "## Step 1: Detect Humans\n",
        "\n",
        "We use OpenCV's implementation of [Haar feature-based cascade classifiers](http://docs.opencv.org/trunk/d7/d8b/tutorial_py_face_detection.html) to detect human faces in images.  OpenCV provides many pre-trained face detectors, stored as XML files on [github](https://github.com/opencv/opencv/tree/master/data/haarcascades).  We have downloaded one of these detectors and stored it in the `haarcascades` directory.\n",
        "\n",
        "In the next code cell, we demonstrate how to use this detector to find human faces in a sample image."
      ]
    },
    {
      "metadata": {
        "id": "fVW6-k5AESET",
        "colab_type": "code",
        "colab": {
          "base_uri": "https://localhost:8080/",
          "height": 286
        },
        "outputId": "8c384181-9b35-4de3-963e-57e7b04eccfe"
      },
      "cell_type": "code",
      "source": [
        "import cv2                \n",
        "import matplotlib.pyplot as plt                        \n",
        "%matplotlib inline                               \n",
        "\n",
        "# extract pre-trained face detector\n",
        "face_cascade = cv2.CascadeClassifier(dir + 'haarcascades/haarcascade_frontalface_alt.xml')\n",
        "\n",
        "# load color (BGR) image\n",
        "img = cv2.imread(human_files[3])\n",
        "# convert BGR image to grayscale\n",
        "gray = cv2.cvtColor(img, cv2.COLOR_BGR2GRAY)\n",
        "\n",
        "# find faces in image\n",
        "faces = face_cascade.detectMultiScale(gray)\n",
        "\n",
        "# print number of faces detected in the image\n",
        "print('Number of faces detected:', len(faces))\n",
        "\n",
        "# get bounding box for each detected face\n",
        "for (x,y,w,h) in faces:\n",
        "    # add bounding box to color image\n",
        "    cv2.rectangle(img,(x,y),(x+w,y+h),(255,0,0),2)\n",
        "    \n",
        "# convert BGR image to RGB for plotting\n",
        "cv_rgb = cv2.cvtColor(img, cv2.COLOR_BGR2RGB)\n",
        "\n",
        "# display the image, along with bounding box\n",
        "plt.imshow(cv_rgb)\n",
        "plt.show()"
      ],
      "execution_count": 8,
      "outputs": [
        {
          "output_type": "stream",
          "text": [
            "('Number of faces detected:', 1)\n"
          ],
          "name": "stdout"
        },
        {
          "output_type": "display_data",
          "data": {
            "image/png": "[encoded data removed]",
            "text/plain": [
              "<matplotlib.figure.Figure at 0x7fa405db9a10>"
            ]
          },
          "metadata": {
            "tags": []
          }
        }
      ]
    },
    {
      "metadata": {
        "id": "3vlnf1BoESEX",
        "colab_type": "text"
      },
      "cell_type": "markdown",
      "source": [
        "Before using any of the face detectors, it is standard procedure to convert the images to grayscale.  The `detectMultiScale` function executes the classifier stored in `face_cascade` and takes the grayscale image as a parameter.  \n",
        "\n",
        "In the above code, `faces` is a numpy array of detected faces, where each row corresponds to a detected face.  Each detected face is a 1D array with four entries that specifies the bounding box of the detected face.  The first two entries in the array (extracted in the above code as `x` and `y`) specify the horizontal and vertical positions of the top left corner of the bounding box.  The last two entries in the array (extracted here as `w` and `h`) specify the width and height of the box.\n",
        "\n",
        "### Write a Human Face Detector\n",
        "\n",
        "We can use this procedure to write a function that returns `True` if a human face is detected in an image and `False` otherwise.  This function, aptly named `face_detector`, takes a string-valued file path to an image as input and appears in the code block below."
      ]
    },
    {
      "metadata": {
        "id": "aP-LC23vESEX",
        "colab_type": "code",
        "colab": {}
      },
      "cell_type": "code",
      "source": [
        "# returns \"True\" if face is detected in image stored at img_path\n",
        "def face_detector(img_path):\n",
        "    img = cv2.imread(img_path)\n",
        "    gray = cv2.cvtColor(img, cv2.COLOR_BGR2GRAY)\n",
        "    faces = face_cascade.detectMultiScale(gray)\n",
        "    return len(faces) > 0"
      ],
      "execution_count": 0,
      "outputs": []
    },
    {
      "metadata": {
        "id": "M06xrGpzESEa",
        "colab_type": "text"
      },
      "cell_type": "markdown",
      "source": [
        "### (IMPLEMENTATION) Assess the Human Face Detector\n",
        "\n",
        "__Question 1:__ Use the code cell below to test the performance of the `face_detector` function.  \n",
        "- What percentage of the first 100 images in `human_files` have a detected human face?  \n",
        "- What percentage of the first 100 images in `dog_files` have a detected human face? \n",
        "\n",
        "Ideally, we would like 100% of human images with a detected face and 0% of dog images with a detected face.  You will see that our algorithm falls short of this goal, but still gives acceptable performance.  We extract the file paths for the first 100 images from each of the datasets and store them in the numpy arrays `human_files_short` and `dog_files_short`.\n",
        "\n",
        "__Answer:__ "
      ]
    },
    {
      "metadata": {
        "id": "z_I4TlXHESEb",
        "colab_type": "code",
        "colab": {
          "base_uri": "https://localhost:8080/",
          "height": 51
        },
        "outputId": "37a6f591-f68e-4360-f2eb-0665e4cd66b1"
      },
      "cell_type": "code",
      "source": [
        "human_files_short = human_files[:100]\n",
        "dog_files_short = train_files[:100]\n",
        "# Do NOT modify the code above this line.\n",
        "\n",
        "## TODO: Test the performance of the face_detector algorithm \n",
        "print(\"{}% human faces detected in human file\".format(sum([face_detector(photo) for photo in human_files_short])/1.0))\n",
        "print(\"{}% human faces detected in dog file\".format(sum([face_detector(photo) for photo in dog_files_short])/1.0))\n",
        "\n",
        "\n",
        "## on the images in human_files_short and dog_files_short."
      ],
      "execution_count": 19,
      "outputs": [
        {
          "output_type": "stream",
          "text": [
            "99.0% human faces detected in human file\n",
            "12.0% human faces detected in dog file\n"
          ],
          "name": "stdout"
        }
      ]
    },
    {
      "metadata": {
        "id": "AJTytyQ-ESEe",
        "colab_type": "text"
      },
      "cell_type": "markdown",
      "source": [
        "__Question 2:__ This algorithmic choice necessitates that we communicate to the user that we accept human images only when they provide a clear view of a face (otherwise, we risk having unneccessarily frustrated users!). In your opinion, is this a reasonable expectation to pose on the user? If not, can you think of a way to detect humans in images that does not necessitate an image with a clearly presented face?\n",
        "\n",
        "__Answer:__\n",
        "\n",
        "We suggest the face detector from OpenCV as a potential way to detect human images in your algorithm, but you are free to explore other approaches, especially approaches that make use of deep learning :).  Please use the code cell below to design and test your own face detection algorithm.  If you decide to pursue this _optional_ task, report performance on each of the datasets."
      ]
    },
    {
      "metadata": {
        "id": "twaOxNOkESEk",
        "colab_type": "text"
      },
      "cell_type": "markdown",
      "source": [
        "---\n",
        "<a id='step2'></a>\n",
        "## Step 2: Detect Dogs\n",
        "\n",
        "In this section, we use a pre-trained [ResNet-50](http://ethereon.github.io/netscope/#/gist/db945b393d40bfa26006) model to detect dogs in images.  Our first line of code downloads the ResNet-50 model, along with weights that have been trained on [ImageNet](http://www.image-net.org/), a very large, very popular dataset used for image classification and other vision tasks.  ImageNet contains over 10 million URLs, each linking to an image containing an object from one of [1000 categories](https://gist.github.com/yrevar/942d3a0ac09ec9e5eb3a).  Given an image, this pre-trained ResNet-50 model returns a prediction (derived from the available categories in ImageNet) for the object that is contained in the image."
      ]
    },
    {
      "metadata": {
        "id": "y5yVkUCPESEl",
        "colab_type": "code",
        "colab": {}
      },
      "cell_type": "code",
      "source": [
        "from keras.applications.resnet50 import ResNet50\n",
        "\n",
        "# define ResNet50 model\n",
        "ResNet50_model = ResNet50(weights='imagenet')"
      ],
      "execution_count": 0,
      "outputs": []
    },
    {
      "metadata": {
        "id": "6DT5ceNCESEn",
        "colab_type": "text"
      },
      "cell_type": "markdown",
      "source": [
        "### Pre-process the Data\n",
        "\n",
        "When using TensorFlow as backend, Keras CNNs require a 4D array (which we'll also refer to as a 4D tensor) as input, with shape\n",
        "\n",
        "$$\n",
        "(\\text{nb_samples}, \\text{rows}, \\text{columns}, \\text{channels}),\n",
        "$$\n",
        "\n",
        "where `nb_samples` corresponds to the total number of images (or samples), and `rows`, `columns`, and `channels` correspond to the number of rows, columns, and channels for each image, respectively.  \n",
        "\n",
        "The `path_to_tensor` function below takes a string-valued file path to a color image as input and returns a 4D tensor suitable for supplying to a Keras CNN.  The function first loads the image and resizes it to a square image that is $224 \\times 224$ pixels.  Next, the image is converted to an array, which is then resized to a 4D tensor.  In this case, since we are working with color images, each image has three channels.  Likewise, since we are processing a single image (or sample), the returned tensor will always have shape\n",
        "\n",
        "$$\n",
        "(1, 224, 224, 3).\n",
        "$$\n",
        "\n",
        "The `paths_to_tensor` function takes a numpy array of string-valued image paths as input and returns a 4D tensor with shape \n",
        "\n",
        "$$\n",
        "(\\text{nb_samples}, 224, 224, 3).\n",
        "$$\n",
        "\n",
        "Here, `nb_samples` is the number of samples, or number of images, in the supplied array of image paths.  It is best to think of `nb_samples` as the number of 3D tensors (where each 3D tensor corresponds to a different image) in your dataset!"
      ]
    },
    {
      "metadata": {
        "id": "AnyteqzPESEo",
        "colab_type": "code",
        "colab": {}
      },
      "cell_type": "code",
      "source": [
        "from keras.preprocessing import image                  \n",
        "from tqdm import tqdm\n",
        "\n",
        "def path_to_tensor(img_path):\n",
        "    # loads RGB image as PIL.Image.Image type\n",
        "    img = image.load_img(img_path, target_size=(224, 224))\n",
        "    # convert PIL.Image.Image type to 3D tensor with shape (224, 224, 3)\n",
        "    x = image.img_to_array(img)\n",
        "    # convert 3D tensor to 4D tensor with shape (1, 224, 224, 3) and return 4D tensor\n",
        "    return np.expand_dims(x, axis=0)\n",
        "\n",
        "def paths_to_tensor(img_paths):\n",
        "    list_of_tensors = [path_to_tensor(img_path) for img_path in tqdm(img_paths)]\n",
        "    return np.vstack(list_of_tensors)"
      ],
      "execution_count": 0,
      "outputs": []
    },
    {
      "metadata": {
        "id": "ctd0xBbdESEr",
        "colab_type": "text"
      },
      "cell_type": "markdown",
      "source": [
        "### Making Predictions with ResNet-50\n",
        "\n",
        "Getting the 4D tensor ready for ResNet-50, and for any other pre-trained model in Keras, requires some additional processing.  First, the RGB image is converted to BGR by reordering the channels.  All pre-trained models have the additional normalization step that the mean pixel (expressed in RGB as $[103.939, 116.779, 123.68]$ and calculated from all pixels in all images in ImageNet) must be subtracted from every pixel in each image.  This is implemented in the imported function `preprocess_input`.  If you're curious, you can check the code for `preprocess_input` [here](https://github.com/fchollet/keras/blob/master/keras/applications/imagenet_utils.py).\n",
        "\n",
        "Now that we have a way to format our image for supplying to ResNet-50, we are now ready to use the model to extract the predictions.  This is accomplished with the `predict` method, which returns an array whose $i$-th entry is the model's predicted probability that the image belongs to the $i$-th ImageNet category.  This is implemented in the `ResNet50_predict_labels` function below.\n",
        "\n",
        "By taking the argmax of the predicted probability vector, we obtain an integer corresponding to the model's predicted object class, which we can identify with an object category through the use of this [dictionary](https://gist.github.com/yrevar/942d3a0ac09ec9e5eb3a). "
      ]
    },
    {
      "metadata": {
        "id": "rNju9qoBESEr",
        "colab_type": "code",
        "colab": {}
      },
      "cell_type": "code",
      "source": [
        "from keras.applications.resnet50 import preprocess_input, decode_predictions\n",
        "\n",
        "def ResNet50_predict_labels(img_path):\n",
        "    # returns prediction vector for image located at img_path\n",
        "    img = preprocess_input(path_to_tensor(img_path))\n",
        "    return np.argmax(ResNet50_model.predict(img))"
      ],
      "execution_count": 0,
      "outputs": []
    },
    {
      "metadata": {
        "id": "TPG0ik2OESEw",
        "colab_type": "text"
      },
      "cell_type": "markdown",
      "source": [
        "### Write a Dog Detector\n",
        "\n",
        "While looking at the [dictionary](https://gist.github.com/yrevar/942d3a0ac09ec9e5eb3a), you will notice that the categories corresponding to dogs appear in an uninterrupted sequence and correspond to dictionary keys 151-268, inclusive, to include all categories from `'Chihuahua'` to `'Mexican hairless'`.  Thus, in order to check to see if an image is predicted to contain a dog by the pre-trained ResNet-50 model, we need only check if the `ResNet50_predict_labels` function above returns a value between 151 and 268 (inclusive).\n",
        "\n",
        "We use these ideas to complete the `dog_detector` function below, which returns `True` if a dog is detected in an image (and `False` if not)."
      ]
    },
    {
      "metadata": {
        "id": "NIpMWOohESEx",
        "colab_type": "code",
        "colab": {}
      },
      "cell_type": "code",
      "source": [
        "### returns \"True\" if a dog is detected in the image stored at img_path\n",
        "def dog_detector(img_path):\n",
        "    prediction = ResNet50_predict_labels(img_path)\n",
        "    return ((prediction <= 268) & (prediction >= 151)) "
      ],
      "execution_count": 0,
      "outputs": []
    },
    {
      "metadata": {
        "id": "wsZPv7MNESE1",
        "colab_type": "text"
      },
      "cell_type": "markdown",
      "source": [
        "### (IMPLEMENTATION) Assess the Dog Detector\n",
        "\n",
        "__Question 3:__ Use the code cell below to test the performance of your `dog_detector` function.  \n",
        "- What percentage of the images in `human_files_short` have a detected dog?  \n",
        "- What percentage of the images in `dog_files_short` have a detected dog?\n",
        "\n",
        "__Answer:__ "
      ]
    },
    {
      "metadata": {
        "id": "li3svB9cESE2",
        "colab_type": "code",
        "colab": {
          "base_uri": "https://localhost:8080/",
          "height": 51
        },
        "outputId": "db78cfde-b833-49ef-df2a-deb737c1c4c2"
      },
      "cell_type": "code",
      "source": [
        "### TODO: Test the performance of the dog_detector function\n",
        "### on the images in human_files_short and dog_files_short.\n",
        "print(\"{}% dog faces detected in human file\".format(sum([dog_detector(photo) for photo in human_files_short])/1.0))\n",
        "print(\"{}% dog faces detected in dog file\".format(sum([dog_detector(photo) for photo in dog_files_short])/1.0))\n"
      ],
      "execution_count": 28,
      "outputs": [
        {
          "output_type": "stream",
          "text": [
            "3.0% dog faces detected in human file\n",
            "100.0% dog faces detected in dog file\n"
          ],
          "name": "stdout"
        }
      ]
    },
    {
      "metadata": {
        "id": "50MsvT1tESE9",
        "colab_type": "text"
      },
      "cell_type": "markdown",
      "source": [
        "---\n",
        "<a id='step3'></a>\n",
        "## Step 3: Create a CNN to Classify Dog Breeds (from Scratch)\n",
        "\n",
        "Now that we have functions for detecting humans and dogs in images, we need a way to predict breed from images.  In this step, you will create a CNN that classifies dog breeds.  You must create your CNN _from scratch_ (so, you can't use transfer learning _yet_!), and you must attain a test accuracy of at least 1%.  In Step 5 of this notebook, you will have the opportunity to use transfer learning to create a CNN that attains greatly improved accuracy.\n",
        "\n",
        "Be careful with adding too many trainable layers!  More parameters means longer training, which means you are more likely to need a GPU to accelerate the training process.  Thankfully, Keras provides a handy estimate of the time that each epoch is likely to take; you can extrapolate this estimate to figure out how long it will take for your algorithm to train. \n",
        "\n",
        "We mention that the task of assigning breed to dogs from images is considered exceptionally challenging.  To see why, consider that *even a human* would have great difficulty in distinguishing between a Brittany and a Welsh Springer Spaniel.  \n",
        "\n",
        "Brittany | Welsh Springer Spaniel\n",
        "- | - \n",
        "<img src=\"https://drive.google.com/uc?id=1rsgII7yD0aQSHtq4ite1zEJLYCIHXMIy\" width=\"100\"> | <img src=\"https://drive.google.com/uc?id=18w_1e1YzXLvhoWZBthF_PVztrD7WR0q2\" width=\"200\">\n",
        "\n",
        "It is not difficult to find other dog breed pairs with minimal inter-class variation (for instance, Curly-Coated Retrievers and American Water Spaniels).  \n",
        "\n",
        "Curly-Coated Retriever | American Water Spaniel\n",
        "- | -\n",
        "<img src=\"https://drive.google.com/uc?id=1Dyj3FYGU5pB3l0SAMKlUPXBt7niCGvTn\" width=\"200\"> | <img src=\"https://drive.google.com/uc?id=151cS_4x38LwUzjrcQwxqFrejcML93dg0\" width=\"200\">\n",
        "\n",
        "\n",
        "Likewise, recall that labradors come in yellow, chocolate, and black.  Your vision-based algorithm will have to conquer this high intra-class variation to determine how to classify all of these different shades as the same breed.  \n",
        "\n",
        "Yellow Labrador | Chocolate Labrador | Black Labrador\n",
        "- | -\n",
        "<img src=\"https://drive.google.com/uc?id=1LXRlnhTEMmV7Zjl3w_56ypsJ_Qn2q-aC\" width=\"150\"> | <img src=\"https://drive.google.com/uc?id=1uItoFojW1swJGRKMhrkPL5bZDc81U4m9\" width=\"240\"> | <img src=\"https://drive.google.com/uc?id=1nKY1q1O2OuoQfejZ5TmnOqc1ofOBlZ7l\" width=\"220\">\n",
        "\n",
        "We also mention that random chance presents an exceptionally low bar: setting aside the fact that the classes are slightly imabalanced, a random guess will provide a correct answer roughly 1 in 133 times, which corresponds to an accuracy of less than 1%.  \n",
        "\n",
        "Remember that the practice is far ahead of the theory in deep learning.  Experiment with many different architectures, and trust your intuition.  And, of course, have fun! \n",
        "\n",
        "### Pre-process the Data\n",
        "\n",
        "We rescale the images by dividing every pixel in every image by 255."
      ]
    },
    {
      "metadata": {
        "id": "Qm6bb83HESE_",
        "colab_type": "code",
        "colab": {
          "base_uri": "https://localhost:8080/",
          "height": 68
        },
        "outputId": "051d8c7e-8e11-4778-b408-61a0e55900d4"
      },
      "cell_type": "code",
      "source": [
        "from PIL import ImageFile                            \n",
        "ImageFile.LOAD_TRUNCATED_IMAGES = True                 \n",
        "\n",
        "# pre-process the data for Keras\n",
        "train_tensors = paths_to_tensor(train_files).astype('float32')/255\n",
        "valid_tensors = paths_to_tensor(valid_files).astype('float32')/255\n",
        "test_tensors = paths_to_tensor(test_files).astype('float32')/255\n"
      ],
      "execution_count": 33,
      "outputs": [
        {
          "output_type": "stream",
          "text": [
            "100%|██████████| 6680/6680 [36:04<00:00,  3.68it/s]\n",
            "100%|██████████| 835/835 [04:40<00:00,  3.39it/s]\n",
            "100%|██████████| 836/836 [04:57<00:00,  3.81it/s]\n"
          ],
          "name": "stderr"
        }
      ]
    },
    {
      "metadata": {
        "id": "ZJjFHoH-jUgA",
        "colab_type": "code",
        "colab": {}
      },
      "cell_type": "code",
      "source": [
        "test_tensors = np.load(dir + 'test_tensors.npy')\n",
        "valid_tensors = np.load(dir + 'valid_tensors.npy')\n",
        "valid_targets = np.load(dir+'valid_targets.npy')\n",
        "train_targets = np.load(dir+'train_targets.npy')\n",
        "test_targets = np.load(dir+'test_targets.npy')"
      ],
      "execution_count": 0,
      "outputs": []
    },
    {
      "metadata": {
        "id": "eNvtx77-lJhb",
        "colab_type": "code",
        "colab": {}
      },
      "cell_type": "code",
      "source": [
        "#saved by writing to file.\n",
        "with open(dir + 'train_tensors.npy', 'r') as f:\n",
        "  train_tensors = f.read()"
      ],
      "execution_count": 0,
      "outputs": []
    },
    {
      "metadata": {
        "id": "ZEC2DXcb0p-I",
        "colab_type": "code",
        "colab": {
          "base_uri": "https://localhost:8080/",
          "height": 71
        },
        "outputId": "995afd47-9d2a-4647-c5d9-d3982d9316ff"
      },
      "cell_type": "code",
      "source": [
        "train_tensors = np.fromstring(train_tensors, dtype=np.float32).reshape(6680, 224, 224, 3)"
      ],
      "execution_count": 9,
      "outputs": [
        {
          "output_type": "stream",
          "text": [
            "/usr/local/lib/python2.7/dist-packages/ipykernel_launcher.py:1: DeprecationWarning: The binary mode of fromstring is deprecated, as it behaves surprisingly on unicode inputs. Use frombuffer instead\n",
            "  \"\"\"Entry point for launching an IPython kernel.\n"
          ],
          "name": "stderr"
        }
      ]
    },
    {
      "metadata": {
        "id": "P13cpKmPESFF",
        "colab_type": "text"
      },
      "cell_type": "markdown",
      "source": [
        "### (IMPLEMENTATION) Model Architecture\n",
        "\n",
        "Create a CNN to classify dog breed.  At the end of your code cell block, summarize the layers of your model by executing the line:\n",
        "    \n",
        "        model.summary()\n",
        "\n",
        "We have imported some Python modules to get you started, but feel free to import as many modules as you need.  If you end up getting stuck, here's a hint that specifies a model that trains relatively fast on CPU and attains >1% test accuracy in 5 epochs:\n",
        "\n",
        "![Sample CNN](https://drive.google.com/uc?id=1xGoKAPaXW8_fBmHerSnyMBTArVHP7Bsq)\n",
        "           \n",
        "__Question 4:__ Outline the steps you took to get to your final CNN architecture and your reasoning at each step.  If you chose to use the hinted architecture above, describe why you think that CNN architecture should work well for the image classification task.\n",
        "\n",
        "__Answer:__ "
      ]
    },
    {
      "metadata": {
        "id": "KsRpBXSVESFG",
        "colab_type": "code",
        "colab": {
          "base_uri": "https://localhost:8080/",
          "height": 748
        },
        "outputId": "17c5f418-0759-4054-f6fb-0afdafcfd6d8"
      },
      "cell_type": "code",
      "source": [
        "from keras.layers import Conv2D, MaxPooling2D, GlobalAveragePooling2D\n",
        "from keras.layers import Dropout, Flatten, Dense, MaxPooling2D\n",
        "from keras.models import Sequential\n",
        "from keras.layers.normalization import BatchNormalization\n",
        "\n",
        "img_width, img_height = 224, 224\n",
        "\n",
        "model = Sequential()\n",
        "model.add(BatchNormalization(input_shape=(224, 224, 3)))\n",
        "model.add(Conv2D(filters=16, kernel_size=4, kernel_initializer='he_normal', activation='relu'))\n",
        "model.add(MaxPooling2D(pool_size=2))\n",
        "model.add(BatchNormalization())\n",
        "\n",
        "model.add(Conv2D(filters=32, kernel_size=4, kernel_initializer='he_normal', activation='relu'))\n",
        "model.add(MaxPooling2D(pool_size=2))\n",
        "model.add(BatchNormalization())\n",
        "\n",
        "model.add(Conv2D(filters=64, kernel_size=4, kernel_initializer='he_normal', activation='relu'))\n",
        "model.add(MaxPooling2D(pool_size=2))\n",
        "model.add(BatchNormalization())\n",
        "\n",
        "model.add(Conv2D(filters=128, kernel_size=4, kernel_initializer='he_normal', activation='relu'))\n",
        "model.add(MaxPooling2D(pool_size=2))\n",
        "model.add(BatchNormalization())\n",
        "\n",
        "model.add(Conv2D(filters=256, kernel_size=4, kernel_initializer='he_normal', activation='relu'))\n",
        "model.add(MaxPooling2D(pool_size=2))\n",
        "model.add(BatchNormalization())\n",
        "\n",
        "model.add(GlobalAveragePooling2D())\n",
        "model.add(Dense(133, activation='softmax'))\n",
        "    \n",
        "### TODO: Define your architecture.\n",
        "\n",
        "model.summary()"
      ],
      "execution_count": 17,
      "outputs": [
        {
          "output_type": "stream",
          "text": [
            "_________________________________________________________________\n",
            "Layer (type)                 Output Shape              Param #   \n",
            "=================================================================\n",
            "batch_normalization_7 (Batch (None, 224, 224, 3)       12        \n",
            "_________________________________________________________________\n",
            "conv2d_7 (Conv2D)            (None, 221, 221, 16)      784       \n",
            "_________________________________________________________________\n",
            "max_pooling2d_7 (MaxPooling2 (None, 110, 110, 16)      0         \n",
            "_________________________________________________________________\n",
            "batch_normalization_8 (Batch (None, 110, 110, 16)      64        \n",
            "_________________________________________________________________\n",
            "conv2d_8 (Conv2D)            (None, 107, 107, 32)      8224      \n",
            "_________________________________________________________________\n",
            "max_pooling2d_8 (MaxPooling2 (None, 53, 53, 32)        0         \n",
            "_________________________________________________________________\n",
            "batch_normalization_9 (Batch (None, 53, 53, 32)        128       \n",
            "_________________________________________________________________\n",
            "conv2d_9 (Conv2D)            (None, 50, 50, 64)        32832     \n",
            "_________________________________________________________________\n",
            "max_pooling2d_9 (MaxPooling2 (None, 25, 25, 64)        0         \n",
            "_________________________________________________________________\n",
            "batch_normalization_10 (Batc (None, 25, 25, 64)        256       \n",
            "_________________________________________________________________\n",
            "conv2d_10 (Conv2D)           (None, 22, 22, 128)       131200    \n",
            "_________________________________________________________________\n",
            "max_pooling2d_10 (MaxPooling (None, 11, 11, 128)       0         \n",
            "_________________________________________________________________\n",
            "batch_normalization_11 (Batc (None, 11, 11, 128)       512       \n",
            "_________________________________________________________________\n",
            "conv2d_11 (Conv2D)           (None, 8, 8, 256)         524544    \n",
            "_________________________________________________________________\n",
            "max_pooling2d_11 (MaxPooling (None, 4, 4, 256)         0         \n",
            "_________________________________________________________________\n",
            "batch_normalization_12 (Batc (None, 4, 4, 256)         1024      \n",
            "_________________________________________________________________\n",
            "global_average_pooling2d_3 ( (None, 256)               0         \n",
            "_________________________________________________________________\n",
            "dense_3 (Dense)              (None, 133)               34181     \n",
            "=================================================================\n",
            "Total params: 733,761\n",
            "Trainable params: 732,763\n",
            "Non-trainable params: 998\n",
            "_________________________________________________________________\n"
          ],
          "name": "stdout"
        }
      ]
    },
    {
      "metadata": {
        "id": "itnUUYFVESFK",
        "colab_type": "text"
      },
      "cell_type": "markdown",
      "source": [
        "### Compile the Model"
      ]
    },
    {
      "metadata": {
        "id": "Fd24TvgMESFL",
        "colab_type": "code",
        "colab": {}
      },
      "cell_type": "code",
      "source": [
        "#reminder- rmsprop: moving avg of square gradients to normalize gradient  \n",
        "\n",
        "model.compile(optimizer='rmsprop', loss='categorical_crossentropy', metrics=['accuracy'])"
      ],
      "execution_count": 0,
      "outputs": []
    },
    {
      "metadata": {
        "id": "XZNarmDWESFN",
        "colab_type": "text"
      },
      "cell_type": "markdown",
      "source": [
        "### (IMPLEMENTATION) Train the Model\n",
        "\n",
        "Train your model in the code cell below.  Use model checkpointing to save the model that attains the best validation loss.\n",
        "\n",
        "You are welcome to [augment the training data](https://blog.keras.io/building-powerful-image-classification-models-using-very-little-data.html), but this is not a requirement. "
      ]
    },
    {
      "metadata": {
        "id": "QfsvTDqsESFN",
        "colab_type": "code",
        "colab": {
          "base_uri": "https://localhost:8080/",
          "height": 751
        },
        "outputId": "3ffd7562-3a32-4a5c-a170-0c0e7c701203"
      },
      "cell_type": "code",
      "source": [
        "from keras.callbacks import ModelCheckpoint  \n",
        "\n",
        "### TODO: specify the number of epochs that you would like to use to train the model.\n",
        "\n",
        "epochs = 10\n",
        "\n",
        "### Do NOT modify the code below this line.\n",
        "\n",
        "checkpointer = ModelCheckpoint(filepath=dir+'saved_models/weights.best.from_scratch.hdf5', \n",
        "                               verbose=1, save_best_only=True)\n",
        "\n",
        "model.fit(train_tensors, train_targets, \n",
        "          validation_data=(valid_tensors, valid_targets),\n",
        "          epochs=epochs, batch_size=20, callbacks=[checkpointer], verbose=1)"
      ],
      "execution_count": 19,
      "outputs": [
        {
          "output_type": "stream",
          "text": [
            "Train on 6680 samples, validate on 835 samples\n",
            "Epoch 1/10\n",
            "6680/6680 [==============================] - 40s 6ms/step - loss: 4.5019 - acc: 0.0494 - val_loss: 4.3753 - val_acc: 0.0539\n",
            "\n",
            "Epoch 00001: val_loss improved from inf to 4.37532, saving model to /content/gdrive/My Drive/18_ML_Colab/UD_ML_Dog_Breed_Classifier/saved_models/weights.best.from_scratch.hdf5\n",
            "Epoch 2/10\n",
            "6680/6680 [==============================] - 36s 5ms/step - loss: 4.0087 - acc: 0.1045 - val_loss: 4.0126 - val_acc: 0.0886\n",
            "\n",
            "Epoch 00002: val_loss improved from 4.37532 to 4.01261, saving model to /content/gdrive/My Drive/18_ML_Colab/UD_ML_Dog_Breed_Classifier/saved_models/weights.best.from_scratch.hdf5\n",
            "Epoch 3/10\n",
            "6680/6680 [==============================] - 37s 5ms/step - loss: 3.6538 - acc: 0.1543 - val_loss: 3.6697 - val_acc: 0.1461\n",
            "\n",
            "Epoch 00003: val_loss improved from 4.01261 to 3.66975, saving model to /content/gdrive/My Drive/18_ML_Colab/UD_ML_Dog_Breed_Classifier/saved_models/weights.best.from_scratch.hdf5\n",
            "Epoch 4/10\n",
            "6680/6680 [==============================] - 37s 5ms/step - loss: 3.3164 - acc: 0.2284 - val_loss: 3.5732 - val_acc: 0.1653\n",
            "\n",
            "Epoch 00004: val_loss improved from 3.66975 to 3.57316, saving model to /content/gdrive/My Drive/18_ML_Colab/UD_ML_Dog_Breed_Classifier/saved_models/weights.best.from_scratch.hdf5\n",
            "Epoch 5/10\n",
            "6680/6680 [==============================] - 37s 5ms/step - loss: 2.9428 - acc: 0.3034 - val_loss: 3.2679 - val_acc: 0.2108\n",
            "\n",
            "Epoch 00005: val_loss improved from 3.57316 to 3.26793, saving model to /content/gdrive/My Drive/18_ML_Colab/UD_ML_Dog_Breed_Classifier/saved_models/weights.best.from_scratch.hdf5\n",
            "Epoch 6/10\n",
            "6680/6680 [==============================] - 37s 5ms/step - loss: 2.5787 - acc: 0.3934 - val_loss: 3.1099 - val_acc: 0.2754\n",
            "\n",
            "Epoch 00006: val_loss improved from 3.26793 to 3.10987, saving model to /content/gdrive/My Drive/18_ML_Colab/UD_ML_Dog_Breed_Classifier/saved_models/weights.best.from_scratch.hdf5\n",
            "Epoch 7/10\n",
            "6680/6680 [==============================] - 36s 5ms/step - loss: 2.1939 - acc: 0.4943 - val_loss: 3.0170 - val_acc: 0.2599\n",
            "\n",
            "Epoch 00007: val_loss improved from 3.10987 to 3.01705, saving model to /content/gdrive/My Drive/18_ML_Colab/UD_ML_Dog_Breed_Classifier/saved_models/weights.best.from_scratch.hdf5\n",
            "Epoch 8/10\n",
            "6680/6680 [==============================] - 37s 5ms/step - loss: 1.7830 - acc: 0.6046 - val_loss: 2.9065 - val_acc: 0.3138\n",
            "\n",
            "Epoch 00008: val_loss improved from 3.01705 to 2.90647, saving model to /content/gdrive/My Drive/18_ML_Colab/UD_ML_Dog_Breed_Classifier/saved_models/weights.best.from_scratch.hdf5\n",
            "Epoch 9/10\n",
            "6680/6680 [==============================] - 37s 5ms/step - loss: 1.3897 - acc: 0.7133 - val_loss: 2.8949 - val_acc: 0.2994\n",
            "\n",
            "Epoch 00009: val_loss improved from 2.90647 to 2.89493, saving model to /content/gdrive/My Drive/18_ML_Colab/UD_ML_Dog_Breed_Classifier/saved_models/weights.best.from_scratch.hdf5\n",
            "Epoch 10/10\n",
            "6680/6680 [==============================] - 36s 5ms/step - loss: 1.0329 - acc: 0.8096 - val_loss: 2.7166 - val_acc: 0.3401\n",
            "\n",
            "Epoch 00010: val_loss improved from 2.89493 to 2.71664, saving model to /content/gdrive/My Drive/18_ML_Colab/UD_ML_Dog_Breed_Classifier/saved_models/weights.best.from_scratch.hdf5\n"
          ],
          "name": "stdout"
        },
        {
          "output_type": "execute_result",
          "data": {
            "text/plain": [
              "<keras.callbacks.History at 0x7fe64fa5a1d0>"
            ]
          },
          "metadata": {
            "tags": []
          },
          "execution_count": 19
        }
      ]
    },
    {
      "metadata": {
        "id": "pH_C6pmlESFR",
        "colab_type": "text"
      },
      "cell_type": "markdown",
      "source": [
        "### Load the Model with the Best Validation Loss"
      ]
    },
    {
      "metadata": {
        "id": "fWBAw3OyESFS",
        "colab_type": "code",
        "colab": {}
      },
      "cell_type": "code",
      "source": [
        "model.load_weights(dir+'saved_models/weights.best.from_scratch.hdf5')"
      ],
      "execution_count": 0,
      "outputs": []
    },
    {
      "metadata": {
        "id": "_1JEGdovESFU",
        "colab_type": "text"
      },
      "cell_type": "markdown",
      "source": [
        "### Test the Model\n",
        "\n",
        "Try out your model on the test dataset of dog images.  Ensure that your test accuracy is greater than 1%."
      ]
    },
    {
      "metadata": {
        "id": "1hJWtow7ESFU",
        "colab_type": "code",
        "colab": {
          "base_uri": "https://localhost:8080/",
          "height": 34
        },
        "outputId": "c2a55b83-a0f7-44e4-91aa-ea1865a9c364"
      },
      "cell_type": "code",
      "source": [
        "# get index of predicted dog breed for each image in test set\n",
        "dog_breed_predictions = [np.argmax(model.predict(np.expand_dims(tensor, axis=0))) for tensor in test_tensors]\n",
        "\n",
        "# report test accuracy\n",
        "test_accuracy = 100*np.sum(np.array(dog_breed_predictions)==np.argmax(test_targets, axis=1))/len(dog_breed_predictions)\n",
        "print('Test accuracy: %.4f%%' % test_accuracy)"
      ],
      "execution_count": 20,
      "outputs": [
        {
          "output_type": "stream",
          "text": [
            "Test accuracy: 32.0000%\n"
          ],
          "name": "stdout"
        }
      ]
    },
    {
      "metadata": {
        "id": "FYrU_JIyESFW",
        "colab_type": "text"
      },
      "cell_type": "markdown",
      "source": [
        "---\n",
        "<a id='step4'></a>\n",
        "## Step 4: Use a CNN to Classify Dog Breeds\n",
        "\n",
        "To reduce training time without sacrificing accuracy, we show you how to train a CNN using transfer learning.  In the following step, you will get a chance to use transfer learning to train your own CNN.\n",
        "\n",
        "### Obtain Bottleneck Features"
      ]
    },
    {
      "metadata": {
        "id": "Jx5GjhAP_IJt",
        "colab_type": "code",
        "colab": {}
      },
      "cell_type": "code",
      "source": [
        "import cv2                \n",
        "import matplotlib.pyplot as plt                        \n",
        "%matplotlib inline "
      ],
      "execution_count": 0,
      "outputs": []
    },
    {
      "metadata": {
        "id": "pkiupSV0ESFX",
        "colab_type": "code",
        "colab": {}
      },
      "cell_type": "code",
      "source": [
        "bottleneck_features = np.load(dir+'bottleneck_features/DogVGG16Data.npz')\n",
        "train_VGG16 = bottleneck_features['train']\n",
        "valid_VGG16 = bottleneck_features['valid']\n",
        "test_VGG16 = bottleneck_features['test']"
      ],
      "execution_count": 0,
      "outputs": []
    },
    {
      "metadata": {
        "id": "epIg2ClVESFZ",
        "colab_type": "text"
      },
      "cell_type": "markdown",
      "source": [
        "### Model Architecture\n",
        "\n",
        "The model uses the the pre-trained VGG-16 model as a fixed feature extractor, where the last convolutional output of VGG-16 is fed as input to our model.  We only add a global average pooling layer and a fully connected layer, where the latter contains one node for each dog category and is equipped with a softmax."
      ]
    },
    {
      "metadata": {
        "id": "JzTvGkylESFZ",
        "colab_type": "code",
        "colab": {
          "base_uri": "https://localhost:8080/",
          "height": 204
        },
        "outputId": "9541f7c6-0365-4d77-87dc-3191dba1e552"
      },
      "cell_type": "code",
      "source": [
        "VGG16_model = Sequential()\n",
        "VGG16_model.add(GlobalAveragePooling2D(input_shape=train_VGG16.shape[1:]))\n",
        "VGG16_model.add(Dense(133, activation='softmax'))\n",
        "\n",
        "VGG16_model.summary()"
      ],
      "execution_count": 22,
      "outputs": [
        {
          "output_type": "stream",
          "text": [
            "_________________________________________________________________\n",
            "Layer (type)                 Output Shape              Param #   \n",
            "=================================================================\n",
            "global_average_pooling2d_4 ( (None, 512)               0         \n",
            "_________________________________________________________________\n",
            "dense_4 (Dense)              (None, 133)               68229     \n",
            "=================================================================\n",
            "Total params: 68,229\n",
            "Trainable params: 68,229\n",
            "Non-trainable params: 0\n",
            "_________________________________________________________________\n"
          ],
          "name": "stdout"
        }
      ]
    },
    {
      "metadata": {
        "id": "J5jcRWitESFb",
        "colab_type": "text"
      },
      "cell_type": "markdown",
      "source": [
        "### Compile the Model"
      ]
    },
    {
      "metadata": {
        "id": "G_Prm5BUESFc",
        "colab_type": "code",
        "colab": {}
      },
      "cell_type": "code",
      "source": [
        "VGG16_model.compile(loss='categorical_crossentropy', optimizer='rmsprop', metrics=['accuracy'])"
      ],
      "execution_count": 0,
      "outputs": []
    },
    {
      "metadata": {
        "id": "gxkcseWiESFf",
        "colab_type": "text"
      },
      "cell_type": "markdown",
      "source": [
        "### Train the Model"
      ]
    },
    {
      "metadata": {
        "id": "R4r03x28ESFg",
        "colab_type": "code",
        "colab": {
          "base_uri": "https://localhost:8080/",
          "height": 1431
        },
        "outputId": "843056ea-054a-4e7b-93d8-a21363148cb6"
      },
      "cell_type": "code",
      "source": [
        "checkpointer = ModelCheckpoint(filepath=dir+'saved_models/weights.best.VGG16.hdf5', \n",
        "                               verbose=1, save_best_only=True)\n",
        "\n",
        "VGG16_model.fit(train_VGG16, train_targets, \n",
        "          validation_data=(valid_VGG16, valid_targets),\n",
        "          epochs=20, batch_size=20, callbacks=[checkpointer], verbose=1)"
      ],
      "execution_count": 24,
      "outputs": [
        {
          "output_type": "stream",
          "text": [
            "Train on 6680 samples, validate on 835 samples\n",
            "Epoch 1/20\n",
            "6680/6680 [==============================] - 8s 1ms/step - loss: 11.1453 - acc: 0.1540 - val_loss: 9.3388 - val_acc: 0.2623\n",
            "\n",
            "Epoch 00001: val_loss improved from inf to 9.33884, saving model to /content/gdrive/My Drive/18_ML_Colab/UD_ML_Dog_Breed_Classifier/saved_models/weights.best.VGG16.hdf5\n",
            "Epoch 2/20\n",
            "6680/6680 [==============================] - 8s 1ms/step - loss: 8.6201 - acc: 0.3504 - val_loss: 8.6965 - val_acc: 0.3365\n",
            "\n",
            "Epoch 00002: val_loss improved from 9.33884 to 8.69649, saving model to /content/gdrive/My Drive/18_ML_Colab/UD_ML_Dog_Breed_Classifier/saved_models/weights.best.VGG16.hdf5\n",
            "Epoch 3/20\n",
            "6680/6680 [==============================] - 8s 1ms/step - loss: 8.0641 - acc: 0.4207 - val_loss: 8.4113 - val_acc: 0.3509\n",
            "\n",
            "Epoch 00003: val_loss improved from 8.69649 to 8.41131, saving model to /content/gdrive/My Drive/18_ML_Colab/UD_ML_Dog_Breed_Classifier/saved_models/weights.best.VGG16.hdf5\n",
            "Epoch 4/20\n",
            "6680/6680 [==============================] - 8s 1ms/step - loss: 7.6865 - acc: 0.4615 - val_loss: 8.1481 - val_acc: 0.4012\n",
            "\n",
            "Epoch 00004: val_loss improved from 8.41131 to 8.14806, saving model to /content/gdrive/My Drive/18_ML_Colab/UD_ML_Dog_Breed_Classifier/saved_models/weights.best.VGG16.hdf5\n",
            "Epoch 5/20\n",
            "6680/6680 [==============================] - 8s 1ms/step - loss: 7.5055 - acc: 0.4889 - val_loss: 7.9267 - val_acc: 0.4180\n",
            "\n",
            "Epoch 00005: val_loss improved from 8.14806 to 7.92668, saving model to /content/gdrive/My Drive/18_ML_Colab/UD_ML_Dog_Breed_Classifier/saved_models/weights.best.VGG16.hdf5\n",
            "Epoch 6/20\n",
            "6680/6680 [==============================] - 8s 1ms/step - loss: 7.2199 - acc: 0.5118 - val_loss: 7.6656 - val_acc: 0.4287\n",
            "\n",
            "Epoch 00006: val_loss improved from 7.92668 to 7.66558, saving model to /content/gdrive/My Drive/18_ML_Colab/UD_ML_Dog_Breed_Classifier/saved_models/weights.best.VGG16.hdf5\n",
            "Epoch 7/20\n",
            "6680/6680 [==============================] - 8s 1ms/step - loss: 7.0198 - acc: 0.5320 - val_loss: 7.5309 - val_acc: 0.4503\n",
            "\n",
            "Epoch 00007: val_loss improved from 7.66558 to 7.53086, saving model to /content/gdrive/My Drive/18_ML_Colab/UD_ML_Dog_Breed_Classifier/saved_models/weights.best.VGG16.hdf5\n",
            "Epoch 8/20\n",
            "6680/6680 [==============================] - 8s 1ms/step - loss: 6.9234 - acc: 0.5395 - val_loss: 7.4731 - val_acc: 0.4467\n",
            "\n",
            "Epoch 00008: val_loss improved from 7.53086 to 7.47309, saving model to /content/gdrive/My Drive/18_ML_Colab/UD_ML_Dog_Breed_Classifier/saved_models/weights.best.VGG16.hdf5\n",
            "Epoch 9/20\n",
            "6680/6680 [==============================] - 8s 1ms/step - loss: 6.7681 - acc: 0.5525 - val_loss: 7.4329 - val_acc: 0.4599\n",
            "\n",
            "Epoch 00009: val_loss improved from 7.47309 to 7.43290, saving model to /content/gdrive/My Drive/18_ML_Colab/UD_ML_Dog_Breed_Classifier/saved_models/weights.best.VGG16.hdf5\n",
            "Epoch 10/20\n",
            "6680/6680 [==============================] - 8s 1ms/step - loss: 6.7013 - acc: 0.5656 - val_loss: 7.4768 - val_acc: 0.4515\n",
            "\n",
            "Epoch 00010: val_loss did not improve from 7.43290\n",
            "Epoch 11/20\n",
            "6680/6680 [==============================] - 7s 1ms/step - loss: 6.6501 - acc: 0.5690 - val_loss: 7.3444 - val_acc: 0.4599\n",
            "\n",
            "Epoch 00011: val_loss improved from 7.43290 to 7.34439, saving model to /content/gdrive/My Drive/18_ML_Colab/UD_ML_Dog_Breed_Classifier/saved_models/weights.best.VGG16.hdf5\n",
            "Epoch 12/20\n",
            "6680/6680 [==============================] - 8s 1ms/step - loss: 6.5858 - acc: 0.5747 - val_loss: 7.2575 - val_acc: 0.4611\n",
            "\n",
            "Epoch 00012: val_loss improved from 7.34439 to 7.25749, saving model to /content/gdrive/My Drive/18_ML_Colab/UD_ML_Dog_Breed_Classifier/saved_models/weights.best.VGG16.hdf5\n",
            "Epoch 13/20\n",
            "6680/6680 [==============================] - 8s 1ms/step - loss: 6.4879 - acc: 0.5813 - val_loss: 7.2422 - val_acc: 0.4623\n",
            "\n",
            "Epoch 00013: val_loss improved from 7.25749 to 7.24223, saving model to /content/gdrive/My Drive/18_ML_Colab/UD_ML_Dog_Breed_Classifier/saved_models/weights.best.VGG16.hdf5\n",
            "Epoch 14/20\n",
            "6680/6680 [==============================] - 8s 1ms/step - loss: 6.3412 - acc: 0.5865 - val_loss: 7.2254 - val_acc: 0.4743\n",
            "\n",
            "Epoch 00014: val_loss improved from 7.24223 to 7.22544, saving model to /content/gdrive/My Drive/18_ML_Colab/UD_ML_Dog_Breed_Classifier/saved_models/weights.best.VGG16.hdf5\n",
            "Epoch 15/20\n",
            "6680/6680 [==============================] - 8s 1ms/step - loss: 6.2126 - acc: 0.5933 - val_loss: 7.1238 - val_acc: 0.4766\n",
            "\n",
            "Epoch 00015: val_loss improved from 7.22544 to 7.12385, saving model to /content/gdrive/My Drive/18_ML_Colab/UD_ML_Dog_Breed_Classifier/saved_models/weights.best.VGG16.hdf5\n",
            "Epoch 16/20\n",
            "6680/6680 [==============================] - 8s 1ms/step - loss: 6.0795 - acc: 0.6006 - val_loss: 6.9660 - val_acc: 0.4766\n",
            "\n",
            "Epoch 00016: val_loss improved from 7.12385 to 6.96602, saving model to /content/gdrive/My Drive/18_ML_Colab/UD_ML_Dog_Breed_Classifier/saved_models/weights.best.VGG16.hdf5\n",
            "Epoch 17/20\n",
            "6680/6680 [==============================] - 8s 1ms/step - loss: 5.9385 - acc: 0.6102 - val_loss: 6.8862 - val_acc: 0.4934\n",
            "\n",
            "Epoch 00017: val_loss improved from 6.96602 to 6.88623, saving model to /content/gdrive/My Drive/18_ML_Colab/UD_ML_Dog_Breed_Classifier/saved_models/weights.best.VGG16.hdf5\n",
            "Epoch 18/20\n",
            "6680/6680 [==============================] - 8s 1ms/step - loss: 5.7565 - acc: 0.6169 - val_loss: 6.5901 - val_acc: 0.5054\n",
            "\n",
            "Epoch 00018: val_loss improved from 6.88623 to 6.59009, saving model to /content/gdrive/My Drive/18_ML_Colab/UD_ML_Dog_Breed_Classifier/saved_models/weights.best.VGG16.hdf5\n",
            "Epoch 19/20\n",
            "6680/6680 [==============================] - 8s 1ms/step - loss: 5.4899 - acc: 0.6355 - val_loss: 6.3842 - val_acc: 0.5174\n",
            "\n",
            "Epoch 00019: val_loss improved from 6.59009 to 6.38425, saving model to /content/gdrive/My Drive/18_ML_Colab/UD_ML_Dog_Breed_Classifier/saved_models/weights.best.VGG16.hdf5\n",
            "Epoch 20/20\n",
            "6680/6680 [==============================] - 8s 1ms/step - loss: 5.4115 - acc: 0.6466 - val_loss: 6.5221 - val_acc: 0.5030\n",
            "\n",
            "Epoch 00020: val_loss did not improve from 6.38425\n"
          ],
          "name": "stdout"
        },
        {
          "output_type": "execute_result",
          "data": {
            "text/plain": [
              "<keras.callbacks.History at 0x7fe662dd8f50>"
            ]
          },
          "metadata": {
            "tags": []
          },
          "execution_count": 24
        }
      ]
    },
    {
      "metadata": {
        "id": "7CmdP0bRESFp",
        "colab_type": "text"
      },
      "cell_type": "markdown",
      "source": [
        "### Load the Model with the Best Validation Loss"
      ]
    },
    {
      "metadata": {
        "id": "XEme0iRIESFq",
        "colab_type": "code",
        "colab": {}
      },
      "cell_type": "code",
      "source": [
        "VGG16_model.load_weights(dir+'saved_models/weights.best.VGG16.hdf5')"
      ],
      "execution_count": 0,
      "outputs": []
    },
    {
      "metadata": {
        "id": "HD4MedpwESFs",
        "colab_type": "text"
      },
      "cell_type": "markdown",
      "source": [
        "### Test the Model\n",
        "\n",
        "Now, we can use the CNN to test how well it identifies breed within our test dataset of dog images.  We print the test accuracy below."
      ]
    },
    {
      "metadata": {
        "id": "qtM8UDXLESFt",
        "colab_type": "code",
        "colab": {
          "base_uri": "https://localhost:8080/",
          "height": 34
        },
        "outputId": "a15c21e3-35d3-4447-d255-b751fffe8503"
      },
      "cell_type": "code",
      "source": [
        "# get index of predicted dog breed for each image in test set\n",
        "VGG16_predictions = [np.argmax(VGG16_model.predict(np.expand_dims(feature, axis=0))) for feature in test_VGG16]\n",
        "\n",
        "# report test accuracy\n",
        "test_accuracy = 100*np.sum(np.array(VGG16_predictions)==np.argmax(test_targets, axis=1))/len(VGG16_predictions)\n",
        "print('Test accuracy: %.4f%%' % test_accuracy)"
      ],
      "execution_count": 27,
      "outputs": [
        {
          "output_type": "stream",
          "text": [
            "Test accuracy: 50.0000%\n"
          ],
          "name": "stdout"
        }
      ]
    },
    {
      "metadata": {
        "id": "k4g1WDVKESFv",
        "colab_type": "text"
      },
      "cell_type": "markdown",
      "source": [
        "### Predict Dog Breed with the Model"
      ]
    },
    {
      "metadata": {
        "id": "ylIM10M8LmTQ",
        "colab_type": "code",
        "colab": {}
      },
      "cell_type": "code",
      "source": [
        "def extract_VGG16(tensor):\n",
        "\tfrom keras.applications.vgg16 import VGG16, preprocess_input\n",
        "\treturn VGG16(weights='imagenet', include_top=False).predict(preprocess_input(tensor))\n",
        "\n",
        "def extract_VGG19(tensor):\n",
        "\tfrom keras.applications.vgg19 import VGG19, preprocess_input\n",
        "\treturn VGG19(weights='imagenet', include_top=False).predict(preprocess_input(tensor))\n",
        "\n",
        "def extract_Resnet50(tensor):\n",
        "\tfrom keras.applications.resnet50 import ResNet50, preprocess_input\n",
        "\treturn ResNet50(weights='imagenet', include_top=False).predict(preprocess_input(tensor))\n",
        "\n",
        "def extract_Xception(tensor):\n",
        "\tfrom keras.applications.xception import Xception, preprocess_input\n",
        "\treturn Xception(weights='imagenet', include_top=False).predict(preprocess_input(tensor))\n",
        "\n",
        "def extract_InceptionV3(tensor):\n",
        "\tfrom keras.applications.inception_v3 import InceptionV3, preprocess_input\n",
        "\treturn InceptionV3(weights='imagenet', include_top=False).predict(preprocess_input(tensor))\n"
      ],
      "execution_count": 0,
      "outputs": []
    },
    {
      "metadata": {
        "id": "i5GxbDLsESFv",
        "colab_type": "code",
        "colab": {}
      },
      "cell_type": "code",
      "source": [
        "\n",
        "def VGG16_predict_breed(img_path):\n",
        "    # extract bottleneck features\n",
        "    bottleneck_feature = extract_VGG16(path_to_tensor(img_path))\n",
        "    # obtain predicted vector\n",
        "    predicted_vector = VGG16_model.predict(bottleneck_feature)\n",
        "    # return dog breed that is predicted by the model\n",
        "    return dog_names[np.argmax(predicted_vector)]"
      ],
      "execution_count": 0,
      "outputs": []
    },
    {
      "metadata": {
        "id": "dD2Vxz-SOuB8",
        "colab_type": "code",
        "colab": {}
      },
      "cell_type": "code",
      "source": [
        "#testing midway\n",
        "def VGG16_predict_breed_straight(file):\n",
        "    bottleneck_feature = extract_VGG16(file)\n",
        "    # obtain predicted vector\n",
        "    predicted_vector = VGG16_model.predict(bottleneck_feature)\n",
        "    # return dog breed that is predicted by the model\n",
        "    return dog_names[np.argmax(predicted_vector)]\n"
      ],
      "execution_count": 0,
      "outputs": []
    },
    {
      "metadata": {
        "id": "uOGPtEgpSW74",
        "colab_type": "code",
        "colab": {}
      },
      "cell_type": "code",
      "source": [
        "img = image.load_img(dir+\"id_dog.jpeg\", target_size=(224, 224))\n",
        "id_dog = np.expand_dims(image.img_to_array(img), axis=0)"
      ],
      "execution_count": 0,
      "outputs": []
    },
    {
      "metadata": {
        "id": "CatUsOwtRCVG",
        "colab_type": "code",
        "colab": {
          "base_uri": "https://localhost:8080/",
          "height": 34
        },
        "outputId": "7ab657f2-0132-4e52-b9be-ba55ebbe7b33"
      },
      "cell_type": "code",
      "source": [
        "print(VGG16_predict_breed_straight(id_dog))"
      ],
      "execution_count": 32,
      "outputs": [
        {
          "output_type": "stream",
          "text": [
            "Irish_water_spaniel\n"
          ],
          "name": "stdout"
        }
      ]
    },
    {
      "metadata": {
        "id": "xqOPqYpQESFx",
        "colab_type": "text"
      },
      "cell_type": "markdown",
      "source": [
        "---\n",
        "<a id='step5'></a>\n",
        "## Step 5: Create a CNN to Classify Dog Breeds (using Transfer Learning)\n",
        "\n",
        "You will now use transfer learning to create a CNN that can identify dog breed from images.  Your CNN must attain at least 60% accuracy on the test set.\n",
        "\n",
        "In Step 4, we used transfer learning to create a CNN using VGG-16 bottleneck features.  In this section, you must use the bottleneck features from a different pre-trained model.  To make things easier for you, we have pre-computed the features for all of the networks that are currently available in Keras:\n",
        "- [VGG-19](https://s3-us-west-1.amazonaws.com/udacity-aind/dog-project/DogVGG19Data.npz) bottleneck features\n",
        "- [ResNet-50](https://s3-us-west-1.amazonaws.com/udacity-aind/dog-project/DogResnet50Data.npz) bottleneck features\n",
        "- [Inception](https://s3-us-west-1.amazonaws.com/udacity-aind/dog-project/DogInceptionV3Data.npz) bottleneck features\n",
        "- [Xception](https://s3-us-west-1.amazonaws.com/udacity-aind/dog-project/DogXceptionData.npz) bottleneck features\n",
        "\n",
        "The files are encoded as such:\n",
        "\n",
        "    Dog{network}Data.npz\n",
        "    \n",
        "where `{network}`, in the above filename, can be one of `VGG19`, `Resnet50`, `InceptionV3`, or `Xception`.  Pick one of the above architectures, download the corresponding bottleneck features, and store the downloaded file in the `bottleneck_features/` folder in the repository.\n",
        "\n",
        "### (IMPLEMENTATION) Obtain Bottleneck Features\n",
        "\n",
        "In the code block below, extract the bottleneck features corresponding to the train, test, and validation sets by running the following:\n",
        "\n",
        "    bottleneck_features = np.load('bottleneck_features/Dog{network}Data.npz')\n",
        "    train_{network} = bottleneck_features['train']\n",
        "    valid_{network} = bottleneck_features['valid']\n",
        "    test_{network} = bottleneck_features['test']"
      ]
    },
    {
      "metadata": {
        "id": "kgH8Qi7xESFx",
        "colab_type": "code",
        "colab": {}
      },
      "cell_type": "code",
      "source": [
        "### TODO: Obtain bottleneck features from another pre-trained CNN.\n",
        "\n",
        "bottleneck_features = np.load('bottleneck_features/Dog{network}Data.npz')\n",
        "train_{network} = bottleneck_features['train']\n",
        "valid_{network} = bottleneck_features['valid']\n",
        "test_{network} = bottleneck_features['test']"
      ],
      "execution_count": 0,
      "outputs": []
    },
    {
      "metadata": {
        "id": "ReHvjfYDESFz",
        "colab_type": "text"
      },
      "cell_type": "markdown",
      "source": [
        "### (IMPLEMENTATION) Model Architecture\n",
        "\n",
        "Create a CNN to classify dog breed.  At the end of your code cell block, summarize the layers of your model by executing the line:\n",
        "    \n",
        "        <your model's name>.summary()\n",
        "   \n",
        "__Question 5:__ Outline the steps you took to get to your final CNN architecture and your reasoning at each step.  Describe why you think the architecture is suitable for the current problem.\n",
        "\n",
        "__Answer:__ \n",
        "\n"
      ]
    },
    {
      "metadata": {
        "id": "YvIzpyuLESF0",
        "colab_type": "code",
        "colab": {}
      },
      "cell_type": "code",
      "source": [
        "### TODO: Define your architecture."
      ],
      "execution_count": 0,
      "outputs": []
    },
    {
      "metadata": {
        "id": "iVOa0wOvESF2",
        "colab_type": "text"
      },
      "cell_type": "markdown",
      "source": [
        "### (IMPLEMENTATION) Compile the Model"
      ]
    },
    {
      "metadata": {
        "id": "GHknj9MVESF3",
        "colab_type": "code",
        "colab": {}
      },
      "cell_type": "code",
      "source": [
        "### TODO: Compile the model."
      ],
      "execution_count": 0,
      "outputs": []
    },
    {
      "metadata": {
        "id": "Ml4zSuyAESF7",
        "colab_type": "text"
      },
      "cell_type": "markdown",
      "source": [
        "### (IMPLEMENTATION) Train the Model\n",
        "\n",
        "Train your model in the code cell below.  Use model checkpointing to save the model that attains the best validation loss.  \n",
        "\n",
        "You are welcome to [augment the training data](https://blog.keras.io/building-powerful-image-classification-models-using-very-little-data.html), but this is not a requirement. "
      ]
    },
    {
      "metadata": {
        "id": "vMTxx3FPESF_",
        "colab_type": "code",
        "colab": {}
      },
      "cell_type": "code",
      "source": [
        "### TODO: Train the model."
      ],
      "execution_count": 0,
      "outputs": []
    },
    {
      "metadata": {
        "id": "5Ma95BXTESGD",
        "colab_type": "text"
      },
      "cell_type": "markdown",
      "source": [
        "### (IMPLEMENTATION) Load the Model with the Best Validation Loss"
      ]
    },
    {
      "metadata": {
        "id": "YGQSavZ2ESGD",
        "colab_type": "code",
        "colab": {}
      },
      "cell_type": "code",
      "source": [
        "### TODO: Load the model weights with the best validation loss."
      ],
      "execution_count": 0,
      "outputs": []
    },
    {
      "metadata": {
        "id": "y_KJaXqmESGG",
        "colab_type": "text"
      },
      "cell_type": "markdown",
      "source": [
        "### (IMPLEMENTATION) Test the Model\n",
        "\n",
        "Try out your model on the test dataset of dog images. Ensure that your test accuracy is greater than 60%."
      ]
    },
    {
      "metadata": {
        "id": "Z3tHqjP5ESGH",
        "colab_type": "code",
        "colab": {}
      },
      "cell_type": "code",
      "source": [
        "### TODO: Calculate classification accuracy on the test dataset."
      ],
      "execution_count": 0,
      "outputs": []
    },
    {
      "metadata": {
        "id": "_kVrUUfNESGI",
        "colab_type": "text"
      },
      "cell_type": "markdown",
      "source": [
        "### (IMPLEMENTATION) Predict Dog Breed with the Model\n",
        "\n",
        "Write a function that takes an image path as input and returns the dog breed (`Affenpinscher`, `Afghan_hound`, etc) that is predicted by your model.  \n",
        "\n",
        "Similar to the analogous function in Step 5, your function should have three steps:\n",
        "1. Extract the bottleneck features corresponding to the chosen CNN model.\n",
        "2. Supply the bottleneck features as input to the model to return the predicted vector.  Note that the argmax of this prediction vector gives the index of the predicted dog breed.\n",
        "3. Use the `dog_names` array defined in Step 0 of this notebook to return the corresponding breed.\n",
        "\n",
        "The functions to extract the bottleneck features can be found in `extract_bottleneck_features.py`, and they have been imported in an earlier code cell.  To obtain the bottleneck features corresponding to your chosen CNN architecture, you need to use the function\n",
        "\n",
        "    extract_{network}\n",
        "    \n",
        "where `{network}`, in the above filename, should be one of `VGG19`, `Resnet50`, `InceptionV3`, or `Xception`."
      ]
    },
    {
      "metadata": {
        "id": "QMVWudE7ESGJ",
        "colab_type": "code",
        "colab": {}
      },
      "cell_type": "code",
      "source": [
        "### TODO: Write a function that takes a path to an image as input\n",
        "### and returns the dog breed that is predicted by the model."
      ],
      "execution_count": 0,
      "outputs": []
    },
    {
      "metadata": {
        "id": "dFZdabhmESGM",
        "colab_type": "text"
      },
      "cell_type": "markdown",
      "source": [
        "---\n",
        "<a id='step6'></a>\n",
        "## Step 6: Write your Algorithm\n",
        "\n",
        "Write an algorithm that accepts a file path to an image and first determines whether the image contains a human, dog, or neither.  Then,\n",
        "- if a __dog__ is detected in the image, return the predicted breed.\n",
        "- if a __human__ is detected in the image, return the resembling dog breed.\n",
        "- if __neither__ is detected in the image, provide output that indicates an error.\n",
        "\n",
        "You are welcome to write your own functions for detecting humans and dogs in images, but feel free to use the `face_detector` and `dog_detector` functions developed above.  You are __required__ to use your CNN from Step 5 to predict dog breed.  \n",
        "\n",
        "Some sample output for our algorithm is provided below, but feel free to design your own user experience!\n",
        "\n",
        "![Sample Human Output](https://drive.google.com/uc?id=1GEBZffqkcwaDNq-m82nULs-v7PerdKbh)\n",
        "\n",
        "\n",
        "### (IMPLEMENTATION) Write your Algorithm"
      ]
    },
    {
      "metadata": {
        "id": "mhyoxrt2ESGM",
        "colab_type": "code",
        "colab": {}
      },
      "cell_type": "code",
      "source": [
        "### TODO: Write your algorithm.\n",
        "### Feel free to use as many code cells as needed."
      ],
      "execution_count": 0,
      "outputs": []
    },
    {
      "metadata": {
        "id": "eoAGcARwESGO",
        "colab_type": "text"
      },
      "cell_type": "markdown",
      "source": [
        "---\n",
        "<a id='step7'></a>\n",
        "## Step 7: Test Your Algorithm\n",
        "\n",
        "In this section, you will take your new algorithm for a spin!  What kind of dog does the algorithm think that __you__ look like?  If you have a dog, does it predict your dog's breed accurately?  If you have a cat, does it mistakenly think that your cat is a dog?\n",
        "\n",
        "### (IMPLEMENTATION) Test Your Algorithm on Sample Images!\n",
        "\n",
        "Test your algorithm at least six images on your computer.  Feel free to use any images you like.  Use at least two human and two dog images.  \n",
        "\n",
        "__Question 6:__ Is the output better than you expected :) ?  Or worse :( ?  Provide at least three possible points of improvement for your algorithm.\n",
        "\n",
        "__Answer:__ "
      ]
    },
    {
      "metadata": {
        "id": "KqpBC6flESGO",
        "colab_type": "code",
        "colab": {}
      },
      "cell_type": "code",
      "source": [
        "## TODO: Execute your algorithm from Step 6 on\n",
        "## at least 6 images on your computer.\n",
        "## Feel free to use as many code cells as needed."
      ],
      "execution_count": 0,
      "outputs": []
    }
  ]
}