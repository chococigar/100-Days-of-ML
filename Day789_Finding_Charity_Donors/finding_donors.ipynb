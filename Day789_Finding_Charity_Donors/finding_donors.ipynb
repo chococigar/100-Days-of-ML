{
  "nbformat": 4,
  "nbformat_minor": 0,
  "metadata": {
    "colab": {
      "name": "finding_donors.ipynb",
      "version": "0.3.2",
      "provenance": []
    },
    "kernelspec": {
      "name": "python2",
      "display_name": "Python 2"
    },
    "accelerator": "GPU"
  },
  "cells": [
    {
      "metadata": {
        "id": "cWyq4Fu2KlrK",
        "colab_type": "text"
      },
      "cell_type": "markdown",
      "source": [
        "Welcome to the second project of the Machine Learning Engineer Nanodegree! In this notebook, some template code has already been provided for you, and it will be your job to implement the additional functionality necessary to successfully complete this project. Sections that begin with **'Implementation'** in the header indicate that the following block of code will require additional functionality which you must provide. Instructions will be provided for each section and the specifics of the implementation are marked in the code block with a `'TODO'` statement. Please be sure to read the instructions carefully!\n",
        "\n",
        "In addition to implementing code, there will be questions that you must answer which relate to the project and your implementation. Each section where you will answer a question is preceded by a **'Question X'** header. Carefully read each question and provide thorough answers in the following text boxes that begin with **'Answer:'**. Your project submission will be evaluated based on your answers to each of the questions and the implementation you provide.  \n",
        "\n",
        ">**Note:** Code and Markdown cells can be executed using the **Shift + Enter** keyboard shortcut. In addition, Markdown cells can be edited by typically double-clicking the cell to enter edit mode."
      ]
    },
    {
      "metadata": {
        "id": "z6i8rHBkKlrM",
        "colab_type": "text"
      },
      "cell_type": "markdown",
      "source": [
        "# Machine Learning Engineer Nanodegree\n",
        "## Supervised Learning\n",
        "## Project: Finding Donors for *CharityML*"
      ]
    },
    {
      "metadata": {
        "id": "k2yJ2T9pKlrN",
        "colab_type": "text"
      },
      "cell_type": "markdown",
      "source": [
        "## Getting Started\n",
        "\n",
        "In this project, you will employ several supervised algorithms of your choice to accurately model individuals' income using data collected from the 1994 U.S. Census. You will then choose the best candidate algorithm from preliminary results and further optimize this algorithm to best model the data. Your goal with this implementation is to construct a model that accurately predicts whether an individual makes more than $50,000. This sort of task can arise in a non-profit setting, where organizations survive on donations.  Understanding an individual's income can help a non-profit better understand how large of a donation to request, or whether or not they should reach out to begin with.  While it can be difficult to determine an individual's general income bracket directly from public sources, we can (as we will see) infer this value from other publically available features. \n",
        "\n",
        "The dataset for this project originates from the [UCI Machine Learning Repository](https://archive.ics.uci.edu/ml/datasets/Census+Income). The datset was donated by Ron Kohavi and Barry Becker, after being published in the article _\"Scaling Up the Accuracy of Naive-Bayes Classifiers: A Decision-Tree Hybrid\"_. You can find the article by Ron Kohavi [online](https://www.aaai.org/Papers/KDD/1996/KDD96-033.pdf). The data we investigate here consists of small changes to the original dataset, such as removing the `'fnlwgt'` feature and records with missing or ill-formatted entries."
      ]
    },
    {
      "metadata": {
        "id": "5B5cklEKKlrO",
        "colab_type": "text"
      },
      "cell_type": "markdown",
      "source": [
        "----\n",
        "## Exploring the Data\n",
        "Run the code cell below to load necessary Python libraries and load the census data. Note that the last column from this dataset, `'income'`, will be our target label (whether an individual makes more than, or at most, $50,000 annually). All other columns are features about each individual in the census database."
      ]
    },
    {
      "metadata": {
        "id": "PDuYl8aUMgAl",
        "colab_type": "code",
        "colab": {
          "resources": {
            "http://localhost:8080/nbextensions/google.colab/files.js": {
              "data": "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",
              "ok": true,
              "headers": [
                [
                  "content-type",
                  "application/javascript"
                ]
              ],
              "status": 200,
              "status_text": ""
            }
          },
          "base_uri": "https://localhost:8080/",
          "height": 121
        },
        "outputId": "80310099-9c9d-4a51-e43f-a46c19553f4d"
      },
      "cell_type": "code",
      "source": [
        "from google.colab import files\n",
        "src = list(files.upload().values())[0]\n",
        "open('visuals.py','wb').write(src)\n",
        "src = list(files.upload().values())[0]\n",
        "open('census.csv','wb').write(src)"
      ],
      "execution_count": 2,
      "outputs": [
        {
          "output_type": "display_data",
          "data": {
            "text/plain": [
              "<IPython.core.display.HTML object>"
            ],
            "text/html": [
              "\n",
              "     <input type=\"file\" id=\"files-0b3d993b-6b99-46b5-bd43-f7311d51478e\" name=\"files[]\" multiple disabled />\n",
              "     <output id=\"result-0b3d993b-6b99-46b5-bd43-f7311d51478e\">\n",
              "      Upload widget is only available when the cell has been executed in the\n",
              "      current browser session. Please rerun this cell to enable.\n",
              "      </output>\n",
              "      <script src=\"/nbextensions/google.colab/files.js\"></script> "
            ]
          },
          "metadata": {
            "tags": []
          }
        },
        {
          "output_type": "stream",
          "text": [
            "Saving visuals.py to visuals.py\n"
          ],
          "name": "stdout"
        },
        {
          "output_type": "display_data",
          "data": {
            "text/plain": [
              "<IPython.core.display.HTML object>"
            ],
            "text/html": [
              "\n",
              "     <input type=\"file\" id=\"files-9312b6a8-7db9-4aaf-bf9e-0365fb3b1380\" name=\"files[]\" multiple disabled />\n",
              "     <output id=\"result-9312b6a8-7db9-4aaf-bf9e-0365fb3b1380\">\n",
              "      Upload widget is only available when the cell has been executed in the\n",
              "      current browser session. Please rerun this cell to enable.\n",
              "      </output>\n",
              "      <script src=\"/nbextensions/google.colab/files.js\"></script> "
            ]
          },
          "metadata": {
            "tags": []
          }
        },
        {
          "output_type": "stream",
          "text": [
            "Saving census.csv to census.csv\n"
          ],
          "name": "stdout"
        }
      ]
    },
    {
      "metadata": {
        "id": "sQbt6GvOKlrQ",
        "colab_type": "code",
        "colab": {
          "base_uri": "https://localhost:8080/",
          "height": 600
        },
        "outputId": "37563850-50a2-48ac-d8d8-938035961948"
      },
      "cell_type": "code",
      "source": [
        "# Import libraries necessary for this project\n",
        "import numpy as np\n",
        "import pandas as pd\n",
        "from time import time\n",
        "from IPython.display import display # Allows the use of display() for DataFrames\n",
        "\n",
        "# Import supplementary visualization code visuals.py\n",
        "#import visuals as vs\n",
        "\n",
        "# Pretty display for notebooks\n",
        "%matplotlib inline\n",
        "\n",
        "# Load the Census dataset\n",
        "data = pd.read_csv(\"census.csv\")\n",
        "\n",
        "# Success - Display the first record\n",
        "display(data.head(n=10))"
      ],
      "execution_count": 3,
      "outputs": [
        {
          "output_type": "display_data",
          "data": {
            "text/plain": [
              "   age          workclass education_level  education-num  \\\n",
              "0   39          State-gov       Bachelors           13.0   \n",
              "1   50   Self-emp-not-inc       Bachelors           13.0   \n",
              "2   38            Private         HS-grad            9.0   \n",
              "3   53            Private            11th            7.0   \n",
              "4   28            Private       Bachelors           13.0   \n",
              "5   37            Private         Masters           14.0   \n",
              "6   49            Private             9th            5.0   \n",
              "7   52   Self-emp-not-inc         HS-grad            9.0   \n",
              "8   31            Private         Masters           14.0   \n",
              "9   42            Private       Bachelors           13.0   \n",
              "\n",
              "           marital-status          occupation    relationship    race  \\\n",
              "0           Never-married        Adm-clerical   Not-in-family   White   \n",
              "1      Married-civ-spouse     Exec-managerial         Husband   White   \n",
              "2                Divorced   Handlers-cleaners   Not-in-family   White   \n",
              "3      Married-civ-spouse   Handlers-cleaners         Husband   Black   \n",
              "4      Married-civ-spouse      Prof-specialty            Wife   Black   \n",
              "5      Married-civ-spouse     Exec-managerial            Wife   White   \n",
              "6   Married-spouse-absent       Other-service   Not-in-family   Black   \n",
              "7      Married-civ-spouse     Exec-managerial         Husband   White   \n",
              "8           Never-married      Prof-specialty   Not-in-family   White   \n",
              "9      Married-civ-spouse     Exec-managerial         Husband   White   \n",
              "\n",
              "       sex  capital-gain  capital-loss  hours-per-week  native-country income  \n",
              "0     Male        2174.0           0.0            40.0   United-States  <=50K  \n",
              "1     Male           0.0           0.0            13.0   United-States  <=50K  \n",
              "2     Male           0.0           0.0            40.0   United-States  <=50K  \n",
              "3     Male           0.0           0.0            40.0   United-States  <=50K  \n",
              "4   Female           0.0           0.0            40.0            Cuba  <=50K  \n",
              "5   Female           0.0           0.0            40.0   United-States  <=50K  \n",
              "6   Female           0.0           0.0            16.0         Jamaica  <=50K  \n",
              "7     Male           0.0           0.0            45.0   United-States   >50K  \n",
              "8   Female       14084.0           0.0            50.0   United-States   >50K  \n",
              "9     Male        5178.0           0.0            40.0   United-States   >50K  "
            ],
            "text/html": [
              "<div>\n",
              "<style scoped>\n",
              "    .dataframe tbody tr th:only-of-type {\n",
              "        vertical-align: middle;\n",
              "    }\n",
              "\n",
              "    .dataframe tbody tr th {\n",
              "        vertical-align: top;\n",
              "    }\n",
              "\n",
              "    .dataframe thead th {\n",
              "        text-align: right;\n",
              "    }\n",
              "</style>\n",
              "<table border=\"1\" class=\"dataframe\">\n",
              "  <thead>\n",
              "    <tr style=\"text-align: right;\">\n",
              "      <th></th>\n",
              "      <th>age</th>\n",
              "      <th>workclass</th>\n",
              "      <th>education_level</th>\n",
              "      <th>education-num</th>\n",
              "      <th>marital-status</th>\n",
              "      <th>occupation</th>\n",
              "      <th>relationship</th>\n",
              "      <th>race</th>\n",
              "      <th>sex</th>\n",
              "      <th>capital-gain</th>\n",
              "      <th>capital-loss</th>\n",
              "      <th>hours-per-week</th>\n",
              "      <th>native-country</th>\n",
              "      <th>income</th>\n",
              "    </tr>\n",
              "  </thead>\n",
              "  <tbody>\n",
              "    <tr>\n",
              "      <th>0</th>\n",
              "      <td>39</td>\n",
              "      <td>State-gov</td>\n",
              "      <td>Bachelors</td>\n",
              "      <td>13.0</td>\n",
              "      <td>Never-married</td>\n",
              "      <td>Adm-clerical</td>\n",
              "      <td>Not-in-family</td>\n",
              "      <td>White</td>\n",
              "      <td>Male</td>\n",
              "      <td>2174.0</td>\n",
              "      <td>0.0</td>\n",
              "      <td>40.0</td>\n",
              "      <td>United-States</td>\n",
              "      <td>&lt;=50K</td>\n",
              "    </tr>\n",
              "    <tr>\n",
              "      <th>1</th>\n",
              "      <td>50</td>\n",
              "      <td>Self-emp-not-inc</td>\n",
              "      <td>Bachelors</td>\n",
              "      <td>13.0</td>\n",
              "      <td>Married-civ-spouse</td>\n",
              "      <td>Exec-managerial</td>\n",
              "      <td>Husband</td>\n",
              "      <td>White</td>\n",
              "      <td>Male</td>\n",
              "      <td>0.0</td>\n",
              "      <td>0.0</td>\n",
              "      <td>13.0</td>\n",
              "      <td>United-States</td>\n",
              "      <td>&lt;=50K</td>\n",
              "    </tr>\n",
              "    <tr>\n",
              "      <th>2</th>\n",
              "      <td>38</td>\n",
              "      <td>Private</td>\n",
              "      <td>HS-grad</td>\n",
              "      <td>9.0</td>\n",
              "      <td>Divorced</td>\n",
              "      <td>Handlers-cleaners</td>\n",
              "      <td>Not-in-family</td>\n",
              "      <td>White</td>\n",
              "      <td>Male</td>\n",
              "      <td>0.0</td>\n",
              "      <td>0.0</td>\n",
              "      <td>40.0</td>\n",
              "      <td>United-States</td>\n",
              "      <td>&lt;=50K</td>\n",
              "    </tr>\n",
              "    <tr>\n",
              "      <th>3</th>\n",
              "      <td>53</td>\n",
              "      <td>Private</td>\n",
              "      <td>11th</td>\n",
              "      <td>7.0</td>\n",
              "      <td>Married-civ-spouse</td>\n",
              "      <td>Handlers-cleaners</td>\n",
              "      <td>Husband</td>\n",
              "      <td>Black</td>\n",
              "      <td>Male</td>\n",
              "      <td>0.0</td>\n",
              "      <td>0.0</td>\n",
              "      <td>40.0</td>\n",
              "      <td>United-States</td>\n",
              "      <td>&lt;=50K</td>\n",
              "    </tr>\n",
              "    <tr>\n",
              "      <th>4</th>\n",
              "      <td>28</td>\n",
              "      <td>Private</td>\n",
              "      <td>Bachelors</td>\n",
              "      <td>13.0</td>\n",
              "      <td>Married-civ-spouse</td>\n",
              "      <td>Prof-specialty</td>\n",
              "      <td>Wife</td>\n",
              "      <td>Black</td>\n",
              "      <td>Female</td>\n",
              "      <td>0.0</td>\n",
              "      <td>0.0</td>\n",
              "      <td>40.0</td>\n",
              "      <td>Cuba</td>\n",
              "      <td>&lt;=50K</td>\n",
              "    </tr>\n",
              "    <tr>\n",
              "      <th>5</th>\n",
              "      <td>37</td>\n",
              "      <td>Private</td>\n",
              "      <td>Masters</td>\n",
              "      <td>14.0</td>\n",
              "      <td>Married-civ-spouse</td>\n",
              "      <td>Exec-managerial</td>\n",
              "      <td>Wife</td>\n",
              "      <td>White</td>\n",
              "      <td>Female</td>\n",
              "      <td>0.0</td>\n",
              "      <td>0.0</td>\n",
              "      <td>40.0</td>\n",
              "      <td>United-States</td>\n",
              "      <td>&lt;=50K</td>\n",
              "    </tr>\n",
              "    <tr>\n",
              "      <th>6</th>\n",
              "      <td>49</td>\n",
              "      <td>Private</td>\n",
              "      <td>9th</td>\n",
              "      <td>5.0</td>\n",
              "      <td>Married-spouse-absent</td>\n",
              "      <td>Other-service</td>\n",
              "      <td>Not-in-family</td>\n",
              "      <td>Black</td>\n",
              "      <td>Female</td>\n",
              "      <td>0.0</td>\n",
              "      <td>0.0</td>\n",
              "      <td>16.0</td>\n",
              "      <td>Jamaica</td>\n",
              "      <td>&lt;=50K</td>\n",
              "    </tr>\n",
              "    <tr>\n",
              "      <th>7</th>\n",
              "      <td>52</td>\n",
              "      <td>Self-emp-not-inc</td>\n",
              "      <td>HS-grad</td>\n",
              "      <td>9.0</td>\n",
              "      <td>Married-civ-spouse</td>\n",
              "      <td>Exec-managerial</td>\n",
              "      <td>Husband</td>\n",
              "      <td>White</td>\n",
              "      <td>Male</td>\n",
              "      <td>0.0</td>\n",
              "      <td>0.0</td>\n",
              "      <td>45.0</td>\n",
              "      <td>United-States</td>\n",
              "      <td>&gt;50K</td>\n",
              "    </tr>\n",
              "    <tr>\n",
              "      <th>8</th>\n",
              "      <td>31</td>\n",
              "      <td>Private</td>\n",
              "      <td>Masters</td>\n",
              "      <td>14.0</td>\n",
              "      <td>Never-married</td>\n",
              "      <td>Prof-specialty</td>\n",
              "      <td>Not-in-family</td>\n",
              "      <td>White</td>\n",
              "      <td>Female</td>\n",
              "      <td>14084.0</td>\n",
              "      <td>0.0</td>\n",
              "      <td>50.0</td>\n",
              "      <td>United-States</td>\n",
              "      <td>&gt;50K</td>\n",
              "    </tr>\n",
              "    <tr>\n",
              "      <th>9</th>\n",
              "      <td>42</td>\n",
              "      <td>Private</td>\n",
              "      <td>Bachelors</td>\n",
              "      <td>13.0</td>\n",
              "      <td>Married-civ-spouse</td>\n",
              "      <td>Exec-managerial</td>\n",
              "      <td>Husband</td>\n",
              "      <td>White</td>\n",
              "      <td>Male</td>\n",
              "      <td>5178.0</td>\n",
              "      <td>0.0</td>\n",
              "      <td>40.0</td>\n",
              "      <td>United-States</td>\n",
              "      <td>&gt;50K</td>\n",
              "    </tr>\n",
              "  </tbody>\n",
              "</table>\n",
              "</div>"
            ]
          },
          "metadata": {
            "tags": []
          }
        }
      ]
    },
    {
      "metadata": {
        "id": "u8TD4n2zKlrZ",
        "colab_type": "text"
      },
      "cell_type": "markdown",
      "source": [
        "### Implementation: Data Exploration\n",
        "A cursory investigation of the dataset will determine how many individuals fit into either group, and will tell us about the percentage of these individuals making more than \\$50,000. In the code cell below, you will need to compute the following:\n",
        "- The total number of records, `'n_records'`\n",
        "- The number of individuals making more than \\$50,000 annually, `'n_greater_50k'`.\n",
        "- The number of individuals making at most \\$50,000 annually, `'n_at_most_50k'`.\n",
        "- The percentage of individuals making more than \\$50,000 annually, `'greater_percent'`.\n",
        "\n",
        "**Hint:** You may need to look at the table above to understand how the `'income'` entries are formatted. "
      ]
    },
    {
      "metadata": {
        "id": "tDbLi-90Klrb",
        "colab_type": "code",
        "colab": {
          "base_uri": "https://localhost:8080/",
          "height": 85
        },
        "outputId": "1585a3f9-4f31-4c5c-c13c-e64b6d10a425"
      },
      "cell_type": "code",
      "source": [
        "# TODO: Total number of records\n",
        "n_records = data.shape[0]\n",
        "\n",
        "# TODO: Number of records where individual's income is more than $50,000\n",
        "#perf speed is len > shape > count\n",
        "n_greater_50k = len(data[(data['income']=='>50K')])\n",
        "\n",
        "# TODO: Number of records where individual's income is at most $50,000\n",
        "n_at_most_50k = n_records - n_greater_50k\n",
        "\n",
        "#data[data['income']==\"<=50K\"].count()\n",
        "# TODO: Percentage of individuals whose income is more than $50,000\n",
        "greater_percent = (n_greater_50k*100.0)/(n_at_most_50k + n_greater_50k)\n",
        "\n",
        "# Print the results\n",
        "print \"Total number of records: {}\".format(n_records)\n",
        "print \"Individuals making more than $50,000: {}\".format(n_greater_50k)\n",
        "print \"Individuals making at most $50,000: {}\".format(n_at_most_50k)\n",
        "print \"Percentage of individuals making more than $50,000: {:.2f}%\".format(greater_percent)"
      ],
      "execution_count": 4,
      "outputs": [
        {
          "output_type": "stream",
          "text": [
            "Total number of records: 45222\n",
            "Individuals making more than $50,000: 11208\n",
            "Individuals making at most $50,000: 34014\n",
            "Percentage of individuals making more than $50,000: 24.78%\n"
          ],
          "name": "stdout"
        }
      ]
    },
    {
      "metadata": {
        "id": "n_FG8UztKlrf",
        "colab_type": "text"
      },
      "cell_type": "markdown",
      "source": [
        "----\n",
        "## Preparing the Data\n",
        "Before data can be used as input for machine learning algorithms, it often must be cleaned, formatted, and restructured — this is typically known as **preprocessing**. Fortunately, for this dataset, there are no invalid or missing entries we must deal with, however, there are some qualities about certain features that must be adjusted. This preprocessing can help tremendously with the outcome and predictive power of nearly all learning algorithms."
      ]
    },
    {
      "metadata": {
        "id": "eCG7iOPuKlrh",
        "colab_type": "text"
      },
      "cell_type": "markdown",
      "source": [
        "### Transforming Skewed Continuous Features\n",
        "A dataset may sometimes contain at least one feature whose values tend to lie near a single number, but will also have a non-trivial number of vastly larger or smaller values than that single number.  Algorithms can be sensitive to such distributions of values and can underperform if the range is not properly normalized. With the census dataset two features fit this description: '`capital-gain'` and `'capital-loss'`. \n",
        "\n",
        "Run the code cell below to plot a histogram of these two features. Note the range of the values present and how they are distributed."
      ]
    },
    {
      "metadata": {
        "id": "G33czhc9U1un",
        "colab_type": "code",
        "colab": {}
      },
      "cell_type": "code",
      "source": [
        "import matplotlib.pyplot as pl\n",
        "import matplotlib.patches as mpatches\n",
        "\n",
        "def distribution(data, transformed = False):\n",
        "    \"\"\"\n",
        "    Visualization code for displaying skewed distributions of features\n",
        "    \"\"\"\n",
        "    \n",
        "    # Create figure\n",
        "    fig = pl.figure(figsize = (11,5));\n",
        "\n",
        "    # Skewed feature plotting\n",
        "    for i, feature in enumerate(['capital-gain','capital-loss']):\n",
        "        ax = fig.add_subplot(1, 2, i+1)\n",
        "        ax.hist(data[feature], bins = 25, color = '#00A0A0')\n",
        "        ax.set_title(\"'%s' Feature Distribution\"%(feature), fontsize = 14)\n",
        "        ax.set_xlabel(\"Value\")\n",
        "        ax.set_ylabel(\"Number of Records\")\n",
        "        ax.set_ylim((0, 2000))\n",
        "        ax.set_yticks([0, 500, 1000, 1500, 2000])\n",
        "        ax.set_yticklabels([0, 500, 1000, 1500, \">2000\"])\n",
        "\n",
        "    # Plot aesthetics\n",
        "    if transformed:\n",
        "        fig.suptitle(\"Log-transformed Distributions of Continuous Census Data Features\", \\\n",
        "            fontsize = 16, y = 1.03)\n",
        "    else:\n",
        "        fig.suptitle(\"Skewed Distributions of Continuous Census Data Features\", \\\n",
        "            fontsize = 16, y = 1.03)\n",
        "\n",
        "    fig.tight_layout()\n",
        "    fig.show()"
      ],
      "execution_count": 0,
      "outputs": []
    },
    {
      "metadata": {
        "id": "G8VSrfUYKlrj",
        "colab_type": "code",
        "colab": {
          "base_uri": "https://localhost:8080/",
          "height": 425
        },
        "outputId": "92cae2d2-6d57-4f41-c8c9-8b54622de389"
      },
      "cell_type": "code",
      "source": [
        "# Split the data into features and target label\n",
        "income_raw = data['income']\n",
        "features_raw = data.drop('income', axis = 1)\n",
        "\n",
        "# Visualize skewed continuous features of original data\n",
        "distribution(data)"
      ],
      "execution_count": 6,
      "outputs": [
        {
          "output_type": "stream",
          "text": [
            "/usr/local/lib/python2.7/dist-packages/matplotlib/figure.py:418: UserWarning: matplotlib is currently using a non-GUI backend, so cannot show the figure\n",
            "  \"matplotlib is currently using a non-GUI backend, \"\n"
          ],
          "name": "stderr"
        },
        {
          "output_type": "display_data",
          "data": {
            "image/png": "[encoded data removed]",
            "text/plain": [
              "<matplotlib.figure.Figure at 0x7f8fd9741090>"
            ]
          },
          "metadata": {
            "tags": []
          }
        }
      ]
    },
    {
      "metadata": {
        "id": "Bua0gcIVKlrq",
        "colab_type": "text"
      },
      "cell_type": "markdown",
      "source": [
        "For highly-skewed feature distributions such as `'capital-gain'` and `'capital-loss'`, it is common practice to apply a <a href=\"https://en.wikipedia.org/wiki/Data_transformation_(statistics)\">logarithmic transformation</a> on the data so that the very large and very small values do not negatively affect the performance of a learning algorithm. Using a logarithmic transformation significantly reduces the range of values caused by outliers. Care must be taken when applying this transformation however: The logarithm of `0` is undefined, so we must translate the values by a small amount above `0` to apply the the logarithm successfully.\n",
        "\n",
        "Run the code cell below to perform a transformation on the data and visualize the results. Again, note the range of values and how they are distributed. "
      ]
    },
    {
      "metadata": {
        "id": "a5A6ZqejKlrq",
        "colab_type": "code",
        "colab": {
          "base_uri": "https://localhost:8080/",
          "height": 391
        },
        "outputId": "ae235713-06e9-44b0-af28-69f95c280f10"
      },
      "cell_type": "code",
      "source": [
        "# Log-transform the skewed features\n",
        "skewed = ['capital-gain', 'capital-loss']\n",
        "features_raw[skewed] = data[skewed].apply(lambda x: np.log(x + 1))\n",
        "\n",
        "# Visualize the new log distributions\n",
        "distribution(features_raw, transformed = True)"
      ],
      "execution_count": 7,
      "outputs": [
        {
          "output_type": "display_data",
          "data": {
            "image/png": "[encoded data removed]",
            "text/plain": [
              "<matplotlib.figure.Figure at 0x7f8fd96bfe10>"
            ]
          },
          "metadata": {
            "tags": []
          }
        }
      ]
    },
    {
      "metadata": {
        "id": "erKAVe3FKlru",
        "colab_type": "text"
      },
      "cell_type": "markdown",
      "source": [
        "### Normalizing Numerical Features\n",
        "In addition to performing transformations on features that are highly skewed, it is often good practice to perform some type of scaling on numerical features. Applying a scaling to the data does not change the shape of each feature's distribution (such as `'capital-gain'` or `'capital-loss'` above); however, normalization ensures that each feature is treated equally when applying supervised learners. Note that once scaling is applied, observing the data in its raw form will no longer have the same original meaning, as exampled below.\n",
        "\n",
        "Run the code cell below to normalize each numerical feature. We will use [`sklearn.preprocessing.MinMaxScaler`](http://scikit-learn.org/stable/modules/generated/sklearn.preprocessing.MinMaxScaler.html) for this."
      ]
    },
    {
      "metadata": {
        "id": "-EK1XErPKlrw",
        "colab_type": "code",
        "colab": {
          "base_uri": "https://localhost:8080/",
          "height": 97
        },
        "outputId": "884d30fa-0686-4003-994a-37f84815e507"
      },
      "cell_type": "code",
      "source": [
        "# Import sklearn.preprocessing.StandardScaler\n",
        "from sklearn.preprocessing import MinMaxScaler\n",
        "\n",
        "# Initialize a scaler, then apply it to the features\n",
        "scaler = MinMaxScaler()\n",
        "numerical = ['age', 'education-num', 'capital-gain', 'capital-loss', 'hours-per-week']\n",
        "features_raw[numerical] = scaler.fit_transform(data[numerical])\n",
        "\n",
        "# Show an example of a record with scaling applied\n",
        "display(features_raw.head(n = 1))"
      ],
      "execution_count": 8,
      "outputs": [
        {
          "output_type": "display_data",
          "data": {
            "text/plain": [
              "       age   workclass education_level  education-num  marital-status  \\\n",
              "0  0.30137   State-gov       Bachelors            0.8   Never-married   \n",
              "\n",
              "      occupation    relationship    race    sex  capital-gain  capital-loss  \\\n",
              "0   Adm-clerical   Not-in-family   White   Male       0.02174           0.0   \n",
              "\n",
              "   hours-per-week  native-country  \n",
              "0        0.397959   United-States  "
            ],
            "text/html": [
              "<div>\n",
              "<style scoped>\n",
              "    .dataframe tbody tr th:only-of-type {\n",
              "        vertical-align: middle;\n",
              "    }\n",
              "\n",
              "    .dataframe tbody tr th {\n",
              "        vertical-align: top;\n",
              "    }\n",
              "\n",
              "    .dataframe thead th {\n",
              "        text-align: right;\n",
              "    }\n",
              "</style>\n",
              "<table border=\"1\" class=\"dataframe\">\n",
              "  <thead>\n",
              "    <tr style=\"text-align: right;\">\n",
              "      <th></th>\n",
              "      <th>age</th>\n",
              "      <th>workclass</th>\n",
              "      <th>education_level</th>\n",
              "      <th>education-num</th>\n",
              "      <th>marital-status</th>\n",
              "      <th>occupation</th>\n",
              "      <th>relationship</th>\n",
              "      <th>race</th>\n",
              "      <th>sex</th>\n",
              "      <th>capital-gain</th>\n",
              "      <th>capital-loss</th>\n",
              "      <th>hours-per-week</th>\n",
              "      <th>native-country</th>\n",
              "    </tr>\n",
              "  </thead>\n",
              "  <tbody>\n",
              "    <tr>\n",
              "      <th>0</th>\n",
              "      <td>0.30137</td>\n",
              "      <td>State-gov</td>\n",
              "      <td>Bachelors</td>\n",
              "      <td>0.8</td>\n",
              "      <td>Never-married</td>\n",
              "      <td>Adm-clerical</td>\n",
              "      <td>Not-in-family</td>\n",
              "      <td>White</td>\n",
              "      <td>Male</td>\n",
              "      <td>0.02174</td>\n",
              "      <td>0.0</td>\n",
              "      <td>0.397959</td>\n",
              "      <td>United-States</td>\n",
              "    </tr>\n",
              "  </tbody>\n",
              "</table>\n",
              "</div>"
            ]
          },
          "metadata": {
            "tags": []
          }
        }
      ]
    },
    {
      "metadata": {
        "id": "4ffl5iGiKlr2",
        "colab_type": "text"
      },
      "cell_type": "markdown",
      "source": [
        "### Implementation: Data Preprocessing\n",
        "\n",
        "From the table in **Exploring the Data** above, we can see there are several features for each record that are non-numeric. Typically, learning algorithms expect input to be numeric, which requires that non-numeric features (called *categorical variables*) be converted. One popular way to convert categorical variables is by using the **one-hot encoding** scheme. One-hot encoding creates a _\"dummy\"_ variable for each possible category of each non-numeric feature. For example, assume `someFeature` has three possible entries: `A`, `B`, or `C`. We then encode this feature into `someFeature_A`, `someFeature_B` and `someFeature_C`.\n",
        "\n",
        "|   | someFeature |                    | someFeature_A | someFeature_B | someFeature_C |\n",
        "| :-: | :-: |                            | :-: | :-: | :-: |\n",
        "| 0 |  B  |  | 0 | 1 | 0 |\n",
        "| 1 |  C  | ----> one-hot encode ----> | 0 | 0 | 1 |\n",
        "| 2 |  A  |  | 1 | 0 | 0 |\n",
        "\n",
        "Additionally, as with the non-numeric features, we need to convert the non-numeric target label, `'income'` to numerical values for the learning algorithm to work. Since there are only two possible categories for this label (\"<=50K\" and \">50K\"), we can avoid using one-hot encoding and simply encode these two categories as `0` and `1`, respectively. In code cell below, you will need to implement the following:\n",
        " - Use [`pandas.get_dummies()`](http://pandas.pydata.org/pandas-docs/stable/generated/pandas.get_dummies.html?highlight=get_dummies#pandas.get_dummies) to perform one-hot encoding on the `'features_raw'` data.\n",
        " - Convert the target label `'income_raw'` to numerical entries.\n",
        "   - Set records with \"<=50K\" to `0` and records with \">50K\" to `1`."
      ]
    },
    {
      "metadata": {
        "scrolled": true,
        "id": "JoUOySZuKlr3",
        "colab_type": "code",
        "colab": {
          "base_uri": "https://localhost:8080/",
          "height": 51
        },
        "outputId": "2ece549a-e37c-44cd-82a8-74297315e925"
      },
      "cell_type": "code",
      "source": [
        "# TODO: One-hot encode the 'features_raw' data using pandas.get_dummies()\n",
        "features = pd.get_dummies(features_raw)\n",
        "\n",
        "# TODO: Encode the 'income_raw' data to numerical values\n",
        "#income_raw = income_raw.apply(lambda x: 1 if x == \">50K\" else 0)\n",
        "income = pd.get_dummies(income_raw)['>50K']\n",
        "print(\"Total number confirmation {}\".format(sum(income)))\n",
        "\n",
        "# Print the number of features after one-hot encoding\n",
        "print(\"Number of features after one-hot encoding : {}\".format(len(features.columns)))\n",
        "\n",
        "# Uncomment the following line to see the encoded feature names\n",
        "#print encoded"
      ],
      "execution_count": 9,
      "outputs": [
        {
          "output_type": "stream",
          "text": [
            "Total number confirmation 11208\n",
            "Number of features after one-hot encoding : 103\n"
          ],
          "name": "stdout"
        }
      ]
    },
    {
      "metadata": {
        "id": "EMDo9j8ZKlr7",
        "colab_type": "text"
      },
      "cell_type": "markdown",
      "source": [
        "### Shuffle and Split Data\n",
        "Now all _categorical variables_ have been converted into numerical features, and all numerical features have been normalized. As always, we will now split the data (both features and their labels) into training and test sets. 80% of the data will be used for training and 20% for testing.\n",
        "\n",
        "Run the code cell below to perform this split."
      ]
    },
    {
      "metadata": {
        "id": "X6cCYhE7Klr8",
        "colab_type": "code",
        "colab": {
          "base_uri": "https://localhost:8080/",
          "height": 105
        },
        "outputId": "d1ac3d31-9fe9-4eb4-8044-5dce57101656"
      },
      "cell_type": "code",
      "source": [
        "# Import train_test_split\n",
        "from sklearn.cross_validation import train_test_split\n",
        "\n",
        "# Split the 'features' and 'income' data into training and testing sets\n",
        "X_train, X_test, y_train, y_test = train_test_split(features, income, test_size = 0.2, random_state = 0)\n",
        "\n",
        "# Show the results of the split\n",
        "print \"Training set has {} samples.\".format(X_train.shape[0])\n",
        "print \"Testing set has {} samples.\".format(X_test.shape[0])"
      ],
      "execution_count": 10,
      "outputs": [
        {
          "output_type": "stream",
          "text": [
            "Training set has 36177 samples.\n",
            "Testing set has 9045 samples.\n"
          ],
          "name": "stdout"
        },
        {
          "output_type": "stream",
          "text": [
            "/usr/local/lib/python2.7/dist-packages/sklearn/cross_validation.py:41: DeprecationWarning: This module was deprecated in version 0.18 in favor of the model_selection module into which all the refactored classes and functions are moved. Also note that the interface of the new CV iterators are different from that of this module. This module will be removed in 0.20.\n",
            "  \"This module will be removed in 0.20.\", DeprecationWarning)\n"
          ],
          "name": "stderr"
        }
      ]
    },
    {
      "metadata": {
        "id": "OxoSI4lkKlsA",
        "colab_type": "text"
      },
      "cell_type": "markdown",
      "source": [
        "----\n",
        "## Evaluating Model Performance\n",
        "In this section, we will investigate four different algorithms, and determine which is best at modeling the data. Three of these algorithms will be supervised learners of your choice, and the fourth algorithm is known as a *naive predictor*."
      ]
    },
    {
      "metadata": {
        "id": "Segu-K0OKlsB",
        "colab_type": "text"
      },
      "cell_type": "markdown",
      "source": [
        "### Metrics and the Naive Predictor\n",
        "*CharityML*, equipped with their research, knows individuals that make more than \\$50,000 are most likely to donate to their charity. Because of this, *CharityML* is particularly interested in predicting who makes more than \\$50,000 accurately. It would seem that using **accuracy** as a metric for evaluating a particular model's performace would be appropriate. Additionally, identifying someone that *does not* make more than \\$50,000 as someone who does would be detrimental to *CharityML*, since they are looking to find individuals willing to donate. Therefore, a model's ability to precisely predict those that make more than \\$50,000 is *more important* than the model's ability to **recall** those individuals. We can use **F-beta score** as a metric that considers both precision and recall:\n",
        "\n",
        "$$ F_{\\beta} = (1 + \\beta^2) \\cdot \\frac{precision \\cdot recall}{\\left( \\beta^2 \\cdot precision \\right) + recall} $$\n",
        "\n",
        "In particular, when $\\beta = 0.5$, more emphasis is placed on precision. This is called the **F$_{0.5}$ score** (or F-score for simplicity).\n",
        "\n",
        "Looking at the distribution of classes (those who make at most \\$50,000, and those who make more), it's clear most individuals do not make more than \\$50,000. This can greatly affect **accuracy**, since we could simply say *\"this person does not make more than \\$50,000\"* and generally be right, without ever looking at the data! Making such a statement would be called **naive**, since we have not considered any information to substantiate the claim. It is always important to consider the **naive prediction** for your data, to help establish a benchmark for whether a model is performing well. That been said, using that prediction would be pointless: If we predicted all people made less than \\$50,000, *CharityML* would identify no one as donors. "
      ]
    },
    {
      "metadata": {
        "id": "o3qb1skOKlsE",
        "colab_type": "text"
      },
      "cell_type": "markdown",
      "source": [
        "### Question 1 - Naive Predictor Performace\n",
        "*If we chose a model that always predicted an individual made more than \\$50,000, what would that model's accuracy and F-score be on this dataset?*  \n",
        "**Note:** You must use the code cell below and assign your results to `'accuracy'` and `'fscore'` to be used later."
      ]
    },
    {
      "metadata": {
        "id": "Q2qqrW0AKlsG",
        "colab_type": "code",
        "colab": {
          "base_uri": "https://localhost:8080/",
          "height": 85
        },
        "outputId": "506a8661-1017-4cb7-f5ad-ada37e41c1e5"
      },
      "cell_type": "code",
      "source": [
        "# TODO: Calculate accuracy\n",
        "\n",
        "from sklearn.metrics import accuracy_score, recall_score, fbeta_score\n",
        "\n",
        "\n",
        "income_np = pd.Series([1]*len(income))\n",
        "\n",
        "# accuracy = (TP+TN)/(TP+FP+TN+FN); which in this case is same as accuracy. \n",
        "# precision = TP/(TP+FP)\n",
        "TP = sum(income)\n",
        "FP = len(income)-sum(income)\n",
        "FN = 0\n",
        "TN = 0\n",
        "\n",
        "accuracy = float(TP)/(TP+FP)\n",
        "accuracy_calc = accuracy_score(income, income_np)\n",
        "print ('accuracy confirmation : {}, {}'.format(accuracy, accuracy_calc))\n",
        "\n",
        "\n",
        "recall=float(TP)/(TP+FN)\n",
        "recall_calc=recall_score(income,income_np)\n",
        "print ('recall confirmation : {}, {}'.format(recall, recall_calc))\n",
        "\n",
        "# TODO: Calculate F-score using the formula above for beta = 0.5\n",
        "beta = 0.5\n",
        "fscore = float((1+beta**2)*accuracy*recall)/(beta**2 * accuracy + recall)\n",
        "\n",
        "\n",
        "fscore_calc=fbeta_score(income, income_np, beta=0.5)\n",
        "print ('fscore confirmation : {}, {}'.format(fscore, fscore_calc))\n",
        "\n",
        "# Print the results \n",
        "print \"Naive Predictor: [Accuracy score: {:.4f}, F-score: {:.4f}]\".format(accuracy, fscore)"
      ],
      "execution_count": 11,
      "outputs": [
        {
          "output_type": "stream",
          "text": [
            "accuracy confirmation : 0.247843969749, 0.247843969749\n",
            "recall confirmation : 1.0, 1.0\n",
            "fscore confirmation : 0.291729135432, 0.291729135432\n",
            "Naive Predictor: [Accuracy score: 0.2478, F-score: 0.2917]\n"
          ],
          "name": "stdout"
        }
      ]
    },
    {
      "metadata": {
        "id": "YuRgb7bYKlsJ",
        "colab_type": "text"
      },
      "cell_type": "markdown",
      "source": [
        "###  Supervised Learning Models\n",
        "**The following supervised learning models are currently available in** [`scikit-learn`](http://scikit-learn.org/stable/supervised_learning.html) **that you may choose from:**\n",
        "- Gaussian Naive Bayes (GaussianNB)\n",
        "- Decision Trees\n",
        "- Ensemble Methods (Bagging, AdaBoost, Random Forest, Gradient Boosting)\n",
        "- K-Nearest Neighbors (KNeighbors)\n",
        "- Stochastic Gradient Descent Classifier (SGDC)\n",
        "- Support Vector Machines (SVM)\n",
        "- Logistic Regression"
      ]
    },
    {
      "metadata": {
        "id": "L_5P4ZzI6dxi",
        "colab_type": "text"
      },
      "cell_type": "markdown",
      "source": [
        "# Self note\n",
        "\n",
        "*   Ensemble = Combining multiple hypothesis into one. (ex : 5 classifiers for majority voting)\n",
        "*   Combine by consensus = **Bagging**, **random forest**, model averaging of probabilities\n",
        "  *   Bagging : \n",
        "      *  Bagging works because different model don't usually make all same errors on test set. \n",
        "      * parallel ensemble; each model built independently\n",
        "      * Aim : decrease variance, not bias suitable for high variance, low variance model (complex models)\n",
        "*   Combine by learning = **Boosting**, rule ensemble, Bayesian model averaging (ex : OCRaccuracy)\n",
        "  *   Boosting \n",
        "      * Sequential ensemble : try to add new models that do well where previous models lack\n",
        "      * Aim : decrease bias, not variance\n",
        "      * suitable for low variance high bias model\n",
        "  \n",
        "![alt text](https://i.stack.imgur.com/RFfqb.png)\n",
        "\n"
      ]
    },
    {
      "metadata": {
        "id": "uFG8ak8kKlsK",
        "colab_type": "text"
      },
      "cell_type": "markdown",
      "source": [
        "### Question 2 - Model Application\n",
        "List three of the supervised learning models above that are appropriate for this problem that you will test on the census data. For each model chosen\n",
        "- *Describe one real-world application in industry where the model can be applied.* (You may need to do research for this — give references!)\n",
        "- *What are the strengths of the model; when does it perform well?*\n",
        "- *What are the weaknesses of the model; when does it perform poorly?*\n",
        "- *What makes this model a good candidate for the problem, given what you know about the data?*"
      ]
    },
    {
      "metadata": {
        "id": "qyx24k6hKlsM",
        "colab_type": "text"
      },
      "cell_type": "markdown",
      "source": [
        "**Answer:**\n",
        "\n",
        "I personally favor random forest, SVM, and SGDC. \n",
        "\n",
        "[0] **Gaussian Naive Bayes** :\n",
        "- Real-world application : \n",
        "  - Real-time prediction, multi-class prediction\n",
        "  - Text classification / spam filtering / sentiment analysis\n",
        "- Strengths : \n",
        "  -  Easy, **fast,** and performs well in **multi-class prediction. **\n",
        "  - Works with **small data**\n",
        "  - under independence assumption performs better than logistic regression\n",
        "- Weaknesses : \n",
        "  -  Previously unobserved categories will be assigned 0, as the model cannot make a prediction. (aka \"Zero Frequency\")\n",
        "  - The predictors are assumed to be completely are assumed to be completely independent. \n",
        "- Reason for candidacy : \n",
        "\n",
        "\n",
        "[1] **Decision Trees** :\n",
        "![Decision Trees](https://upload.wikimedia.org/wikipedia/commons/f/f3/CART_tree_titanic_survivors.png)\n",
        "- Real-world application : Classification problems with a feature vecotr (ex : credit scoring, crime risk, failure prediction). \n",
        "- Strengths : Fast, able to deal with a lot of variables, more robust to data that is not normalized / skewed. \n",
        "- Weaknesses : Model is susceptible to being unstable with a small variance. Further, updating a large decision tree with new data can be ineffective, making the model difficult to work with new data. \n",
        "- Reason for candidacy : Nonetheless, decision trees can be fast. \n",
        "\n",
        "[2] **Random Forest(Ensamble Methods)** :\n",
        "- Real-world application : Banking - to find loyal customers and fraud customers\n",
        "- Strengths : Avoids overfitting problems (Combine by consensus), can be used for both classification / regression, can be used for **feature engineering** (identifying the most important features), can train model even with small sample (but don't benefit from more samples with a large model), based on bootstrap sampling\n",
        "- Weaknesses : Not good for simple models (high bias, low variance), doesn't work well with trare outcomes/predictors. \n",
        "- Reason for candidacy : Computational cost is low\n",
        "\n",
        "[3] **K-nearest Neighbors**\n",
        "- Real-world application : Recommender systems; suggest something similar to an item. \n",
        "- Strengths : Can work with arbitrary number of data, works unsupervised\n",
        "- Weaknesses : Time complexity can be very large\n",
        "- Reason for candidacy : \n",
        "\n",
        "[4] **SGDC**\n",
        "- Real-world application : \n",
        "- Strengths : Works well with large data, benefits from more data, \n",
        "- Weaknesses : Need hyper parameter tuning, \n",
        "- Reason for candidacy : \n",
        "\n",
        "[5] **SVM**\n",
        "- Real-world application : Detecting whether an image has a face or no face based on its max-margin classification.\n",
        "- Strengths : Can use with (non-linear) kernal if data not linearly separable\n",
        "- Weaknesses : Some are not linearly separable,  (ex : a case where two classifications are best represented as a circle inside a donut). In this case, SVM is often used with PCA to map the loewr dimension to a higher dimension to assist separation of the two classifiable fields.\n",
        "- Reason for candidacy : Binary result\n",
        "\n",
        "[6] **Logistic Regression** \n",
        "- Real-world application : Given the symptoms, predict the diseases a patient suffers. \n",
        "- Strengths : Can determine the relationship between one dependent binary variable and 1+ independent variables, which can be used for prediction. The dependent and independent variables need not have a linear relationship. Predicts the probabilities of a dataset being in a certain binary classification.\n",
        "- Weaknesses : The dependent variable should be binary, and independent variables should not be correlated among each other. Further, there should be no outliers in the data, and data should have high correlation. Further, the independent variables are expected to be correlated to log odds. Lastly, logistic regression needs typically at least 10 cases. \n",
        "- Reason for candidacy : Binary result\n",
        "\n",
        "![alt text](https://i.stack.imgur.com/Mx8Af.jpg)\n",
        "\n"
      ]
    },
    {
      "metadata": {
        "id": "Pfv3OMvKKlsN",
        "colab_type": "text"
      },
      "cell_type": "markdown",
      "source": [
        "### Implementation - Creating a Training and Predicting Pipeline\n",
        "To properly evaluate the performance of each model you've chosen, it's important that you create a training and predicting pipeline that allows you to quickly and effectively train models using various sizes of training data and perform predictions on the testing data. Your implementation here will be used in the following section.\n",
        "In the code block below, you will need to implement the following:\n",
        " - Import `fbeta_score` and `accuracy_score` from [`sklearn.metrics`](http://scikit-learn.org/stable/modules/classes.html#sklearn-metrics-metrics).\n",
        " - Fit the learner to the sampled training data and record the training time.\n",
        " - Perform predictions on the test data `X_test`, and also on the first 300 training points `X_train[:300]`.\n",
        "   - Record the total prediction time.\n",
        " - Calculate the accuracy score for both the training subset and testing set.\n",
        " - Calculate the F-score for both the training subset and testing set.\n",
        "   - Make sure that you set the `beta` parameter!"
      ]
    },
    {
      "metadata": {
        "id": "5zzWmYLAKlsN",
        "colab_type": "code",
        "colab": {}
      },
      "cell_type": "code",
      "source": [
        "# TODO: Import two metrics from sklearn - fbeta_score and accuracy_score\n",
        "from sklearn.metrics import fbeta_score, accuracy_score\n",
        "\n",
        "\n",
        "def train_predict(learner, sample_size, X_train, y_train, X_test, y_test): \n",
        "    '''\n",
        "    inputs:\n",
        "       - learner: the learning algorithm to be trained and predicted on\n",
        "       - sample_size: the size of samples (number) to be drawn from training set\n",
        "       - X_train: features training set\n",
        "       - y_train: income training set\n",
        "       - X_test: features testing set\n",
        "       - y_test: income testing set\n",
        "    '''\n",
        "\n",
        "    results = {}\n",
        "    \n",
        "    # TODO: Fit the learner to the training data using slicing with 'sample_size'\n",
        "    start = time()\n",
        "    learner.fit(X_train[:sample_size], y_train[:sample_size])\n",
        "    end = time()\n",
        "   \n",
        "    # TODO: Calculate the training time\n",
        "    results['train_time'] = end - start\n",
        "        \n",
        "    # TODO: Get the predictions on the test set,\n",
        "    #       then get predictions on the first 300 training samples\n",
        "    \n",
        "    start = time() # Get start time\n",
        "    y_test_pred = learner.predict(X_test)\n",
        "    y_train_pred = learner.predict(X_train[:sample_size])\n",
        "    end = time() # Get end time\n",
        "    \n",
        "    # TODO: Calculate the total prediction time\n",
        "    results['pred_time'] = end - start\n",
        "            \n",
        "    # TODO: Compute accuracy on the first 300 training samples\n",
        "    results['acc_train'] = accuracy_score(y_train[:sample_size], y_train_pred[:sample_size])\n",
        "    \n",
        "    # TODO: Compute accuracy on test set\n",
        "    results['acc_test'] = accuracy_score(y_test, y_test_pred)  \n",
        "            \n",
        "    # TODO: Compute F-score on the the first 300 training samples\n",
        "    results['f_train']=fbeta_score(y_train[:sample_size], y_train_pred[:sample_size], beta=0.5)\n",
        "    \n",
        "    # TODO: Compute F-score on the test set\n",
        "    results['f_test']=fbeta_score(y_test, y_test_pred, beta=0.5)\n",
        "    \n",
        "    # Success\n",
        "    print \"{} trained on {} samples.\".format(learner.__class__.__name__, sample_size)\n",
        "        \n",
        "    # Return the results\n",
        " \n",
        "    return results"
      ],
      "execution_count": 0,
      "outputs": []
    },
    {
      "metadata": {
        "id": "H3XecpAfKlsR",
        "colab_type": "text"
      },
      "cell_type": "markdown",
      "source": [
        "### Implementation: Initial Model Evaluation\n",
        "In the code cell, you will need to implement the following:\n",
        "- Import the three supervised learning models you've discussed in the previous section.\n",
        "- Initialize the three models and store them in `'clf_A'`, `'clf_B'`, and `'clf_C'`.\n",
        "  - Use a `'random_state'` for each model you use, if provided.\n",
        "  - **Note:** Use the default settings for each model — you will tune one specific model in a later section.\n",
        "- Calculate the number of records equal to 1%, 10%, and 100% of the training data.\n",
        "  - Store those values in `'samples_1'`, `'samples_10'`, and `'samples_100'` respectively.\n",
        "\n",
        "**Note:** Depending on which algorithms you chose, the following implementation may take some time to run!"
      ]
    },
    {
      "metadata": {
        "id": "l6GmTXy9Q2k9",
        "colab_type": "code",
        "colab": {}
      },
      "cell_type": "code",
      "source": [
        "def evaluate(results, accuracy, f1):\n",
        "    \"\"\"\n",
        "    Visualization code to display results of various learners.\n",
        "    \n",
        "    inputs:\n",
        "      - learners: a list of supervised learners\n",
        "      - stats: a list of dictionaries of the statistic results from 'train_predict()'\n",
        "      - accuracy: The score for the naive predictor\n",
        "      - f1: The score for the naive predictor\n",
        "    \"\"\"\n",
        "  \n",
        "    # Create figure\n",
        "    fig, ax = pl.subplots(2, 3, figsize = (11,7))\n",
        "\n",
        "    # Constants\n",
        "    bar_width = 0.3\n",
        "    colors = ['#A00000','#00A0A0','#00A000']\n",
        "    \n",
        "    # Super loop to plot four panels of data\n",
        "    for k, learner in enumerate(results.keys()):\n",
        "        for j, metric in enumerate(['train_time', 'acc_train', 'f_train', 'pred_time', 'acc_test', 'f_test']):\n",
        "            for i in np.arange(3):\n",
        "                \n",
        "                # Creative plot code\n",
        "                ax[j/3, j%3].bar(i+k*bar_width, results[learner][i][metric], width = bar_width, color = colors[k])\n",
        "                ax[j/3, j%3].set_xticks([0.45, 1.45, 2.45])\n",
        "                ax[j/3, j%3].set_xticklabels([\"1%\", \"10%\", \"100%\"])\n",
        "                ax[j/3, j%3].set_xlabel(\"Training Set Size\")\n",
        "                ax[j/3, j%3].set_xlim((-0.1, 3.0))\n",
        "    \n",
        "    # Add unique y-labels\n",
        "    ax[0, 0].set_ylabel(\"Time (in seconds)\")\n",
        "    ax[0, 1].set_ylabel(\"Accuracy Score\")\n",
        "    ax[0, 2].set_ylabel(\"F-score\")\n",
        "    ax[1, 0].set_ylabel(\"Time (in seconds)\")\n",
        "    ax[1, 1].set_ylabel(\"Accuracy Score\")\n",
        "    ax[1, 2].set_ylabel(\"F-score\")\n",
        "    \n",
        "    # Add titles\n",
        "    ax[0, 0].set_title(\"Model Training\")\n",
        "    ax[0, 1].set_title(\"Accuracy Score on Training Subset\")\n",
        "    ax[0, 2].set_title(\"F-score on Training Subset\")\n",
        "    ax[1, 0].set_title(\"Model Predicting\")\n",
        "    ax[1, 1].set_title(\"Accuracy Score on Testing Set\")\n",
        "    ax[1, 2].set_title(\"F-score on Testing Set\")\n",
        "    \n",
        "    # Add horizontal lines for naive predictors\n",
        "    ax[0, 1].axhline(y = accuracy, xmin = -0.1, xmax = 3.0, linewidth = 1, color = 'k', linestyle = 'dashed')\n",
        "    ax[1, 1].axhline(y = accuracy, xmin = -0.1, xmax = 3.0, linewidth = 1, color = 'k', linestyle = 'dashed')\n",
        "    ax[0, 2].axhline(y = f1, xmin = -0.1, xmax = 3.0, linewidth = 1, color = 'k', linestyle = 'dashed')\n",
        "    ax[1, 2].axhline(y = f1, xmin = -0.1, xmax = 3.0, linewidth = 1, color = 'k', linestyle = 'dashed')\n",
        "    \n",
        "    # Set y-limits for score panels\n",
        "    ax[0, 1].set_ylim((0, 1))\n",
        "    ax[0, 2].set_ylim((0, 1))\n",
        "    ax[1, 1].set_ylim((0, 1))\n",
        "    ax[1, 2].set_ylim((0, 1))\n",
        "\n",
        "    # Create patches for the legend\n",
        "    patches = []\n",
        "    for i, learner in enumerate(results.keys()):\n",
        "        patches.append(mpatches.Patch(color = colors[i], label = learner))\n",
        "    pl.legend(handles = patches, bbox_to_anchor = (-.80, 2.53), \\\n",
        "               loc = 'upper center', borderaxespad = 0., ncol = 3, fontsize = 'x-large')\n",
        "    \n",
        "    # Aesthetics\n",
        "    pl.suptitle(\"Performance Metrics for Three Supervised Learning Models\", fontsize = 16, y = 1.10)\n",
        "    pl.tight_layout()\n",
        "    pl.show()\n",
        "    \n",
        "\n",
        "def feature_plot(importances, X_train, y_train):\n",
        "    \n",
        "    # Display the five most important features\n",
        "    indices = np.argsort(importances)[::-1]\n",
        "    columns = X_train.columns.values[indices[:5]]\n",
        "    values = importances[indices][:5]\n",
        "\n",
        "    # Creat the plot\n",
        "    fig = pl.figure(figsize = (9,5))\n",
        "    pl.title(\"Normalized Weights for First Five Most Predictive Features\", fontsize = 16)\n",
        "    pl.bar(np.arange(5), values, width = 0.6, align=\"center\", color = '#00A000', \\\n",
        "          label = \"Feature Weight\")\n",
        "    pl.bar(np.arange(5) - 0.3, np.cumsum(values), width = 0.2, align = \"center\", color = '#00A0A0', \\\n",
        "          label = \"Cumulative Feature Weight\")\n",
        "    pl.xticks(np.arange(5), columns)\n",
        "    pl.xlim((-0.5, 4.5))\n",
        "    pl.ylabel(\"Weight\", fontsize = 12)\n",
        "    pl.xlabel(\"Feature\", fontsize = 12)\n",
        "    \n",
        "    pl.legend(loc = 'upper center')\n",
        "    pl.tight_layout()\n",
        "    pl.show()  "
      ],
      "execution_count": 0,
      "outputs": []
    },
    {
      "metadata": {
        "id": "unpmfWzDKlsS",
        "colab_type": "code",
        "colab": {
          "base_uri": "https://localhost:8080/",
          "height": 918
        },
        "outputId": "ed87126b-ae2c-4cc7-9b15-94a1558ef375"
      },
      "cell_type": "code",
      "source": [
        "# TODO: Import the three supervised learning models from sklearn\n",
        "from sklearn.ensemble import RandomForestClassifier\n",
        "from sklearn.linear_model import SGDClassifier\n",
        "from sklearn.svm import SVC, LinearSVC\n",
        "from sklearn.naive_bayes import GaussianNB\n",
        "from sklearn.ensemble import AdaBoostClassifier\n",
        "\n",
        "# TODO: Initialize the three models\n",
        "clf_A = RandomForestClassifier(random_state = 0)\n",
        "#clf_B = SGDClassifier(max_iter = 1000)\n",
        "clf_B = AdaBoostClassifier(random_state=0)\n",
        "#clf_C = svm.NuSVC() # nonlinear SVC\n",
        "#clf_C = svm.LinearSVC()\n",
        "clf_C = LinearSVC(random_state = 0)\n",
        "#clf_D = SVC(gamma = 'auto')\n",
        "\n",
        "# TODO: Calculate the number of samples for 1%, 10%, and 100% of the training data\n",
        "train_size = len(X_train)\n",
        "samples_1, samples_10, samples_100 = int(train_size*0.01), int(train_size*0.1), train_size\n",
        "\n",
        "# Collect results on the learners\n",
        "results = {}\n",
        "print(type(results))\n",
        "for clf in [clf_A, clf_B, clf_C]:\n",
        "    clf_name = clf.__class__.__name__\n",
        "    results[clf_name] = {}\n",
        "    for i, samples in enumerate([samples_1, samples_10, samples_100]):\n",
        "        results[clf_name][i] = \\\n",
        "        train_predict(clf, samples, X_train, y_train, X_test, y_test)\n",
        "    cur = results[clf_name][0]\n",
        "    print(\"train acc {}, test acc {}\".format(cur['acc_train'], cur['acc_test']))\n",
        "    print(\"train fscore {}, test fscore {}\".format(cur['f_train'], cur['f_test']))\n",
        "    print(\"train time {}, test time {}\".format(cur['train_time'], cur['pred_time']))\n",
        "                  \n",
        "# Run metrics visualization for the three supervised learning models chosen\n",
        "evaluate(results, accuracy, fscore)"
      ],
      "execution_count": 45,
      "outputs": [
        {
          "output_type": "stream",
          "text": [
            "<type 'dict'>\n",
            "RandomForestClassifier trained on 361 samples.\n",
            "RandomForestClassifier trained on 3617 samples.\n",
            "RandomForestClassifier trained on 36177 samples.\n",
            "train acc 0.980609418283, test acc 0.802763957988\n",
            "train fscore 0.982142857143, test fscore 0.587211326448\n",
            "train time 0.0276639461517, test time 0.0147659778595\n",
            "AdaBoostClassifier trained on 361 samples.\n",
            "AdaBoostClassifier trained on 3617 samples.\n",
            "AdaBoostClassifier trained on 36177 samples.\n",
            "train acc 0.90027700831, test acc 0.820784964069\n",
            "train fscore 0.81043956044, test fscore 0.633010468643\n",
            "train time 0.114462137222, test time 0.0869760513306\n",
            "LinearSVC trained on 361 samples.\n",
            "LinearSVC trained on 3617 samples.\n",
            "LinearSVC trained on 36177 samples.\n",
            "train acc 0.87811634349, test acc 0.802432283029\n",
            "train fscore 0.764705882353, test fscore 0.590604026846\n",
            "train time 0.00513505935669, test time 0.00433111190796\n"
          ],
          "name": "stdout"
        },
        {
          "output_type": "display_data",
          "data": {
            "image/png": "[encoded data removed]",
            "text/plain": [
              "<matplotlib.figure.Figure at 0x7f8fd2b1f750>"
            ]
          },
          "metadata": {
            "tags": []
          }
        }
      ]
    },
    {
      "metadata": {
        "id": "nHe7nr7TcuUc",
        "colab_type": "text"
      },
      "cell_type": "markdown",
      "source": [
        "# Improving Results\n",
        "In this final section, you will choose from the three supervised learning models the best model to use on the student data. You will then perform a grid search optimization for the model over the entire training set (X_train and y_train) by tuning at least one parameter to improve upon the untuned model's F-score.\n",
        "\n"
      ]
    },
    {
      "metadata": {
        "id": "R0PCVE9LKlsV",
        "colab_type": "text"
      },
      "cell_type": "markdown",
      "source": [
        "### Question 3 - Choosing the Best Model\n",
        "*Based on the evaluation you performed earlier, in one to two paragraphs, explain to *CharityML* which of the three models you believe to be most appropriate for the task of identifying individuals that make more than \\$50,000.*  \n",
        "**Hint:** Your answer should include discussion of the metrics, prediction/training time, and the algorithm's suitability for the data."
      ]
    },
    {
      "metadata": {
        "id": "WLaTdfS1KlsW",
        "colab_type": "text"
      },
      "cell_type": "markdown",
      "source": [
        "**Answer: ** I would say that **AdaBoost **Classifier prooved to have the best F-score and accuracy-score on the test set, and is most likely to have best results for predicting people earning more than 50K. However, AdaBoost takes a lot longer time to predict than other models. A faster alternative may be LinearSVC, which predicts just as well but takes a lot less time. "
      ]
    },
    {
      "metadata": {
        "id": "C6rnwoeUKlsX",
        "colab_type": "text"
      },
      "cell_type": "markdown",
      "source": [
        "### Question 4 - Describing the Model in Layman's Terms\n",
        "*In one to two paragraphs, explain to *CharityML*, **in layman's terms**, how the final model chosen is supposed to work. Be sure that you are describing the major qualities of the model, such as how the model is trained and how the model makes a prediction. Avoid using advanced mathematical or technical jargon, such as describing equations or discussing the algorithm implementation.*"
      ]
    },
    {
      "metadata": {
        "id": "HIXxRSy0KlsX",
        "colab_type": "text"
      },
      "cell_type": "markdown",
      "source": [
        "**Answer: ** \n",
        "\n",
        "Okay, Mrs.McFriedman, so this model is basically a technique to predict something more accurately by using many weaker models together. So let me explain in more detail, you are an exective so it'd be easy for you to understand. When you have a project to accomplish, but less-than-mediocre workers, what do you do? Yes, you try to maximize their contribution by assigning them specialties. Likewise, AdaBoost is a technique that gets worker Amy to learn the problem. And if there's anything Amy is bad at, Brad will learn the remaining subset. If Brad is also bad at some of the remaining work, we'll have Charlize to learn the remaining works. And this goes on. So even with your mediocre workers, they'll have something that they're good at, and if they lack you'll assign the remaining works to others. One slight drawback, though, is that it takes some time. Another alternative you might be looking at is LinearSVM, but the time difference is not that critical with the amount of data you gave me, so you're safe. \n",
        "\n",
        "\n",
        "\n",
        "*  To a **child** : Okay, here's a picture of an animal. Is this an albatross or a seagull? Are you sure? Okay. Are you going to be more sure if you decide this together with your friends Timmy, Lilly, and Beatrice? Yes! So AdaBoost is basically that if you're unsure, if you solve a problem with others then you can solve a problem more easily.\n",
        "*  To a **teenager** : \n",
        "*  To an **undergrad majoring in CS** : \n",
        "*  To a **grad student majoring in CS** : Please explain this to me\n",
        "*  To a **colleague** : Please explain this to me\n",
        "\n",
        "\n"
      ]
    },
    {
      "metadata": {
        "id": "sEqDeRAQKlsY",
        "colab_type": "text"
      },
      "cell_type": "markdown",
      "source": [
        "### Implementation: Model Tuning\n",
        "Fine tune the chosen model. Use grid search (`GridSearchCV`) with at least one important parameter tuned with at least 3 different values. You will need to use the entire training set for this. In the code cell below, you will need to implement the following:\n",
        "- Import [`sklearn.grid_search.GridSearchCV`](http://scikit-learn.org/0.17/modules/generated/sklearn.grid_search.GridSearchCV.html) and [`sklearn.metrics.make_scorer`](http://scikit-learn.org/stable/modules/generated/sklearn.metrics.make_scorer.html).\n",
        "- Initialize the classifier you've chosen and store it in `clf`.\n",
        " - Set a `random_state` if one is available to the same state you set before.\n",
        "- Create a dictionary of parameters you wish to tune for the chosen model.\n",
        " - Example: `parameters = {'parameter' : [list of values]}`.\n",
        " - **Note:** Avoid tuning the `max_features` parameter of your learner if that parameter is available!\n",
        "- Use `make_scorer` to create an `fbeta_score` scoring object (with $\\beta = 0.5$).\n",
        "- Perform grid search on the classifier `clf` using the `'scorer'`, and store it in `grid_obj`.\n",
        "- Fit the grid search object to the training data (`X_train`, `y_train`), and store it in `grid_fit`.\n",
        "\n",
        "**Note:** Depending on the algorithm chosen and the parameter list, the following implementation may take some time to run!"
      ]
    },
    {
      "metadata": {
        "id": "Dup-tm4RKlsZ",
        "colab_type": "code",
        "colab": {
          "base_uri": "https://localhost:8080/",
          "height": 170
        },
        "outputId": "b4ef5341-2e6c-43a1-d5e0-4cb40fb6fb6f"
      },
      "cell_type": "code",
      "source": [
        "# TODO: Import 'GridSearchCV', 'make_scorer', and any other necessary libraries\n",
        "from sklearn.grid_search import GridSearchCV\n",
        "from sklearn.metrics import make_scorer\n",
        "\n",
        "# TODO: Initialize the classifier\n",
        "clf = AdaBoostClassifier(random_state = 0)\n",
        "\n",
        "# TODO: Create the parameters list you wish to tune\n",
        "#tradeoff between learning_Rate and n_estimators\n",
        "parameters = {'n_estimators' : [50, 100, 500], \n",
        "              #'algorithm':['SAMME', 'SAMME.R'],\n",
        "              'learning_rate': [1.0, 1.5, 2.0]\n",
        "              #,'random_state':[42, None]\n",
        "             }\n",
        "\n",
        "# TODO: Make an fbeta_score scoring object\n",
        "scorer=make_scorer(fbeta_score, beta=0.5)\n",
        "\n",
        "# TODO: Perform grid search on the classifier using 'scorer' as the scoring method\n",
        "grid_obj = GridSearchCV(estimator=clf,\n",
        "                       param_grid=parameters,\n",
        "                       scoring=scorer\n",
        "                       )\n",
        "\n",
        "# TODO: Fit the grid search object to the training data and find the optimal parameters\n",
        "grid_fit = grid_obj.fit(X_train, y_train)\n",
        "\n",
        "# Get the estimator\n",
        "best_clf = grid_fit.best_estimator_\n",
        "\n",
        "# Make predictions using the unoptimized and model\n",
        "predictions = (clf.fit(X_train, y_train)).predict(X_test)\n",
        "best_predictions = best_clf.predict(X_test)\n",
        "\n",
        "# Report the before-and-afterscores\n",
        "print \"Unoptimized model\\n------\"\n",
        "print \"Accuracy score on testing data: {:.4f}\".format(accuracy_score(y_test, predictions))\n",
        "print \"F-score on testing data: {:.4f}\".format(fbeta_score(y_test, predictions, beta = 0.5))\n",
        "print \"\\nOptimized Model\\n------\"\n",
        "print \"Final accuracy score on the testing data: {:.4f}\".format(accuracy_score(y_test, best_predictions))\n",
        "print \"Final F-score on the testing data: {:.4f}\".format(fbeta_score(y_test, best_predictions, beta = 0.5))"
      ],
      "execution_count": 92,
      "outputs": [
        {
          "output_type": "stream",
          "text": [
            "Unoptimized model\n",
            "------\n",
            "Accuracy score on testing data: 0.8576\n",
            "F-score on testing data: 0.7246\n",
            "\n",
            "Optimized Model\n",
            "------\n",
            "Final accuracy score on the testing data: 0.8677\n",
            "Final F-score on the testing data: 0.7452\n"
          ],
          "name": "stdout"
        }
      ]
    },
    {
      "metadata": {
        "id": "tucotj7_Klsd",
        "colab_type": "text"
      },
      "cell_type": "markdown",
      "source": [
        "### Question 5 - Final Model Evaluation\n",
        "_What is your optimized model's accuracy and F-score on the testing data? Are these scores better or worse than the unoptimized model? How do the results from your optimized model compare to the naive predictor benchmarks you found earlier in **Question 1**?_  \n",
        "**Note:** Fill in the table below with your results, and then provide discussion in the **Answer** box."
      ]
    },
    {
      "metadata": {
        "id": "VtwtcuPyKlse",
        "colab_type": "text"
      },
      "cell_type": "markdown",
      "source": [
        "#### Results:\n",
        "\n",
        "\n",
        "\n",
        "|     Metric     | Benchmark Predictor | Unoptimized Model | Optimized Model |\n",
        "| :------------: | :-----------------: | :---------------: | :-------------: | \n",
        "| Accuracy Score |     0.2478                |       0.8576            |   0.8677              |\n",
        "| F-score        |     0.2917                |       0.7246            |   0.7452       |\n"
      ]
    },
    {
      "metadata": {
        "id": "nlT2LhO0Klsf",
        "colab_type": "text"
      },
      "cell_type": "markdown",
      "source": [
        "**Answer: **\n",
        "As shown above, both the unoptimized and the optimized models perform significantly better than the naive Benchmark Predictor. The optimized model performs somewhat better than the unoptimized model. "
      ]
    },
    {
      "metadata": {
        "id": "T1q8eSePKlsg",
        "colab_type": "text"
      },
      "cell_type": "markdown",
      "source": [
        "----\n",
        "## Feature Importance\n",
        "\n",
        "An important task when performing supervised learning on a dataset like the census data we study here is determining which features provide the most predictive power. By focusing on the relationship between only a few crucial features and the target label we simplify our understanding of the phenomenon, which is most always a useful thing to do. In the case of this project, that means we wish to identify a small number of features that most strongly predict whether an individual makes at most or more than \\$50,000.\n",
        "\n",
        "Choose a scikit-learn classifier (e.g., adaboost, random forests) that has a `feature_importance_` attribute, which is a function that ranks the importance of features according to the chosen classifier.  In the next python cell fit this classifier to training set and use this attribute to determine the top 5 most important features for the census dataset."
      ]
    },
    {
      "metadata": {
        "id": "vhwFMExrKlsg",
        "colab_type": "text"
      },
      "cell_type": "markdown",
      "source": [
        "### Question 6 - Feature Relevance Observation\n",
        "When **Exploring the Data**, it was shown there are thirteen available features for each individual on record in the census data.  \n",
        "_Of these thirteen records, which five features do you believe to be most important for prediction, and in what order would you rank them and why?_"
      ]
    },
    {
      "metadata": {
        "id": "YCcnGZKfKlsh",
        "colab_type": "text"
      },
      "cell_type": "markdown",
      "source": [
        "#### Results:\n",
        "Among\n",
        "age / workclass / education_level\t/ education-num\t/ marital-status\t/ occupation /\trelationship /\trace\t / sex\t/ capital-gain / \tcapital-loss\t/ hours-per-week / \tnative-country, \n",
        "I believe that the five most important features for prediction, in order, are (for predicting >50K): \n",
        "\n",
        "\n",
        "1.   education_level : This may be similar to education_num, but differs in showing the final degree as opposed to mere years in education. People with higher education generally perform more executive roles, resulting in higher pay.\n",
        "2.   age : Older people have more expertise / are likely to be paid more in their own fields.\n",
        "3.   occupation : the type of occupation tells whether the field contains mostly high-paying jobs\n",
        "4.   workclass : government-funded jobs probably pay less than private businesses that do welll\n",
        "5.   race : I postulate that from current statistics, people of certain race are more prevalent in / have better advantage to earn executive positions. \n"
      ]
    },
    {
      "metadata": {
        "id": "GnNqoufLKlsi",
        "colab_type": "text"
      },
      "cell_type": "markdown",
      "source": [
        "### Implementation - Extracting Feature Importance\n",
        "Choose a `scikit-learn` supervised learning algorithm that has a `feature_importance_` attribute availble for it. This attribute is a function that ranks the importance of each feature when making predictions based on the chosen algorithm.\n",
        "\n",
        "In the code cell below, you will need to implement the following:\n",
        " - Import a supervised learning model from sklearn if it is different from the three used earlier.\n",
        " - Train the supervised model on the entire training set.\n",
        " - Extract the feature importances using `'.feature_importances_'`."
      ]
    },
    {
      "metadata": {
        "id": "eRPI7-BWxxF-",
        "colab_type": "code",
        "colab": {}
      },
      "cell_type": "code",
      "source": [
        "def feature_plot(importances, X_train, y_train):\n",
        "    \n",
        "    # Display the five most important features\n",
        "    indices = np.argsort(importances)[::-1]\n",
        "    columns = X_train.columns.values[indices[:5]]\n",
        "    values = importances[indices][:5]\n",
        "\n",
        "    # Creat the plot\n",
        "    fig = pl.figure(figsize = (9,5))\n",
        "    pl.title(\"Normalized Weights for First Five Most Predictive Features\", fontsize = 16)\n",
        "    pl.bar(np.arange(5), values, width = 0.6, align=\"center\", color = '#00A000', \\\n",
        "          label = \"Feature Weight\")\n",
        "    pl.bar(np.arange(5) - 0.3, np.cumsum(values), width = 0.2, align = \"center\", color = '#00A0A0', \\\n",
        "          label = \"Cumulative Feature Weight\")\n",
        "    pl.xticks(np.arange(5), columns)\n",
        "    pl.xlim((-0.5, 4.5))\n",
        "    pl.ylabel(\"Weight\", fontsize = 12)\n",
        "    pl.xlabel(\"Feature\", fontsize = 12)\n",
        "    \n",
        "    pl.legend(loc = 'upper center')\n",
        "    pl.tight_layout()\n",
        "    pl.show()"
      ],
      "execution_count": 0,
      "outputs": []
    },
    {
      "metadata": {
        "id": "9_jfsBLbKlsj",
        "colab_type": "code",
        "colab": {
          "base_uri": "https://localhost:8080/",
          "height": 389
        },
        "outputId": "025dcbcb-7e62-4af1-fb3f-1eb9b90fae35"
      },
      "cell_type": "code",
      "source": [
        "# TODO: Import a supervised learning model that has 'feature_importances_'\n",
        "from sklearn.ensemble import AdaBoostClassifier\n",
        "\n",
        "# TODO: Train the supervised model on the training set \n",
        "clf = AdaBoostClassifier(random_state=0)\n",
        "clf.fit(X_train, y_train)\n",
        "\n",
        "# TODO: Extract the feature importances\n",
        "importances = clf.feature_importances_\n",
        "#pd.set_option('display.max_columns', 500)\n",
        "#df = pd.DataFrame([importances], columns=features.columns)\n",
        "#print(df)\n",
        "\n",
        "# Plot\n",
        "feature_plot(importances, X_train, y_train)"
      ],
      "execution_count": 97,
      "outputs": [
        {
          "output_type": "display_data",
          "data": {
            "image/png": "[encoded data removed]",
            "text/plain": [
              "<matplotlib.figure.Figure at 0x7f8fd6cf0f90>"
            ]
          },
          "metadata": {
            "tags": []
          }
        }
      ]
    },
    {
      "metadata": {
        "id": "kZONEn0YKlsn",
        "colab_type": "text"
      },
      "cell_type": "markdown",
      "source": [
        "### Question 7 - Extracting Feature Importance\n",
        "\n",
        "Observe the visualization created above which displays the five most relevant features for predicting if an individual makes at most or above \\$50,000.  \n",
        "_How do these five features compare to the five features you discussed in **Question 6**? If you were close to the same answer, how does this visualization confirm your thoughts? If you were not close, why do you think these features are more relevant?_"
      ]
    },
    {
      "metadata": {
        "id": "BZwUyfWZKlso",
        "colab_type": "text"
      },
      "cell_type": "markdown",
      "source": [
        "**Answer:** \n",
        "\n",
        "\n",
        "\n",
        "*   Initial guess : education_level, age, occupation, jobs, race\n",
        "*  Extracted feature : capital-loss, age, capital-gain, hours-per-week, education-num\n",
        "\n",
        "My predictions were only right in {age, education}. I did not expect capital-loss or capital-gain to cast significant importance at all, but they were shown to cast more importance than other features I presume ccrucial. Further, hours-per-week was also a significant feature for prediction. \n"
      ]
    },
    {
      "metadata": {
        "id": "3htlyKv-Klsp",
        "colab_type": "text"
      },
      "cell_type": "markdown",
      "source": [
        "### Feature Selection\n",
        "How does a model perform if we only use a subset of all the available features in the data? With less features required to train, the expectation is that training and prediction time is much lower — at the cost of performance metrics. From the visualization above, we see that the top five most important features contribute more than half of the importance of **all** features present in the data. This hints that we can attempt to *reduce the feature space* and simplify the information required for the model to learn. The code cell below will use the same optimized model you found earlier, and train it on the same training set *with only the top five important features*. "
      ]
    },
    {
      "metadata": {
        "id": "bkq3h1XjKlsq",
        "colab_type": "code",
        "colab": {
          "base_uri": "https://localhost:8080/",
          "height": 170
        },
        "outputId": "0f2afd04-1dcb-4131-de4d-b3e8ddb37fed"
      },
      "cell_type": "code",
      "source": [
        "# Import functionality for cloning a model\n",
        "from sklearn.base import clone\n",
        "\n",
        "# Reduce the feature space\n",
        "X_train_reduced = X_train[X_train.columns.values[(np.argsort(importances)[::-1])[:5]]]\n",
        "X_test_reduced = X_test[X_test.columns.values[(np.argsort(importances)[::-1])[:5]]]\n",
        "\n",
        "# Train on the \"best\" model found from grid search earlier\n",
        "clf = (clone(best_clf)).fit(X_train_reduced, y_train)\n",
        "\n",
        "# Make new predictions\n",
        "reduced_predictions = clf.predict(X_test_reduced)\n",
        "\n",
        "# Report scores from the final model using both versions of data\n",
        "print \"Final Model trained on full data\\n------\"\n",
        "print \"Accuracy on testing data: {:.4f}\".format(accuracy_score(y_test, best_predictions))\n",
        "print \"F-score on testing data: {:.4f}\".format(fbeta_score(y_test, best_predictions, beta = 0.5))\n",
        "print \"\\nFinal Model trained on reduced data\\n------\"\n",
        "print \"Accuracy on testing data: {:.4f}\".format(accuracy_score(y_test, reduced_predictions))\n",
        "print \"F-score on testing data: {:.4f}\".format(fbeta_score(y_test, reduced_predictions, beta = 0.5))"
      ],
      "execution_count": 98,
      "outputs": [
        {
          "output_type": "stream",
          "text": [
            "Final Model trained on full data\n",
            "------\n",
            "Accuracy on testing data: 0.8677\n",
            "F-score on testing data: 0.7452\n",
            "\n",
            "Final Model trained on reduced data\n",
            "------\n",
            "Accuracy on testing data: 0.8421\n",
            "F-score on testing data: 0.7003\n"
          ],
          "name": "stdout"
        }
      ]
    },
    {
      "metadata": {
        "id": "JNKk4Y6aKlss",
        "colab_type": "text"
      },
      "cell_type": "markdown",
      "source": [
        "### Question 8 - Effects of Feature Selection\n",
        "*How does the final model's F-score and accuracy score on the reduced data using only five features compare to those same scores when all features are used?*  \n",
        "*If training time was a factor, would you consider using the reduced data as your training set?*"
      ]
    },
    {
      "metadata": {
        "id": "9HGceL4dKlsu",
        "colab_type": "text"
      },
      "cell_type": "markdown",
      "source": [
        "**Answer:** It is shown that reducing the features from 103 to 5 crucial features does reduce the accuracy and f-score. I presume that this is because the model did not accurately capture the complexity of the data, or that the given data's features were very weak and the model was somewhat prone to overfitting. \n",
        "\n",
        "However, as it can be deduced that the total performance time did significantly decrease, so were I to process a large amount of data I would consider using the reduced features. "
      ]
    },
    {
      "metadata": {
        "id": "Qj1lxG9LKlsv",
        "colab_type": "text"
      },
      "cell_type": "markdown",
      "source": [
        "> **Note**: Once you have completed all of the code implementations and successfully answered each question above, you may finalize your work by exporting the iPython Notebook as an HTML document. You can do this by using the menu above and navigating to  \n",
        "**File -> Download as -> HTML (.html)**. Include the finished document along with this notebook as your submission."
      ]
    }
  ]
}