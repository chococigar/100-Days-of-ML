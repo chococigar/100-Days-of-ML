{
  "nbformat": 4,
  "nbformat_minor": 0,
  "metadata": {
    "colab": {
      "name": "dlnd_tv_script_generation.ipynb",
      "version": "0.3.2",
      "provenance": [],
      "collapsed_sections": []
    },
    "kernelspec": {
      "name": "python3",
      "display_name": "Python 3"
    },
    "accelerator": "GPU"
  },
  "cells": [
    {
      "metadata": {
        "id": "cxS-rd19b9__",
        "colab_type": "text"
      },
      "cell_type": "markdown",
      "source": [
        "# TV Script Generation\n",
        "In this project, you'll generate your own [Simpsons](https://en.wikipedia.org/wiki/The_Simpsons) TV scripts using RNNs.  You'll be using part of the [Simpsons dataset](https://www.kaggle.com/wcukierski/the-simpsons-by-the-data) of scripts from 27 seasons.  The Neural Network you'll build will generate a new TV script for a scene at [Moe's Tavern](https://simpsonswiki.com/wiki/Moe's_Tavern).\n",
        "## Get the Data\n",
        "The data is already provided for you.  You'll be using a subset of the original dataset.  It consists of only the scenes in Moe's Tavern.  This doesn't include other versions of the tavern, like \"Moe's Cavern\", \"Flaming Moe's\", \"Uncle Moe's Family Feed-Bag\", etc.."
      ]
    },
    {
      "metadata": {
        "id": "C6qYvAQ1eN9n",
        "colab_type": "code",
        "outputId": "66bc93d8-f708-49cf-afd9-d8f8059f446b",
        "colab": {
          "base_uri": "https://localhost:8080/",
          "height": 343
        }
      },
      "cell_type": "code",
      "source": [
        "# memory footprint support libraries/code\n",
        "!ln -sf /opt/bin/nvidia-smi /usr/bin/nvidia-smi\n",
        "!pip install gputil\n",
        "!pip install psutil\n",
        "!pip install humanize"
      ],
      "execution_count": 2,
      "outputs": [
        {
          "output_type": "stream",
          "text": [
            "Collecting gputil\n",
            "  Downloading https://files.pythonhosted.org/packages/45/99/837428d26b47ebd6b66d6e1b180e98ec4a557767a93a81a02ea9d6242611/GPUtil-1.3.0.tar.gz\n",
            "Requirement already satisfied: numpy in /usr/local/lib/python3.6/dist-packages (from gputil) (1.14.6)\n",
            "Building wheels for collected packages: gputil\n",
            "  Running setup.py bdist_wheel for gputil ... \u001b[?25l-\b \bdone\n",
            "\u001b[?25h  Stored in directory: /root/.cache/pip/wheels/17/0f/04/b79c006972335e35472c0b835ed52bfc0815258d409f560108\n",
            "Successfully built gputil\n",
            "Installing collected packages: gputil\n",
            "Successfully installed gputil-1.3.0\n",
            "Requirement already satisfied: psutil in /usr/local/lib/python3.6/dist-packages (5.4.8)\n",
            "Collecting humanize\n",
            "  Downloading https://files.pythonhosted.org/packages/8c/e0/e512e4ac6d091fc990bbe13f9e0378f34cf6eecd1c6c268c9e598dcf5bb9/humanize-0.5.1.tar.gz\n",
            "Building wheels for collected packages: humanize\n",
            "  Running setup.py bdist_wheel for humanize ... \u001b[?25l-\b \bdone\n",
            "\u001b[?25h  Stored in directory: /root/.cache/pip/wheels/69/86/6c/f8b8593bc273ec4b0c653d3827f7482bb2001a2781a73b7f44\n",
            "Successfully built humanize\n",
            "Installing collected packages: humanize\n",
            "Successfully installed humanize-0.5.1\n"
          ],
          "name": "stdout"
        }
      ]
    },
    {
      "metadata": {
        "id": "j_FxH5xfeRd2",
        "colab_type": "code",
        "outputId": "63d2d95c-c3a7-4acf-fc80-59a27a95112d",
        "colab": {
          "base_uri": "https://localhost:8080/",
          "height": 51
        }
      },
      "cell_type": "code",
      "source": [
        "import psutil\n",
        "import humanize\n",
        "import GPUtil as GPU\n",
        "import os\n",
        "\n",
        "import tensorflow as tf\n",
        "tf.test.gpu_device_name()\n",
        "\n",
        "GPUs = GPU.getGPUs()\n",
        "# XXX: only one GPU on Colab and isn’t guaranteed\n",
        "gpu = GPUs[0]\n",
        "def printm():\n",
        " process = psutil.Process(os.getpid())\n",
        " print(\"Gen RAM Free: \" + humanize.naturalsize( psutil.virtual_memory().available ), \" | Proc size: \" + humanize.naturalsize( process.memory_info().rss))\n",
        " print(\"GPU RAM Free: {0:.0f}MB | Used: {1:.0f}MB | Util {2:3.0f}% | Total {3:.0f}MB\".format(gpu.memoryFree, gpu.memoryUsed, gpu.memoryUtil*100, gpu.memoryTotal))\n",
        "printm()"
      ],
      "execution_count": 3,
      "outputs": [
        {
          "output_type": "stream",
          "text": [
            "Gen RAM Free: 12.6 GB  | Proc size: 688.9 MB\n",
            "GPU RAM Free: 11325MB | Used: 116MB | Util   1% | Total 11441MB\n"
          ],
          "name": "stdout"
        }
      ]
    },
    {
      "metadata": {
        "id": "VSif507IeXa9",
        "colab_type": "code",
        "outputId": "cd0bc1cb-4523-47b9-a0c9-4795b1b3f7a4",
        "colab": {
          "base_uri": "https://localhost:8080/",
          "height": 54
        }
      },
      "cell_type": "code",
      "source": [
        "from google.colab import drive\n",
        "drive.mount('/content/gdrive')\n",
        "dir = '/content/gdrive/My Drive/18_ML_Colab/UD_DL_Generate_TV_Scripts/'"
      ],
      "execution_count": 6,
      "outputs": [
        {
          "output_type": "stream",
          "text": [
            "Drive already mounted at /content/gdrive; to attempt to forcibly remount, call drive.mount(\"/content/gdrive\", force_remount=True).\n"
          ],
          "name": "stdout"
        }
      ]
    },
    {
      "metadata": {
        "id": "laHrOLPAgpcK",
        "colab_type": "code",
        "colab": {}
      },
      "cell_type": "code",
      "source": [
        "import os\n",
        "import pickle\n",
        "\n",
        "\n",
        "def load_data(path):\n",
        "    \"\"\"\n",
        "    Load Dataset from File\n",
        "    \"\"\"\n",
        "    input_file = os.path.join(dir + path)\n",
        "    with open(input_file, \"r\") as f:\n",
        "        data = f.read()\n",
        "    return data\n",
        "\n",
        "\n",
        "def preprocess_and_save_data(dataset_path, token_lookup, create_lookup_tables):\n",
        "    \"\"\"\n",
        "    Preprocess Text Data\n",
        "    \"\"\"\n",
        "    text = load_data(dataset_path)\n",
        "    \n",
        "    # Ignore notice, since we don't use it for analysing the data\n",
        "    text = text[81:]\n",
        "\n",
        "    token_dict = token_lookup()\n",
        "    for key, token in token_dict.items():\n",
        "        text = text.replace(key, ' {} '.format(token))\n",
        "\n",
        "    text = text.lower()\n",
        "    text = text.split()\n",
        "\n",
        "    vocab_to_int, int_to_vocab = create_lookup_tables(text)\n",
        "    int_text = [vocab_to_int[word] for word in text]\n",
        "    #with open('preprocess.p', 'wb') as file:\n",
        "    #  pickle.dump((int_text, vocab_to_int, int_to_vocab, token_dict), file, protocol=pickle.HIGHEST_PROTOCOL)\n",
        "    pickle.dump((int_text, vocab_to_int, int_to_vocab, token_dict), open(dir+'preprocess.p', 'wb'))\n",
        "\n",
        "\n",
        "def load_preprocess():\n",
        "    \"\"\"\n",
        "    Load the Preprocessed Training data and return them in batches of <batch_size> or less\n",
        "    \"\"\"\n",
        "    return pickle.load(open(dir + 'preprocess.p', mode='rb'))\n",
        "\n",
        "\n",
        "def save_params(params):\n",
        "    \"\"\"\n",
        "    Save parameters to file\n",
        "    \"\"\"\n",
        "    pickle.dump(params, open(dir+'params.p', 'wb'))\n",
        "\n",
        "\n",
        "def load_params():\n",
        "    \"\"\"\n",
        "    Load parameters from file\n",
        "    \"\"\"\n",
        "    return pickle.load(open(dir+'params.p', mode='rb'))"
      ],
      "execution_count": 0,
      "outputs": []
    },
    {
      "metadata": {
        "id": "D4n0sECvz8vE",
        "colab_type": "code",
        "outputId": "6d1a10f6-312e-4f9d-fb0a-19d31f654f86",
        "colab": {
          "base_uri": "https://localhost:8080/",
          "height": 88
        }
      },
      "cell_type": "code",
      "source": [
        "import sys\n",
        "import os\n",
        "\n",
        "!ls '/content/gdrive'\n",
        "print(sys.path)\n",
        "sys.path.append(os.path.dirname(dir+'problem_unittests.py'))\n",
        "#sys.path.append(os.path.dirname(dir+'helper.py'))\n",
        "print(sys.path)"
      ],
      "execution_count": 8,
      "outputs": [
        {
          "output_type": "stream",
          "text": [
            "'My Drive'\n",
            "['', '/env/python', '/usr/lib/python36.zip', '/usr/lib/python3.6', '/usr/lib/python3.6/lib-dynload', '/usr/local/lib/python3.6/dist-packages', '/usr/lib/python3/dist-packages', '/usr/local/lib/python3.6/dist-packages/IPython/extensions', '/root/.ipython']\n",
            "['', '/env/python', '/usr/lib/python36.zip', '/usr/lib/python3.6', '/usr/lib/python3.6/lib-dynload', '/usr/local/lib/python3.6/dist-packages', '/usr/lib/python3/dist-packages', '/usr/local/lib/python3.6/dist-packages/IPython/extensions', '/root/.ipython', '/content/gdrive/My Drive/18_ML_Colab/UD_DL_Generate_TV_Scripts']\n"
          ],
          "name": "stdout"
        }
      ]
    },
    {
      "metadata": {
        "id": "eOCs446gb-AA",
        "colab_type": "code",
        "colab": {}
      },
      "cell_type": "code",
      "source": [
        "\"\"\"\n",
        "DON'T MODIFY ANYTHING IN THIS CELL\n",
        "\"\"\"\n",
        "#import helper\n",
        "\n",
        "data_dir = 'data/simpsons/moes_tavern_lines.txt'\n",
        "text = load_data(data_dir)\n",
        "# Ignore notice, since we don't use it for analysing the data\n",
        "text = text[81:]"
      ],
      "execution_count": 0,
      "outputs": []
    },
    {
      "metadata": {
        "id": "4fNW5xuab-AF",
        "colab_type": "text"
      },
      "cell_type": "markdown",
      "source": [
        "## Explore the Data\n",
        "Play around with `view_sentence_range` to view different parts of the data."
      ]
    },
    {
      "metadata": {
        "id": "RS7rQz9Ob-AG",
        "colab_type": "code",
        "outputId": "afcfce8c-f1b0-4c8c-e127-4f2e5a6a0184",
        "colab": {
          "base_uri": "https://localhost:8080/",
          "height": 343
        }
      },
      "cell_type": "code",
      "source": [
        "view_sentence_range = (0, 10)\n",
        "\n",
        "\"\"\"\n",
        "DON'T MODIFY ANYTHING IN THIS CELL\n",
        "\"\"\"\n",
        "import numpy as np\n",
        "\n",
        "print('Dataset Stats')\n",
        "print('Roughly the number of unique words: {}'.format(len({word: None for word in text.split()})))\n",
        "scenes = text.split('\\n\\n')\n",
        "print('Number of scenes: {}'.format(len(scenes)))\n",
        "sentence_count_scene = [scene.count('\\n') for scene in scenes]\n",
        "print('Average number of sentences in each scene: {}'.format(np.average(sentence_count_scene)))\n",
        "\n",
        "sentences = [sentence for scene in scenes for sentence in scene.split('\\n')]\n",
        "print('Number of lines: {}'.format(len(sentences)))\n",
        "word_count_sentence = [len(sentence.split()) for sentence in sentences]\n",
        "print('Average number of words in each line: {}'.format(np.average(word_count_sentence)))\n",
        "\n",
        "print()\n",
        "print('The sentences {} to {}:'.format(*view_sentence_range))\n",
        "print('\\n'.join(text.split('\\n')[view_sentence_range[0]:view_sentence_range[1]]))"
      ],
      "execution_count": 10,
      "outputs": [
        {
          "output_type": "stream",
          "text": [
            "Dataset Stats\n",
            "Roughly the number of unique words: 11492\n",
            "Number of scenes: 262\n",
            "Average number of sentences in each scene: 15.248091603053435\n",
            "Number of lines: 4257\n",
            "Average number of words in each line: 11.50434578341555\n",
            "\n",
            "The sentences 0 to 10:\n",
            "Moe_Szyslak: (INTO PHONE) Moe's Tavern. Where the elite meet to drink.\n",
            "Bart_Simpson: Eh, yeah, hello, is Mike there? Last name, Rotch.\n",
            "Moe_Szyslak: (INTO PHONE) Hold on, I'll check. (TO BARFLIES) Mike Rotch. Mike Rotch. Hey, has anybody seen Mike Rotch, lately?\n",
            "Moe_Szyslak: (INTO PHONE) Listen you little puke. One of these days I'm gonna catch you, and I'm gonna carve my name on your back with an ice pick.\n",
            "Moe_Szyslak: What's the matter Homer? You're not your normal effervescent self.\n",
            "Homer_Simpson: I got my problems, Moe. Give me another one.\n",
            "Moe_Szyslak: Homer, hey, you should not drink to forget your problems.\n",
            "Barney_Gumble: Yeah, you should only drink to enhance your social skills.\n",
            "\n",
            "\n"
          ],
          "name": "stdout"
        }
      ]
    },
    {
      "metadata": {
        "id": "wid-ObtDb-AN",
        "colab_type": "text"
      },
      "cell_type": "markdown",
      "source": [
        "## Implement Preprocessing Functions\n",
        "The first thing to do to any dataset is preprocessing.  Implement the following preprocessing functions below:\n",
        "- Lookup Table\n",
        "- Tokenize Punctuation\n",
        "\n",
        "### Lookup Table\n",
        "To create a word embedding, you first need to transform the words to ids.  In this function, create two dictionaries:\n",
        "- Dictionary to go from the words to an id, we'll call `vocab_to_int`\n",
        "- Dictionary to go from the id to word, we'll call `int_to_vocab`\n",
        "\n",
        "Return these dictionaries in the following tuple `(vocab_to_int, int_to_vocab)`"
      ]
    },
    {
      "metadata": {
        "id": "uPh-VKGxb-AO",
        "colab_type": "code",
        "outputId": "f796a42a-5745-419e-b811-ee398118ffc7",
        "colab": {
          "base_uri": "https://localhost:8080/",
          "height": 34
        }
      },
      "cell_type": "code",
      "source": [
        "import numpy as np\n",
        "import problem_unittests as tests\n",
        "\n",
        "def create_lookup_tables(text):\n",
        "    \"\"\"\n",
        "    Create lookup tables for vocabulary\n",
        "    :param text: The text of tv scripts split into words\n",
        "    :return: A tuple of dicts (vocab_to_int, int_to_vocab)\n",
        "    \"\"\"\n",
        "    vocab_to_int, int_to_vocab = {}, {}\n",
        "    for k, v in enumerate(set(text)):\n",
        "      vocab_to_int[v] = k\n",
        "      int_to_vocab[k] = v\n",
        "    return (vocab_to_int, int_to_vocab)\n",
        "\n",
        "\n",
        "\"\"\"\n",
        "DON'T MODIFY ANYTHING IN THIS CELL THAT IS BELOW THIS LINE\n",
        "\"\"\"\n",
        "tests.test_create_lookup_tables(create_lookup_tables)"
      ],
      "execution_count": 11,
      "outputs": [
        {
          "output_type": "stream",
          "text": [
            "Tests Passed\n"
          ],
          "name": "stdout"
        }
      ]
    },
    {
      "metadata": {
        "id": "BdPI7P6Qb-AT",
        "colab_type": "text"
      },
      "cell_type": "markdown",
      "source": [
        "### Tokenize Punctuation\n",
        "We'll be splitting the script into a word array using spaces as delimiters.  However, punctuations like periods and exclamation marks make it hard for the neural network to distinguish between the word \"bye\" and \"bye!\".\n",
        "\n",
        "Implement the function `token_lookup` to return a dict that will be used to tokenize symbols like \"!\" into \"||Exclamation_Mark||\".  Create a dictionary for the following symbols where the symbol is the key and value is the token:\n",
        "- Period ( . )\n",
        "- Comma ( , )\n",
        "- Quotation Mark ( \" )\n",
        "- Semicolon ( ; )\n",
        "- Exclamation mark ( ! )\n",
        "- Question mark ( ? )\n",
        "- Left Parentheses ( ( )\n",
        "- Right Parentheses ( ) )\n",
        "- Dash ( -- )\n",
        "- Return ( \\n )\n",
        "\n",
        "This dictionary will be used to token the symbols and add the delimiter (space) around it.  This separates the symbols as it's own word, making it easier for the neural network to predict on the next word. Make sure you don't use a token that could be confused as a word. Instead of using the token \"dash\", try using something like \"||dash||\"."
      ]
    },
    {
      "metadata": {
        "id": "EEaqWEO9b-AU",
        "colab_type": "code",
        "outputId": "c410e127-0796-4864-fb44-89c73f98b6d0",
        "colab": {
          "base_uri": "https://localhost:8080/",
          "height": 34
        }
      },
      "cell_type": "code",
      "source": [
        "def token_lookup():\n",
        "    \"\"\"\n",
        "    Generate a dict to turn punctuation into a token.\n",
        "    :return: Tokenize dictionary where the key is the punctuation and the value is the token\n",
        "    \"\"\"\n",
        "    punc_dict = {\n",
        "        \".\": \"||Period||\",\n",
        "        \",\": \"||Comma||\",\n",
        "        \"\\\"\": \"||QuotationMark||\",\n",
        "        \";\": \"||Semicolon||\",\n",
        "        \"!\": \"||ExclamationMark||\",\n",
        "        \"?\": \"||QuestionMark||\",\n",
        "        \"(\": \"||LeftParentheses||\",\n",
        "        \")\": \"||RightParentheses||\",\n",
        "        \"--\": \"||Dash||\",\n",
        "        \"\\n\": \"||Return||\"\n",
        "    }\n",
        "    \n",
        "    return punc_dict\n",
        "\n",
        "\"\"\"\n",
        "DON'T MODIFY ANYTHING IN THIS CELL THAT IS BELOW THIS LINE\n",
        "\"\"\"\n",
        "tests.test_tokenize(token_lookup)"
      ],
      "execution_count": 12,
      "outputs": [
        {
          "output_type": "stream",
          "text": [
            "Tests Passed\n"
          ],
          "name": "stdout"
        }
      ]
    },
    {
      "metadata": {
        "id": "AD-jF9kOb-AX",
        "colab_type": "text"
      },
      "cell_type": "markdown",
      "source": [
        "## Preprocess all the data and save it\n",
        "Running the code cell below will preprocess all the data and save it to file."
      ]
    },
    {
      "metadata": {
        "id": "YLGzY7gqb-AY",
        "colab_type": "code",
        "colab": {}
      },
      "cell_type": "code",
      "source": [
        "\"\"\"\n",
        "DON'T MODIFY ANYTHING IN THIS CELL\n",
        "\"\"\"\n",
        "# Preprocess Training, Validation, and Testing Data\n",
        "preprocess_and_save_data(data_dir, token_lookup, create_lookup_tables)"
      ],
      "execution_count": 0,
      "outputs": []
    },
    {
      "metadata": {
        "id": "TU1SkWAcb-Ad",
        "colab_type": "text"
      },
      "cell_type": "markdown",
      "source": [
        "# Check Point\n",
        "This is your first checkpoint. If you ever decide to come back to this notebook or have to restart the notebook, you can start from here. The preprocessed data has been saved to disk."
      ]
    },
    {
      "metadata": {
        "id": "WSVjlromb-Ae",
        "colab_type": "code",
        "colab": {}
      },
      "cell_type": "code",
      "source": [
        "\"\"\"\n",
        "DON'T MODIFY ANYTHING IN THIS CELL\n",
        "\"\"\"\n",
        "#import helper\n",
        "import numpy as np\n",
        "import problem_unittests as tests\n",
        "\n",
        "int_text, vocab_to_int, int_to_vocab, token_dict = load_preprocess()"
      ],
      "execution_count": 0,
      "outputs": []
    },
    {
      "metadata": {
        "id": "JlRV8y7Kb-Ai",
        "colab_type": "text"
      },
      "cell_type": "markdown",
      "source": [
        "## Build the Neural Network\n",
        "You'll build the components necessary to build a RNN by implementing the following functions below:\n",
        "- get_inputs\n",
        "- get_init_cell\n",
        "- get_embed\n",
        "- build_rnn\n",
        "- build_nn\n",
        "- get_batches\n",
        "\n",
        "### Check the Version of TensorFlow and Access to GPU"
      ]
    },
    {
      "metadata": {
        "id": "LjsWnnNWb-Aj",
        "colab_type": "code",
        "outputId": "dbcdaf80-e88f-469b-fae2-a974c3615ca7",
        "colab": {
          "base_uri": "https://localhost:8080/",
          "height": 85
        }
      },
      "cell_type": "code",
      "source": [
        "\"\"\"\n",
        "DON'T MODIFY ANYTHING IN THIS CELL\n",
        "\"\"\"\n",
        "from distutils.version import LooseVersion\n",
        "import warnings\n",
        "import tensorflow as tf\n",
        "\n",
        "# Check TensorFlow Version\n",
        "!pip list | grep tensorflow\n",
        "\n",
        "# Check for a GPU\n",
        "printm()"
      ],
      "execution_count": 15,
      "outputs": [
        {
          "output_type": "stream",
          "text": [
            "tensorflow               1.12.0    \n",
            "tensorflow-hub           0.1.1     \n",
            "Gen RAM Free: 12.5 GB  | Proc size: 759.8 MB\n",
            "GPU RAM Free: 11325MB | Used: 116MB | Util   1% | Total 11441MB\n"
          ],
          "name": "stdout"
        }
      ]
    },
    {
      "metadata": {
        "id": "7J4fLL2Kb-Am",
        "colab_type": "text"
      },
      "cell_type": "markdown",
      "source": [
        "### Input\n",
        "Implement the `get_inputs()` function to create TF Placeholders for the Neural Network.  It should create the following placeholders:\n",
        "- Input text placeholder named \"input\" using the [TF Placeholder](https://www.tensorflow.org/api_docs/python/tf/placeholder) `name` parameter.\n",
        "- Targets placeholder\n",
        "- Learning Rate placeholder\n",
        "\n",
        "Return the placeholders in the following tuple `(Input, Targets, LearningRate)`"
      ]
    },
    {
      "metadata": {
        "id": "Lgx1PTicb-Ao",
        "colab_type": "code",
        "outputId": "44567d14-6897-4851-f73f-4c7635d46311",
        "colab": {
          "base_uri": "https://localhost:8080/",
          "height": 34
        }
      },
      "cell_type": "code",
      "source": [
        "def get_inputs():\n",
        "    \"\"\"\n",
        "    Create TF Placeholders for input, targets, and learning rate.\n",
        "    :return: Tuple (input, targets, learning rate)\n",
        "    \"\"\"\n",
        "    \n",
        "    Inputs = tf.placeholder(tf.int32, [None, None], name=\"input\")\n",
        "    Targets = tf.placeholder(tf.int32, [None, None], name=\"targets\")\n",
        "    LearningRate = tf.placeholder(tf.float32, None, name=\"learning_rate\")\n",
        "    return(Inputs, Targets, LearningRate)\n",
        "\n",
        "\n",
        "\"\"\"\n",
        "DON'T MODIFY ANYTHING IN THIS CELL THAT IS BELOW THIS LINE\n",
        "\"\"\"\n",
        "tests.test_get_inputs(get_inputs)"
      ],
      "execution_count": 16,
      "outputs": [
        {
          "output_type": "stream",
          "text": [
            "Tests Passed\n"
          ],
          "name": "stdout"
        }
      ]
    },
    {
      "metadata": {
        "id": "falgJPaWb-Ar",
        "colab_type": "text"
      },
      "cell_type": "markdown",
      "source": [
        "### Build RNN Cell and Initialize\n",
        "Stack one or more [`BasicLSTMCells`](https://www.tensorflow.org/api_docs/python/tf/contrib/rnn/BasicLSTMCell) in a [`MultiRNNCell`](https://www.tensorflow.org/api_docs/python/tf/contrib/rnn/MultiRNNCell).\n",
        "- The Rnn size should be set using `rnn_size`\n",
        "- Initalize Cell State using the MultiRNNCell's [`zero_state()`](https://www.tensorflow.org/api_docs/python/tf/contrib/rnn/MultiRNNCell#zero_state) function\n",
        "    - Apply the name \"initial_state\" to the initial state using [`tf.identity()`](https://www.tensorflow.org/api_docs/python/tf/identity)\n",
        "    - The difference is only in tensorlfow graph layout. tf.identity creates a new op in the graph that mimics its argument, while pure assignment adds a new python variable that points to the same op.\n",
        "\n",
        "Return the cell and initial state in the following tuple `(Cell, InitialState)`"
      ]
    },
    {
      "metadata": {
        "id": "eW-Mr0bkb-At",
        "colab_type": "code",
        "outputId": "b294f67f-74bb-4e0d-a703-6ad1c56e0271",
        "colab": {
          "base_uri": "https://localhost:8080/",
          "height": 105
        }
      },
      "cell_type": "code",
      "source": [
        "def get_init_cell(batch_size, rnn_size):\n",
        "    \"\"\"\n",
        "    Create an RNN Cell and initialize it.\n",
        "    :param batch_size: Size of batches\n",
        "    :param rnn_size: Size of RNNs\n",
        "    :return: Tuple (cell, initialize state)\n",
        "    \"\"\"\n",
        "    # TODO: Add function\n",
        "    \"\"\"\n",
        "    cell_1 = tf.nn.rnn_cell.LSTMCell(rnn_size,reuse=False, name=\"cell_1\") # one lstm cell\n",
        "    cell_2 = tf.nn.rnn_cell.LSTMCell(rnn_size,reuse=False, name=\"cell_2\") # one lstm cell\n",
        "    cell_3 = tf.nn.rnn_cell.LSTMCell(rnn_size,reuse=False,name=\"cell_3\") # one lstm cell\n",
        "    multi =  tf.nn.rnn_cell.MultiRNNCell([cell_1, cell_2, cell_3])\n",
        "    initialize_state = multi.zero_state(batch_size, tf.float32) \n",
        "    initialize_state = tf.identity(initialize_state, name=\"initial_state\")    \n",
        "    return(multi, initialize_state)\n",
        "    \"\"\"\n",
        "    lstm_layers = 1\n",
        "    \n",
        "    lstm = tf.contrib.rnn.BasicRNNCell(rnn_size)\n",
        "    dropout = tf.contrib.rnn.DropoutWrapper(lstm, output_keep_prob=1)\n",
        "    multi_cell = tf.contrib.rnn.MultiRNNCell([dropout] * lstm_layers)\n",
        "    state = tf.identity(multi_cell.zero_state(batch_size, tf.float32), name='initial_state')\n",
        "\n",
        "    return multi_cell, state\n",
        "\n",
        "\"\"\"\n",
        "DON'T MODIFY ANYTHING IN THIS CELL THAT IS BELOW THIS LINE\n",
        "\"\"\"\n",
        "tests.test_get_init_cell(get_init_cell)"
      ],
      "execution_count": 17,
      "outputs": [
        {
          "output_type": "stream",
          "text": [
            "WARNING:tensorflow:From <ipython-input-17-348b5fa6e301>:21: BasicRNNCell.__init__ (from tensorflow.python.ops.rnn_cell_impl) is deprecated and will be removed in a future version.\n",
            "Instructions for updating:\n",
            "This class is equivalent as tf.keras.layers.SimpleRNNCell, and will be replaced by that in Tensorflow 2.0.\n",
            "Tests Passed\n"
          ],
          "name": "stdout"
        }
      ]
    },
    {
      "metadata": {
        "id": "PquYOpCEb-Aw",
        "colab_type": "text"
      },
      "cell_type": "markdown",
      "source": [
        "### Word Embedding\n",
        "Apply embedding to `input_data` using TensorFlow.  Return the embedded sequence.\n",
        "\n",
        "\n",
        "*   Look again!\n",
        "\n"
      ]
    },
    {
      "metadata": {
        "id": "7k9LCkT_b-Ax",
        "colab_type": "code",
        "outputId": "304dfa8c-ad75-4b78-a3e3-be14dd8613ff",
        "colab": {
          "base_uri": "https://localhost:8080/",
          "height": 34
        }
      },
      "cell_type": "code",
      "source": [
        "def get_embed(input_data, vocab_size, embed_dim):\n",
        "    \"\"\"\n",
        "    Create embedding for <input_data>.\n",
        "    :param input_data: TF placeholder for text input. --> ph tensor shape=(50, 5), dtype=int3\n",
        "    :param vocab_size: Number of words in vocabulary. --> 27\n",
        "    :param embed_dim: Number of embedding dimensions  --> 256\n",
        "    :return: Embedded input.\n",
        "    \"\"\"\n",
        "    #random = tf.random.uniform(shape=[input_data.shape[0].value, input_data.shape[1].value, embed_dim], minval=-1.0, maxval=1.0)\n",
        "    #random = tf.random.uniform(shape=[input_data.shape[0].value, input_data.shape[1].value, embed_dim], minval=-1.0, maxval=1.0)\n",
        "    embedding = tf.Variable(tf.random_uniform((vocab_size, embed_dim), -1, 1))\n",
        "    embeded = tf.nn.embedding_lookup(embedding, input_data)\n",
        "    #embeddings = tf.Variable(random)\n",
        "    #This is just a big random matrix to start. We'll initialize the values to be uniform in the unit cube.\n",
        "\n",
        "    return embeded\n",
        "\n",
        "\n",
        "\"\"\"\n",
        "DON'T MODIFY ANYTHING IN THIS CELL THAT IS BELOW THIS LINE\n",
        "\"\"\"\n",
        "tests.test_get_embed(get_embed)"
      ],
      "execution_count": 18,
      "outputs": [
        {
          "output_type": "stream",
          "text": [
            "Tests Passed\n"
          ],
          "name": "stdout"
        }
      ]
    },
    {
      "metadata": {
        "id": "v_ZpNgnMb-A2",
        "colab_type": "text"
      },
      "cell_type": "markdown",
      "source": [
        "### Build RNN\n",
        "You created a RNN Cell in the `get_init_cell()` function.  Time to use the cell to create a RNN.\n",
        "- Build the RNN using the [`tf.nn.dynamic_rnn()`] (https://www.tensorflow.org/api_docs/python/tf/nn/dynamic_rnn)\n",
        "    - Dynamically create while executing\n",
        " - Apply the name \"final_state\" to the final state using [`tf.identity()`](https://www.tensorflow.org/api_docs/python/tf/identity)\n",
        "\n",
        "Return the outputs and final_state state in the following tuple `(Outputs, FinalState)` "
      ]
    },
    {
      "metadata": {
        "id": "lieVuh_6b-A3",
        "colab_type": "code",
        "outputId": "20d88eef-b9c9-4b9b-ac27-d68745983b04",
        "colab": {
          "base_uri": "https://localhost:8080/",
          "height": 105
        }
      },
      "cell_type": "code",
      "source": [
        "def build_rnn(cell, inputs):\n",
        "    \"\"\"\n",
        "    Create a RNN using a RNN Cell\n",
        "    :param cell: RNN Cell --> cell multirnn object\n",
        "    :param inputs: Input text data --> tensor, (?, ?, 256) float\n",
        "    :return: Tuple (Outputs, Final State)\n",
        "    \"\"\"\n",
        "    # TODO: Implement Function\n",
        "    Output_tensor, Final_state = tf.nn.dynamic_rnn(cell, inputs, dtype=tf.float32)\n",
        "    Final_state = tf.identity(Final_state, name=\"final_state\")\n",
        "    \n",
        "    return(Output_tensor, Final_state)\n",
        "\n",
        "\n",
        "\n",
        "\"\"\"\n",
        "DON'T MODIFY ANYTHING IN THIS CELL THAT IS BELOW THIS LINE\n",
        "\"\"\"\n",
        "tests.test_build_rnn(build_rnn)"
      ],
      "execution_count": 19,
      "outputs": [
        {
          "output_type": "stream",
          "text": [
            "WARNING:tensorflow:From /content/gdrive/My Drive/18_ML_Colab/UD_DL_Generate_TV_Scripts/problem_unittests.py:225: BasicLSTMCell.__init__ (from tensorflow.python.ops.rnn_cell_impl) is deprecated and will be removed in a future version.\n",
            "Instructions for updating:\n",
            "This class is deprecated, please use tf.nn.rnn_cell.LSTMCell, which supports all the feature this cell currently has. Please replace the existing code with tf.nn.rnn_cell.LSTMCell(name='basic_lstm_cell').\n",
            "Tests Passed\n"
          ],
          "name": "stdout"
        }
      ]
    },
    {
      "metadata": {
        "id": "STFXvGKNb-A9",
        "colab_type": "text"
      },
      "cell_type": "markdown",
      "source": [
        "### Build the Neural Network\n",
        "Apply the functions you implemented above to:\n",
        "- Apply embedding to `input_data` using your `get_embed(input_data, vocab_size, embed_dim)` function.\n",
        "- Build RNN using `cell` and your `build_rnn(cell, inputs)` function.\n",
        "- Apply a fully connected layer with a linear activation and `vocab_size` as the number of outputs.\n",
        "\n",
        "Return the logits and final state in the following tuple (Logits, FinalState) \n",
        "\n",
        "***Below : TensorFlow version error, should be okay without test pass***"
      ]
    },
    {
      "metadata": {
        "id": "fKZGOyXub-A_",
        "colab_type": "code",
        "outputId": "9778e26c-7b7e-473e-e3c9-2da04eb34d01",
        "colab": {
          "base_uri": "https://localhost:8080/",
          "height": 34
        }
      },
      "cell_type": "code",
      "source": [
        "def build_nn(cell, rnn_size, input_data, vocab_size, embed_dim):\n",
        "    \"\"\"\n",
        "    Build part of the neural network\n",
        "    :param cell: RNN cell #rnn cell object\n",
        "    :param rnn_size: Size of rnns #256\n",
        "    :param input_data: Input data #tensor plc s=(128, 5) int32\n",
        "    :param vocab_size: Vocabulary size # 27\n",
        "    :param embed_dim: Number of embedding dimensions #300\n",
        "    :return: Tuple (Logits, FinalState)\n",
        "    \"\"\"\n",
        "    # TODO: Implement Function\n",
        "    \n",
        "    embedded = get_embed(input_data, vocab_size, embed_dim)\n",
        "    Output_tensor, state = build_rnn(cell, embedded)\n",
        "    Logits = tf.contrib.layers.fully_connected(Output_tensor, num_outputs=vocab_size, activation_fn = None)   \n",
        "    print(Logits)\n",
        "    print(state)\n",
        "    return (Logits, state)\n",
        "\n",
        "\"\"\"\n",
        "DON'T MODIFY ANYTHING IN THIS CELL THAT IS BELOW THIS LINE\n",
        "\"\"\"\n",
        "#tests.test_build_nn(build_nn)"
      ],
      "execution_count": 20,
      "outputs": [
        {
          "output_type": "execute_result",
          "data": {
            "text/plain": [
              "\"\\nDON'T MODIFY ANYTHING IN THIS CELL THAT IS BELOW THIS LINE\\n\""
            ]
          },
          "metadata": {
            "tags": []
          },
          "execution_count": 20
        }
      ]
    },
    {
      "metadata": {
        "id": "ZWclFDWeb-BD",
        "colab_type": "text"
      },
      "cell_type": "markdown",
      "source": [
        "### Batches\n",
        "Implement `get_batches` to create batches of input and targets using `int_text`.  The batches should be a Numpy array with the shape `(number of batches, 2, batch size, sequence length)`. Each batch contains two elements:\n",
        "- The first element is a single batch of **input** with the shape `[batch size, sequence length]`\n",
        "- The second element is a single batch of **targets** with the shape `[batch size, sequence length]`\n",
        "\n",
        "If you can't fill the last batch with enough data, drop the last batch.\n",
        "\n",
        "For exmple, `get_batches([1, 2, 3, 4, 5, 6, 7, 8, 9, 10, 11, 12, 13, 14, 15, 16, 17, 18, 19, 20], 3, 2)` would return a Numpy array of the following:\n",
        "```\n",
        "[\n",
        "  # First Batch\n",
        "  [\n",
        "    # Batch of Input\n",
        "    [[ 1  2], [ 7  8], [13 14]]\n",
        "    # Batch of targets\n",
        "    [[ 2  3], [ 8  9], [14 15]]\n",
        "  ]\n",
        "\n",
        "  # Second Batch\n",
        "  [\n",
        "    # Batch of Input\n",
        "    [[ 3  4], [ 9 10], [15 16]]\n",
        "    # Batch of targets\n",
        "    [[ 4  5], [10 11], [16 17]]\n",
        "  ]\n",
        "\n",
        "  # Third Batch\n",
        "  [\n",
        "    # Batch of Input\n",
        "    [[ 5  6], [11 12], [17 18]]\n",
        "    # Batch of targets\n",
        "    [[ 6  7], [12 13], [18  1]]\n",
        "  ]\n",
        "]\n",
        "```\n",
        "\n",
        "Notice that the last target value in the last batch is the first input value of the first batch. In this case, `1`. This is a common technique used when creating sequence batches, although it is rather unintuitive."
      ]
    },
    {
      "metadata": {
        "id": "2DEwCCU2b-BE",
        "colab_type": "code",
        "outputId": "9ab0ec5f-7556-494f-8ff5-4b5ffc93e571",
        "colab": {
          "base_uri": "https://localhost:8080/",
          "height": 51
        }
      },
      "cell_type": "code",
      "source": [
        "def get_batches(int_text, batch_size, seq_length):\n",
        "    \"\"\"\n",
        "    Return batches of input and target\n",
        "    :param int_text: Text with the words replaced by their ids\n",
        "    :param batch_size: The size of batch\n",
        "    :param seq_length: The length of sequence\n",
        "    :return: Batches as a Numpy array\n",
        "    \"\"\"\n",
        "    # int_text length : 5000, batch_size : 128, seq_length : 5\n",
        "    #(7, 2, 128, 5)\n",
        "    print(\"int_text: {}, batch_size: {}, seq_len: {}\".format(len(int_text), batch_size, seq_length))\n",
        "\n",
        "    num_batch = len(int_text)//(batch_size*seq_length)\n",
        "    batches = np.ones((num_batch, 2, batch_size, seq_length))\n",
        "    end = num_batch*batch_size*seq_length\n",
        "    char_p_batch = batch_size*seq_length\n",
        "\n",
        "    input_arr = np.reshape(int_text[:end], (batch_size, -1))\n",
        "    pre_target = np.append(int_text[1:end],[int_text[0]])\n",
        "    target_arr = np.reshape(pre_target, (batch_size, -1))\n",
        "\n",
        "    input_div = np.split(input_arr, num_batch, 1) #axis = 1\n",
        "    target_div = np.split(target_arr, num_batch, 1) \n",
        "    \n",
        "    for i in range(num_batch): #next time use zip\n",
        "      batches[i][0]=input_div[i]\n",
        "      batches[i][1]=target_div[i]\n",
        "\n",
        "    return batches\n",
        "\n",
        "\n",
        "\n",
        "\"\"\"\n",
        "DON'T MODIFY ANYTHING IN THIS CELL THAT IS BELOW THIS LINE\n",
        "\"\"\"\n",
        "tests.test_get_batches(get_batches)"
      ],
      "execution_count": 21,
      "outputs": [
        {
          "output_type": "stream",
          "text": [
            "int_text: 5000, batch_size: 128, seq_len: 5\n",
            "Tests Passed\n"
          ],
          "name": "stdout"
        }
      ]
    },
    {
      "metadata": {
        "id": "2RosekbEb-BH",
        "colab_type": "text"
      },
      "cell_type": "markdown",
      "source": [
        "## Neural Network Training\n",
        "### Hyperparameters\n",
        "Tune the following parameters:\n",
        "\n",
        "- Set `num_epochs` to the number of epochs.\n",
        "- Set `batch_size` to the batch size.\n",
        "- Set `rnn_size` to the size of the RNNs.\n",
        "- Set `embed_dim` to the size of the embedding.\n",
        "- Set `seq_length` to the length of sequence.\n",
        "- Set `learning_rate` to the learning rate.\n",
        "- Set `show_every_n_batches` to the number of batches the neural network should print progress."
      ]
    },
    {
      "metadata": {
        "id": "RZJbNIZYb-BI",
        "colab_type": "code",
        "colab": {}
      },
      "cell_type": "code",
      "source": [
        "# Number of Epochs\n",
        "num_epochs = 20\n",
        "# Batch Size\n",
        "batch_size = 256 \n",
        "# RNN Size\n",
        "rnn_size = 750\n",
        "# Embedding Dimension Size\n",
        "embed_dim = 200\n",
        "# Sequence Length\n",
        "seq_length = 10\n",
        "# Learning Rate\n",
        "learning_rate = 0.0005\n",
        "# Show stats for every n number of batches\n",
        "show_every_n_batches = 5\n",
        "\n",
        "\"\"\"\n",
        "DON'T MODIFY ANYTHING IN THIS CELL THAT IS BELOW THIS LINE\n",
        "\"\"\"\n",
        "save_dir = dir+'save/'"
      ],
      "execution_count": 0,
      "outputs": []
    },
    {
      "metadata": {
        "id": "SyqXVc_Rb-BK",
        "colab_type": "text"
      },
      "cell_type": "markdown",
      "source": [
        "### Build the Graph\n",
        "Build the graph using the neural network you implemented."
      ]
    },
    {
      "metadata": {
        "id": "S-sYgXtkb-BM",
        "colab_type": "code",
        "outputId": "416a46b1-1e44-4539-f08c-d48efbafcb75",
        "colab": {
          "base_uri": "https://localhost:8080/",
          "height": 51
        }
      },
      "cell_type": "code",
      "source": [
        "\"\"\"\n",
        "DON'T MODIFY ANYTHING IN THIS CELL\n",
        "\"\"\"\n",
        "from tensorflow.contrib import seq2seq\n",
        "\n",
        "train_graph = tf.Graph()\n",
        "with train_graph.as_default():\n",
        "    vocab_size = len(int_to_vocab)\n",
        "    input_text, targets, lr = get_inputs()\n",
        "    input_data_shape = tf.shape(input_text)\n",
        "    cell, initial_state = get_init_cell(input_data_shape[0], rnn_size)\n",
        "    logits, final_state = build_nn(cell, rnn_size, input_text, vocab_size, embed_dim)\n",
        "\n",
        "    # Probabilities for generating words\n",
        "    probs = tf.nn.softmax(logits, name='probs')\n",
        "\n",
        "    # Loss function\n",
        "    cost = seq2seq.sequence_loss(\n",
        "        logits,\n",
        "        targets,\n",
        "        tf.ones([input_data_shape[0], input_data_shape[1]]))\n",
        "\n",
        "    # Optimizer\n",
        "    optimizer = tf.train.AdamOptimizer(lr)\n",
        "\n",
        "    # Gradient Clipping\n",
        "    gradients = optimizer.compute_gradients(cost)\n",
        "    capped_gradients = [(tf.clip_by_value(grad, -1., 1.), var) for grad, var in gradients if grad is not None]\n",
        "    train_op = optimizer.apply_gradients(capped_gradients)"
      ],
      "execution_count": 23,
      "outputs": [
        {
          "output_type": "stream",
          "text": [
            "Tensor(\"fully_connected/BiasAdd:0\", shape=(?, ?, 6779), dtype=float32)\n",
            "Tensor(\"final_state:0\", shape=(1, ?, 750), dtype=float32)\n"
          ],
          "name": "stdout"
        }
      ]
    },
    {
      "metadata": {
        "id": "XRKQhW5qb-BR",
        "colab_type": "text"
      },
      "cell_type": "markdown",
      "source": [
        "## Train\n",
        "Train the neural network on the preprocessed data.  If you have a hard time getting a good loss, check the [forums](https://discussions.udacity.com/) to see if anyone is having the same problem."
      ]
    },
    {
      "metadata": {
        "id": "w1jbTIA9b-BS",
        "colab_type": "code",
        "outputId": "717a7c86-6ae8-4002-8ce6-4b4e9763c3d5",
        "colab": {
          "base_uri": "https://localhost:8080/",
          "height": 1836
        }
      },
      "cell_type": "code",
      "source": [
        "\"\"\"\n",
        "DON'T MODIFY ANYTHING IN THIS CELL\n",
        "\"\"\"\n",
        "print(len(int_text), batch_size, seq_length)\n",
        "batches = get_batches(int_text, batch_size, seq_length)\n",
        "\n",
        "\n",
        "with tf.Session(graph=train_graph) as sess:\n",
        "    sess.run(tf.global_variables_initializer())\n",
        "\n",
        "    for epoch_i in range(num_epochs):\n",
        "        state = sess.run(initial_state, {input_text: batches[0][0]})\n",
        "\n",
        "        for batch_i, (x, y) in enumerate(batches):\n",
        "            feed = {\n",
        "                input_text: x,\n",
        "                targets: y,\n",
        "                initial_state: state,\n",
        "                lr: learning_rate}\n",
        "            train_loss, state, _ = sess.run([cost, final_state, train_op], feed)\n",
        "\n",
        "            # Show every <show_every_n_batches> batches\n",
        "            if (epoch_i * len(batches) + batch_i) % show_every_n_batches == 0:\n",
        "                print('Epoch {:>3} Batch {:>4}/{}   train_loss = {:.3f}'.format(\n",
        "                    epoch_i,\n",
        "                    batch_i,\n",
        "                    len(batches),\n",
        "                    train_loss))\n",
        "\n",
        "    # Save Model\n",
        "    saver = tf.train.Saver()\n",
        "    saver.save(sess, save_dir)\n",
        "    print('Model Trained and Saved')"
      ],
      "execution_count": 24,
      "outputs": [
        {
          "output_type": "stream",
          "text": [
            "69100 256 10\n",
            "int_text: 69100, batch_size: 256, seq_len: 10\n",
            "Epoch   0 Batch    0/26   train_loss = 8.832\n",
            "Epoch   0 Batch    5/26   train_loss = 8.290\n",
            "Epoch   0 Batch   10/26   train_loss = 7.074\n",
            "Epoch   0 Batch   15/26   train_loss = 6.786\n",
            "Epoch   0 Batch   20/26   train_loss = 6.588\n",
            "Epoch   0 Batch   25/26   train_loss = 6.560\n",
            "Epoch   1 Batch    4/26   train_loss = 6.118\n",
            "Epoch   1 Batch    9/26   train_loss = 6.068\n",
            "Epoch   1 Batch   14/26   train_loss = 6.004\n",
            "Epoch   1 Batch   19/26   train_loss = 5.875\n",
            "Epoch   1 Batch   24/26   train_loss = 5.856\n",
            "Epoch   2 Batch    3/26   train_loss = 5.656\n",
            "Epoch   2 Batch    8/26   train_loss = 5.678\n",
            "Epoch   2 Batch   13/26   train_loss = 5.670\n",
            "Epoch   2 Batch   18/26   train_loss = 5.614\n",
            "Epoch   2 Batch   23/26   train_loss = 5.577\n",
            "Epoch   3 Batch    2/26   train_loss = 5.437\n",
            "Epoch   3 Batch    7/26   train_loss = 5.386\n",
            "Epoch   3 Batch   12/26   train_loss = 5.415\n",
            "Epoch   3 Batch   17/26   train_loss = 5.340\n",
            "Epoch   3 Batch   22/26   train_loss = 5.275\n",
            "Epoch   4 Batch    1/26   train_loss = 5.135\n",
            "Epoch   4 Batch    6/26   train_loss = 5.226\n",
            "Epoch   4 Batch   11/26   train_loss = 5.291\n",
            "Epoch   4 Batch   16/26   train_loss = 5.075\n",
            "Epoch   4 Batch   21/26   train_loss = 5.210\n",
            "Epoch   5 Batch    0/26   train_loss = 5.059\n",
            "Epoch   5 Batch    5/26   train_loss = 4.894\n",
            "Epoch   5 Batch   10/26   train_loss = 4.883\n",
            "Epoch   5 Batch   15/26   train_loss = 4.977\n",
            "Epoch   5 Batch   20/26   train_loss = 4.938\n",
            "Epoch   5 Batch   25/26   train_loss = 5.052\n",
            "Epoch   6 Batch    4/26   train_loss = 4.774\n",
            "Epoch   6 Batch    9/26   train_loss = 4.835\n",
            "Epoch   6 Batch   14/26   train_loss = 4.860\n",
            "Epoch   6 Batch   19/26   train_loss = 4.815\n",
            "Epoch   6 Batch   24/26   train_loss = 4.722\n",
            "Epoch   7 Batch    3/26   train_loss = 4.611\n",
            "Epoch   7 Batch    8/26   train_loss = 4.621\n",
            "Epoch   7 Batch   13/26   train_loss = 4.702\n",
            "Epoch   7 Batch   18/26   train_loss = 4.635\n",
            "Epoch   7 Batch   23/26   train_loss = 4.575\n",
            "Epoch   8 Batch    2/26   train_loss = 4.499\n",
            "Epoch   8 Batch    7/26   train_loss = 4.524\n",
            "Epoch   8 Batch   12/26   train_loss = 4.541\n",
            "Epoch   8 Batch   17/26   train_loss = 4.456\n",
            "Epoch   8 Batch   22/26   train_loss = 4.418\n",
            "Epoch   9 Batch    1/26   train_loss = 4.281\n",
            "Epoch   9 Batch    6/26   train_loss = 4.356\n",
            "Epoch   9 Batch   11/26   train_loss = 4.477\n",
            "Epoch   9 Batch   16/26   train_loss = 4.258\n",
            "Epoch   9 Batch   21/26   train_loss = 4.350\n",
            "Epoch  10 Batch    0/26   train_loss = 4.213\n",
            "Epoch  10 Batch    5/26   train_loss = 4.138\n",
            "Epoch  10 Batch   10/26   train_loss = 4.138\n",
            "Epoch  10 Batch   15/26   train_loss = 4.178\n",
            "Epoch  10 Batch   20/26   train_loss = 4.158\n",
            "Epoch  10 Batch   25/26   train_loss = 4.217\n",
            "Epoch  11 Batch    4/26   train_loss = 4.037\n",
            "Epoch  11 Batch    9/26   train_loss = 4.087\n",
            "Epoch  11 Batch   14/26   train_loss = 4.066\n",
            "Epoch  11 Batch   19/26   train_loss = 4.077\n",
            "Epoch  11 Batch   24/26   train_loss = 3.954\n",
            "Epoch  12 Batch    3/26   train_loss = 3.862\n",
            "Epoch  12 Batch    8/26   train_loss = 3.868\n",
            "Epoch  12 Batch   13/26   train_loss = 3.929\n",
            "Epoch  12 Batch   18/26   train_loss = 3.870\n",
            "Epoch  12 Batch   23/26   train_loss = 3.785\n",
            "Epoch  13 Batch    2/26   train_loss = 3.754\n",
            "Epoch  13 Batch    7/26   train_loss = 3.794\n",
            "Epoch  13 Batch   12/26   train_loss = 3.792\n",
            "Epoch  13 Batch   17/26   train_loss = 3.726\n",
            "Epoch  13 Batch   22/26   train_loss = 3.682\n",
            "Epoch  14 Batch    1/26   train_loss = 3.569\n",
            "Epoch  14 Batch    6/26   train_loss = 3.593\n",
            "Epoch  14 Batch   11/26   train_loss = 3.747\n",
            "Epoch  14 Batch   16/26   train_loss = 3.539\n",
            "Epoch  14 Batch   21/26   train_loss = 3.591\n",
            "Epoch  15 Batch    0/26   train_loss = 3.476\n",
            "Epoch  15 Batch    5/26   train_loss = 3.456\n",
            "Epoch  15 Batch   10/26   train_loss = 3.456\n",
            "Epoch  15 Batch   15/26   train_loss = 3.448\n",
            "Epoch  15 Batch   20/26   train_loss = 3.444\n",
            "Epoch  15 Batch   25/26   train_loss = 3.445\n",
            "Epoch  16 Batch    4/26   train_loss = 3.339\n",
            "Epoch  16 Batch    9/26   train_loss = 3.377\n",
            "Epoch  16 Batch   14/26   train_loss = 3.333\n",
            "Epoch  16 Batch   19/26   train_loss = 3.352\n",
            "Epoch  16 Batch   24/26   train_loss = 3.247\n",
            "Epoch  17 Batch    3/26   train_loss = 3.177\n",
            "Epoch  17 Batch    8/26   train_loss = 3.137\n",
            "Epoch  17 Batch   13/26   train_loss = 3.234\n",
            "Epoch  17 Batch   18/26   train_loss = 3.167\n",
            "Epoch  17 Batch   23/26   train_loss = 3.050\n",
            "Epoch  18 Batch    2/26   train_loss = 3.057\n",
            "Epoch  18 Batch    7/26   train_loss = 3.118\n",
            "Epoch  18 Batch   12/26   train_loss = 3.112\n",
            "Epoch  18 Batch   17/26   train_loss = 3.048\n",
            "Epoch  18 Batch   22/26   train_loss = 3.013\n",
            "Epoch  19 Batch    1/26   train_loss = 2.935\n",
            "Epoch  19 Batch    6/26   train_loss = 2.951\n",
            "Epoch  19 Batch   11/26   train_loss = 3.066\n",
            "Epoch  19 Batch   16/26   train_loss = 2.893\n",
            "Epoch  19 Batch   21/26   train_loss = 2.930\n",
            "Model Trained and Saved\n"
          ],
          "name": "stdout"
        }
      ]
    },
    {
      "metadata": {
        "id": "B0zVZKLzb-BV",
        "colab_type": "text"
      },
      "cell_type": "markdown",
      "source": [
        "## Save Parameters\n",
        "Save `seq_length` and `save_dir` for generating a new TV script."
      ]
    },
    {
      "metadata": {
        "id": "l5PLOD6Db-BV",
        "colab_type": "code",
        "colab": {}
      },
      "cell_type": "code",
      "source": [
        "\"\"\"\n",
        "DON'T MODIFY ANYTHING IN THIS CELL\n",
        "\"\"\"\n",
        "# Save parameters for checkpoint\n",
        "#helper.\n",
        "save_params((seq_length, save_dir))"
      ],
      "execution_count": 0,
      "outputs": []
    },
    {
      "metadata": {
        "id": "Uc18dWIib-BY",
        "colab_type": "text"
      },
      "cell_type": "markdown",
      "source": [
        "# Checkpoint"
      ]
    },
    {
      "metadata": {
        "id": "fKstwH6Rb-BY",
        "colab_type": "code",
        "colab": {}
      },
      "cell_type": "code",
      "source": [
        "\"\"\"\n",
        "DON'T MODIFY ANYTHING IN THIS CELL\n",
        "\"\"\"\n",
        "import tensorflow as tf\n",
        "import numpy as np\n",
        "import problem_unittests as tests\n",
        "\n",
        "_, vocab_to_int, int_to_vocab, token_dict = load_preprocess() #helper\n",
        "seq_length, load_dir = load_params() #helper, load_dir already with dir"
      ],
      "execution_count": 0,
      "outputs": []
    },
    {
      "metadata": {
        "id": "wCTJElLLb-Bb",
        "colab_type": "text"
      },
      "cell_type": "markdown",
      "source": [
        "## Implement Generate Functions\n",
        "### Get Tensors\n",
        "Get tensors from `loaded_graph` using the function [`get_tensor_by_name()`](https://www.tensorflow.org/api_docs/python/tf/Graph#get_tensor_by_name).  Get the tensors using the following names:\n",
        "- \"input:0\"\n",
        "- \"initial_state:0\"\n",
        "- \"final_state:0\"\n",
        "- \"probs:0\"\n",
        "\n",
        "Return the tensors in the following tuple `(InputTensor, InitialStateTensor, FinalStateTensor, ProbsTensor)` "
      ]
    },
    {
      "metadata": {
        "id": "FH2QHcVQAy7D",
        "colab_type": "code",
        "outputId": "6ebc4c9b-6604-45e2-b754-7ac41fecbf5f",
        "colab": {
          "base_uri": "https://localhost:8080/",
          "height": 51
        }
      },
      "cell_type": "code",
      "source": [
        "print(train_graph)\n",
        "#print(tf.get_default_graph())\n",
        "#print(tf.get_default_graph().as_graph_def().node)\n",
        "#print(train_graph.as_graph_def().node)\n",
        "print(train_graph.get_tensor_by_name(\"input:0\"))\n",
        "\n",
        "#[tensor.name for tensor in tf.get_default_graph().as_graph_def().node]"
      ],
      "execution_count": 27,
      "outputs": [
        {
          "output_type": "stream",
          "text": [
            "<tensorflow.python.framework.ops.Graph object at 0x7f29be36d748>\n",
            "Tensor(\"input:0\", shape=(?, ?), dtype=int32)\n"
          ],
          "name": "stdout"
        }
      ]
    },
    {
      "metadata": {
        "id": "Mqfziq8Tb-Bb",
        "colab_type": "code",
        "outputId": "3472a659-59d3-4d03-d459-b0a5031f0fce",
        "colab": {
          "base_uri": "https://localhost:8080/",
          "height": 34
        }
      },
      "cell_type": "code",
      "source": [
        "def get_tensors(loaded_graph):\n",
        "    \"\"\"\n",
        "    Get input, initial state, final state, and probabilities tensor from <loaded_graph>\n",
        "    :param loaded_graph: TensorFlow graph loaded from file\n",
        "    :return: Tuple (InputTensor, InitialStateTensor, FinalStateTensor, ProbsTensor)\n",
        "    \"\"\"\n",
        "    input_t = train_graph.get_tensor_by_name(\"input:0\") \n",
        "    inputstate_t =train_graph.get_tensor_by_name(\"initial_state:0\")\n",
        "    finalstate_t = train_graph.get_tensor_by_name(\"final_state:0\")\n",
        "    probs_t = train_graph.get_tensor_by_name(\"probs:0\")\n",
        "    return (input_t, inputstate_t, finalstate_t, probs_t)\n",
        "\n",
        "\n",
        "\"\"\"\n",
        "DON'T MODIFY ANYTHING IN THIS CELL THAT IS BELOW THIS LINE\n",
        "\"\"\"\n",
        "#tests.test_get_tensors(get_tensors)"
      ],
      "execution_count": 28,
      "outputs": [
        {
          "output_type": "execute_result",
          "data": {
            "text/plain": [
              "\"\\nDON'T MODIFY ANYTHING IN THIS CELL THAT IS BELOW THIS LINE\\n\""
            ]
          },
          "metadata": {
            "tags": []
          },
          "execution_count": 28
        }
      ]
    },
    {
      "metadata": {
        "id": "HG1XOM6Yb-Bf",
        "colab_type": "text"
      },
      "cell_type": "markdown",
      "source": [
        "### Choose Word\n",
        "Implement the `pick_word()` function to select the next word using `probabilities`."
      ]
    },
    {
      "metadata": {
        "id": "Qi5WGTvib-Bg",
        "colab_type": "code",
        "outputId": "8a20c3f7-33c2-4383-cd64-7f28365ea602",
        "colab": {
          "base_uri": "https://localhost:8080/",
          "height": 34
        }
      },
      "cell_type": "code",
      "source": [
        "def pick_word(probabilities, int_to_vocab):\n",
        "    \"\"\"\n",
        "    Pick the next word in the generated text\n",
        "    :param probabilities: Probabilites of the next word\n",
        "    :param int_to_vocab: Dictionary of word ids as the keys and words as the values\n",
        "    :return: String of the predicted word\n",
        "    \"\"\"\n",
        "    ind = np.argmax(probabilities, axis=0)\n",
        "    return int_to_vocab[ind]\n",
        "    \n",
        "    \n",
        "\n",
        "\n",
        "\n",
        "\"\"\"\n",
        "DON'T MODIFY ANYTHING IN THIS CELL THAT IS BELOW THIS LINE\n",
        "\"\"\"\n",
        "tests.test_pick_word(pick_word)"
      ],
      "execution_count": 29,
      "outputs": [
        {
          "output_type": "stream",
          "text": [
            "Tests Passed\n"
          ],
          "name": "stdout"
        }
      ]
    },
    {
      "metadata": {
        "id": "nF-IrcXsb-Bl",
        "colab_type": "text"
      },
      "cell_type": "markdown",
      "source": [
        "## Generate TV Script\n",
        "This will generate the TV script for you.  Set `gen_length` to the length of TV script you want to generate."
      ]
    },
    {
      "metadata": {
        "id": "-c6XPhlnfrzy",
        "colab_type": "code",
        "colab": {}
      },
      "cell_type": "code",
      "source": [
        "\"\"\"\n",
        "x = tf.placeholder(tf.float32, (None,), 'x')\n",
        "y = tf.reduce_sum(x)\n",
        "sess = tf.Session()\n",
        "tf.reset_default_graph()\n",
        "print(sess.graph)\n",
        "sess.run(y, {'x': [1, 2, 3]})\n",
        "sess.run(y, {x: [1, 2, 3]})\n",
        "\n",
        "print(sess.graph)\n",
        "\"\"\"\n",
        "sess.close()"
      ],
      "execution_count": 0,
      "outputs": []
    },
    {
      "metadata": {
        "id": "ZLS7eF1eb-Bn",
        "colab_type": "code",
        "outputId": "edbd310b-387d-4bc2-cb55-bac5d4051762",
        "colab": {
          "base_uri": "https://localhost:8080/",
          "height": 1017
        }
      },
      "cell_type": "code",
      "source": [
        "gen_length = 200\n",
        "# homer_simpson, moe_szyslak, or Barney_Gumble\n",
        "prime_word = 'moe_szyslak'\n",
        "\n",
        "\"\"\"\n",
        "DON'T MODIFY ANYTHING IN THIS CELL THAT IS BELOW THIS LINE\n",
        "\"\"\"\n",
        "loaded_graph = tf.Graph()\n",
        "print(tf.get_default_graph())\n",
        "print([tensor.name for tensor in tf.get_default_graph().as_graph_def().node])\n",
        "print(loaded_graph) #loaded is not default now\n",
        "print([tensor.name for tensor in loaded_graph.as_graph_def().node])\n",
        "tf.reset_default_graph()\n",
        "\n",
        "print(sess)\n",
        "\n",
        "x = tf.placeholder(tf.float32, (None,), 'x')\n",
        "y = tf.reduce_sum(x)\n",
        "\n",
        "#with tf.Session(graph=loaded_graph) as sess:\n",
        "with tf.Session(graph=loaded_graph) as sess:\n",
        "    \n",
        "    # Load saved model\n",
        "    loader = tf.train.import_meta_graph(load_dir + '.meta')\n",
        "    loader.restore(sess, load_dir)\n",
        "    print([tensor.name for tensor in sess.graph.as_graph_def().node])\n",
        "    print(sess.graph.get_tensor_by_name(\"input:0\"))\n",
        "    print(type(loader))\n",
        "    \n",
        "    # Get Tensors from loaded model\n",
        "    input_text, initial_state, final_state, probs = get_tensors(loaded_graph)\n",
        "    \n",
        "    \n",
        "    input_array = np.array([[1]])\n",
        "    input2tensor = tf.convert_to_tensor(input_array, name=\"input_text\")\n",
        "    \n",
        "    # Sentences generation setup\n",
        "    gen_sentences = [prime_word + ':']\n",
        "    prev_state = sess.run(initial_state, \n",
        "                          #{'input_text:0': input2tensor}\n",
        "                          #{'input_text:0': np.array([[1]])}\n",
        "                          {input_text: np.array([[1]])}\n",
        "                         )\n",
        "\n",
        "    # Generate sentences\n",
        "    for n in range(gen_length):\n",
        "        # Dynamic Input\n",
        "        dyn_input = [[vocab_to_int[word] for word in gen_sentences[-seq_length:]]]\n",
        "        dyn_seq_length = len(dyn_input[0])\n",
        "\n",
        "        # Get Prediction\n",
        "        probabilities, prev_state = sess.run(\n",
        "            [probs, final_state],\n",
        "            {input_text: dyn_input, initial_state: prev_state})\n",
        "        \n",
        "        pred_word = pick_word(probabilities[dyn_seq_length-1], int_to_vocab)\n",
        "\n",
        "        gen_sentences.append(pred_word)\n",
        "    \n",
        "    # Remove tokens\n",
        "    tv_script = ' '.join(gen_sentences)\n",
        "    for key, token in token_dict.items():\n",
        "        ending = ' ' if key in ['\\n', '(', '\"'] else ''\n",
        "        tv_script = tv_script.replace(' ' + token.lower(), key)\n",
        "    tv_script = tv_script.replace('\\n ', '\\n')\n",
        "    tv_script = tv_script.replace('( ', '(')\n",
        "        \n",
        "    print(tv_script)"
      ],
      "execution_count": 85,
      "outputs": [
        {
          "output_type": "stream",
          "text": [
            "<tensorflow.python.framework.ops.Graph object at 0x7f29bb3cd358>\n",
            "['x', 'Const', 'Sum']\n",
            "<tensorflow.python.framework.ops.Graph object at 0x7f29be3220b8>\n",
            "[]\n",
            "<tensorflow.python.client.session.Session object at 0x7f29b9336208>\n",
            "INFO:tensorflow:Restoring parameters from /content/gdrive/My Drive/18_ML_Colab/UD_DL_Generate_TV_Scripts/save/\n",
            "['input', 'targets', 'learning_rate', 'Shape', 'strided_slice/stack', 'strided_slice/stack_1', 'strided_slice/stack_2', 'strided_slice', 'DropoutWrapperInit/Const', 'DropoutWrapperInit/Const_1', 'DropoutWrapperInit/Const_2', 'MultiRNNCellZeroState/DropoutWrapperZeroState/BasicRNNCellZeroState/ExpandDims/dim', 'MultiRNNCellZeroState/DropoutWrapperZeroState/BasicRNNCellZeroState/ExpandDims', 'MultiRNNCellZeroState/DropoutWrapperZeroState/BasicRNNCellZeroState/Const', 'MultiRNNCellZeroState/DropoutWrapperZeroState/BasicRNNCellZeroState/concat/axis', 'MultiRNNCellZeroState/DropoutWrapperZeroState/BasicRNNCellZeroState/concat', 'MultiRNNCellZeroState/DropoutWrapperZeroState/BasicRNNCellZeroState/zeros/Const', 'MultiRNNCellZeroState/DropoutWrapperZeroState/BasicRNNCellZeroState/zeros', 'MultiRNNCellZeroState/DropoutWrapperZeroState/BasicRNNCellZeroState/ExpandDims_1/dim', 'MultiRNNCellZeroState/DropoutWrapperZeroState/BasicRNNCellZeroState/ExpandDims_1', 'MultiRNNCellZeroState/DropoutWrapperZeroState/BasicRNNCellZeroState/Const_1', 'initial_state/input', 'initial_state', 'random_uniform/shape', 'random_uniform/min', 'random_uniform/max', 'random_uniform/RandomUniform', 'random_uniform/sub', 'random_uniform/mul', 'random_uniform', 'Variable', 'Variable/Assign', 'Variable/read', 'embedding_lookup/axis', 'embedding_lookup', 'embedding_lookup/Identity', 'rnn/Rank', 'rnn/range/start', 'rnn/range/delta', 'rnn/range', 'rnn/concat/values_0', 'rnn/concat/axis', 'rnn/concat', 'rnn/transpose', 'rnn/Shape', 'rnn/strided_slice/stack', 'rnn/strided_slice/stack_1', 'rnn/strided_slice/stack_2', 'rnn/strided_slice', 'rnn/MultiRNNCellZeroState/DropoutWrapperZeroState/BasicRNNCellZeroState/ExpandDims/dim', 'rnn/MultiRNNCellZeroState/DropoutWrapperZeroState/BasicRNNCellZeroState/ExpandDims', 'rnn/MultiRNNCellZeroState/DropoutWrapperZeroState/BasicRNNCellZeroState/Const', 'rnn/MultiRNNCellZeroState/DropoutWrapperZeroState/BasicRNNCellZeroState/concat/axis', 'rnn/MultiRNNCellZeroState/DropoutWrapperZeroState/BasicRNNCellZeroState/concat', 'rnn/MultiRNNCellZeroState/DropoutWrapperZeroState/BasicRNNCellZeroState/zeros/Const', 'rnn/MultiRNNCellZeroState/DropoutWrapperZeroState/BasicRNNCellZeroState/zeros', 'rnn/MultiRNNCellZeroState/DropoutWrapperZeroState/BasicRNNCellZeroState/ExpandDims_1/dim', 'rnn/MultiRNNCellZeroState/DropoutWrapperZeroState/BasicRNNCellZeroState/ExpandDims_1', 'rnn/MultiRNNCellZeroState/DropoutWrapperZeroState/BasicRNNCellZeroState/Const_1', 'rnn/Shape_1', 'rnn/strided_slice_1/stack', 'rnn/strided_slice_1/stack_1', 'rnn/strided_slice_1/stack_2', 'rnn/strided_slice_1', 'rnn/Shape_2', 'rnn/strided_slice_2/stack', 'rnn/strided_slice_2/stack_1', 'rnn/strided_slice_2/stack_2', 'rnn/strided_slice_2', 'rnn/ExpandDims/dim', 'rnn/ExpandDims', 'rnn/Const', 'rnn/concat_1/axis', 'rnn/concat_1', 'rnn/zeros/Const', 'rnn/zeros', 'rnn/time', 'rnn/TensorArray', 'rnn/TensorArray_1', 'rnn/TensorArrayUnstack/Shape', 'rnn/TensorArrayUnstack/strided_slice/stack', 'rnn/TensorArrayUnstack/strided_slice/stack_1', 'rnn/TensorArrayUnstack/strided_slice/stack_2', 'rnn/TensorArrayUnstack/strided_slice', 'rnn/TensorArrayUnstack/range/start', 'rnn/TensorArrayUnstack/range/delta', 'rnn/TensorArrayUnstack/range', 'rnn/TensorArrayUnstack/TensorArrayScatter/TensorArrayScatterV3', 'rnn/Maximum/x', 'rnn/Maximum', 'rnn/Minimum', 'rnn/while/iteration_counter', 'rnn/while/Enter', 'rnn/while/Enter_1', 'rnn/while/Enter_2', 'rnn/while/Enter_3', 'rnn/while/Merge', 'rnn/while/Merge_1', 'rnn/while/Merge_2', 'rnn/while/Merge_3', 'rnn/while/Less/Enter', 'rnn/while/Less', 'rnn/while/Less_1/Enter', 'rnn/while/Less_1', 'rnn/while/LogicalAnd', 'rnn/while/LoopCond', 'rnn/while/Switch', 'rnn/while/Switch_1', 'rnn/while/Switch_2', 'rnn/while/Switch_3', 'rnn/while/Identity', 'rnn/while/Identity_1', 'rnn/while/Identity_2', 'rnn/while/Identity_3', 'rnn/while/add/y', 'rnn/while/add', 'rnn/while/TensorArrayReadV3/Enter', 'rnn/while/TensorArrayReadV3/Enter_1', 'rnn/while/TensorArrayReadV3', 'rnn/multi_rnn_cell/cell_0/basic_rnn_cell/kernel/Initializer/random_uniform/shape', 'rnn/multi_rnn_cell/cell_0/basic_rnn_cell/kernel/Initializer/random_uniform/min', 'rnn/multi_rnn_cell/cell_0/basic_rnn_cell/kernel/Initializer/random_uniform/max', 'rnn/multi_rnn_cell/cell_0/basic_rnn_cell/kernel/Initializer/random_uniform/RandomUniform', 'rnn/multi_rnn_cell/cell_0/basic_rnn_cell/kernel/Initializer/random_uniform/sub', 'rnn/multi_rnn_cell/cell_0/basic_rnn_cell/kernel/Initializer/random_uniform/mul', 'rnn/multi_rnn_cell/cell_0/basic_rnn_cell/kernel/Initializer/random_uniform', 'rnn/multi_rnn_cell/cell_0/basic_rnn_cell/kernel', 'rnn/multi_rnn_cell/cell_0/basic_rnn_cell/kernel/Assign', 'rnn/multi_rnn_cell/cell_0/basic_rnn_cell/kernel/read', 'rnn/multi_rnn_cell/cell_0/basic_rnn_cell/bias/Initializer/zeros', 'rnn/multi_rnn_cell/cell_0/basic_rnn_cell/bias', 'rnn/multi_rnn_cell/cell_0/basic_rnn_cell/bias/Assign', 'rnn/multi_rnn_cell/cell_0/basic_rnn_cell/bias/read', 'rnn/while/rnn/multi_rnn_cell/cell_0/basic_rnn_cell/concat/axis', 'rnn/while/rnn/multi_rnn_cell/cell_0/basic_rnn_cell/concat', 'rnn/while/rnn/multi_rnn_cell/cell_0/basic_rnn_cell/MatMul/Enter', 'rnn/while/rnn/multi_rnn_cell/cell_0/basic_rnn_cell/MatMul', 'rnn/while/rnn/multi_rnn_cell/cell_0/basic_rnn_cell/BiasAdd/Enter', 'rnn/while/rnn/multi_rnn_cell/cell_0/basic_rnn_cell/BiasAdd', 'rnn/while/rnn/multi_rnn_cell/cell_0/basic_rnn_cell/Tanh', 'rnn/while/TensorArrayWrite/TensorArrayWriteV3/Enter', 'rnn/while/TensorArrayWrite/TensorArrayWriteV3', 'rnn/while/add_1/y', 'rnn/while/add_1', 'rnn/while/NextIteration', 'rnn/while/NextIteration_1', 'rnn/while/NextIteration_2', 'rnn/while/NextIteration_3', 'rnn/while/Exit', 'rnn/while/Exit_1', 'rnn/while/Exit_2', 'rnn/while/Exit_3', 'rnn/TensorArrayStack/TensorArraySizeV3', 'rnn/TensorArrayStack/range/start', 'rnn/TensorArrayStack/range/delta', 'rnn/TensorArrayStack/range', 'rnn/TensorArrayStack/TensorArrayGatherV3', 'rnn/Const_1', 'rnn/Rank_1', 'rnn/range_1/start', 'rnn/range_1/delta', 'rnn/range_1', 'rnn/concat_2/values_0', 'rnn/concat_2/axis', 'rnn/concat_2', 'rnn/transpose_1', 'final_state/input', 'final_state', 'fully_connected/weights/Initializer/random_uniform/shape', 'fully_connected/weights/Initializer/random_uniform/min', 'fully_connected/weights/Initializer/random_uniform/max', 'fully_connected/weights/Initializer/random_uniform/RandomUniform', 'fully_connected/weights/Initializer/random_uniform/sub', 'fully_connected/weights/Initializer/random_uniform/mul', 'fully_connected/weights/Initializer/random_uniform', 'fully_connected/weights', 'fully_connected/weights/Assign', 'fully_connected/weights/read', 'fully_connected/biases/Initializer/zeros/shape_as_tensor', 'fully_connected/biases/Initializer/zeros/Const', 'fully_connected/biases/Initializer/zeros', 'fully_connected/biases', 'fully_connected/biases/Assign', 'fully_connected/biases/read', 'fully_connected/Tensordot/axes', 'fully_connected/Tensordot/free', 'fully_connected/Tensordot/Shape', 'fully_connected/Tensordot/GatherV2/axis', 'fully_connected/Tensordot/GatherV2', 'fully_connected/Tensordot/GatherV2_1/axis', 'fully_connected/Tensordot/GatherV2_1', 'fully_connected/Tensordot/Const', 'fully_connected/Tensordot/Prod', 'fully_connected/Tensordot/Const_1', 'fully_connected/Tensordot/Prod_1', 'fully_connected/Tensordot/concat/axis', 'fully_connected/Tensordot/concat', 'fully_connected/Tensordot/stack', 'fully_connected/Tensordot/transpose', 'fully_connected/Tensordot/Reshape', 'fully_connected/Tensordot/transpose_1/perm', 'fully_connected/Tensordot/transpose_1', 'fully_connected/Tensordot/Reshape_1/shape', 'fully_connected/Tensordot/Reshape_1', 'fully_connected/Tensordot/MatMul', 'fully_connected/Tensordot/Const_2', 'fully_connected/Tensordot/concat_1/axis', 'fully_connected/Tensordot/concat_1', 'fully_connected/Tensordot', 'fully_connected/BiasAdd', 'probs', 'strided_slice_1/stack', 'strided_slice_1/stack_1', 'strided_slice_1/stack_2', 'strided_slice_1', 'strided_slice_2/stack', 'strided_slice_2/stack_1', 'strided_slice_2/stack_2', 'strided_slice_2', 'ones/mul', 'ones/Less/y', 'ones/Less', 'ones/packed', 'ones/Const', 'ones', 'sequence_loss/Shape', 'sequence_loss/strided_slice/stack', 'sequence_loss/strided_slice/stack_1', 'sequence_loss/strided_slice/stack_2', 'sequence_loss/strided_slice', 'sequence_loss/Reshape/shape/0', 'sequence_loss/Reshape/shape', 'sequence_loss/Reshape', 'sequence_loss/Reshape_1/shape', 'sequence_loss/Reshape_1', 'sequence_loss/SparseSoftmaxCrossEntropyWithLogits/Shape', 'sequence_loss/SparseSoftmaxCrossEntropyWithLogits/SparseSoftmaxCrossEntropyWithLogits', 'sequence_loss/Reshape_2/shape', 'sequence_loss/Reshape_2', 'sequence_loss/mul', 'sequence_loss/Const', 'sequence_loss/Sum', 'sequence_loss/Const_1', 'sequence_loss/Sum_1', 'sequence_loss/add/y', 'sequence_loss/add', 'sequence_loss/truediv', 'gradients/Shape', 'gradients/grad_ys_0', 'gradients/Fill', 'gradients/f_count', 'gradients/f_count_1', 'gradients/Merge', 'gradients/Switch', 'gradients/Add/y', 'gradients/Add', 'gradients/f_count_2', 'gradients/b_count', 'gradients/b_count_1', 'gradients/Merge_1', 'gradients/GreaterEqual/Enter', 'gradients/GreaterEqual', 'gradients/b_count_2', 'gradients/Switch_1', 'gradients/Sub', 'gradients/b_count_3', 'gradients/sequence_loss/truediv_grad/Shape', 'gradients/sequence_loss/truediv_grad/Shape_1', 'gradients/sequence_loss/truediv_grad/BroadcastGradientArgs', 'gradients/sequence_loss/truediv_grad/RealDiv', 'gradients/sequence_loss/truediv_grad/Sum', 'gradients/sequence_loss/truediv_grad/Reshape', 'gradients/sequence_loss/truediv_grad/Neg', 'gradients/sequence_loss/truediv_grad/RealDiv_1', 'gradients/sequence_loss/truediv_grad/RealDiv_2', 'gradients/sequence_loss/truediv_grad/mul', 'gradients/sequence_loss/truediv_grad/Sum_1', 'gradients/sequence_loss/truediv_grad/Reshape_1', 'gradients/sequence_loss/truediv_grad/tuple/group_deps', 'gradients/sequence_loss/truediv_grad/tuple/control_dependency', 'gradients/sequence_loss/truediv_grad/tuple/control_dependency_1', 'gradients/sequence_loss/Sum_grad/Reshape/shape', 'gradients/sequence_loss/Sum_grad/Reshape', 'gradients/sequence_loss/Sum_grad/Shape', 'gradients/sequence_loss/Sum_grad/Tile', 'gradients/sequence_loss/mul_grad/Shape', 'gradients/sequence_loss/mul_grad/Shape_1', 'gradients/sequence_loss/mul_grad/BroadcastGradientArgs', 'gradients/sequence_loss/mul_grad/Mul', 'gradients/sequence_loss/mul_grad/Sum', 'gradients/sequence_loss/mul_grad/Reshape', 'gradients/sequence_loss/mul_grad/Mul_1', 'gradients/sequence_loss/mul_grad/Sum_1', 'gradients/sequence_loss/mul_grad/Reshape_1', 'gradients/sequence_loss/mul_grad/tuple/group_deps', 'gradients/sequence_loss/mul_grad/tuple/control_dependency', 'gradients/sequence_loss/mul_grad/tuple/control_dependency_1', 'gradients/zeros_like', 'gradients/sequence_loss/SparseSoftmaxCrossEntropyWithLogits/SparseSoftmaxCrossEntropyWithLogits_grad/PreventGradient', 'gradients/sequence_loss/SparseSoftmaxCrossEntropyWithLogits/SparseSoftmaxCrossEntropyWithLogits_grad/ExpandDims/dim', 'gradients/sequence_loss/SparseSoftmaxCrossEntropyWithLogits/SparseSoftmaxCrossEntropyWithLogits_grad/ExpandDims', 'gradients/sequence_loss/SparseSoftmaxCrossEntropyWithLogits/SparseSoftmaxCrossEntropyWithLogits_grad/mul', 'gradients/sequence_loss/Reshape_grad/Shape', 'gradients/sequence_loss/Reshape_grad/Reshape', 'gradients/fully_connected/BiasAdd_grad/BiasAddGrad', 'gradients/fully_connected/BiasAdd_grad/tuple/group_deps', 'gradients/fully_connected/BiasAdd_grad/tuple/control_dependency', 'gradients/fully_connected/BiasAdd_grad/tuple/control_dependency_1', 'gradients/fully_connected/Tensordot_grad/Shape', 'gradients/fully_connected/Tensordot_grad/Reshape', 'gradients/fully_connected/Tensordot/MatMul_grad/MatMul', 'gradients/fully_connected/Tensordot/MatMul_grad/MatMul_1', 'gradients/fully_connected/Tensordot/MatMul_grad/tuple/group_deps', 'gradients/fully_connected/Tensordot/MatMul_grad/tuple/control_dependency', 'gradients/fully_connected/Tensordot/MatMul_grad/tuple/control_dependency_1', 'gradients/fully_connected/Tensordot/Reshape_grad/Shape', 'gradients/fully_connected/Tensordot/Reshape_grad/Reshape', 'gradients/fully_connected/Tensordot/Reshape_1_grad/Shape', 'gradients/fully_connected/Tensordot/Reshape_1_grad/Reshape', 'gradients/fully_connected/Tensordot/transpose_grad/InvertPermutation', 'gradients/fully_connected/Tensordot/transpose_grad/transpose', 'gradients/fully_connected/Tensordot/transpose_1_grad/InvertPermutation', 'gradients/fully_connected/Tensordot/transpose_1_grad/transpose', 'gradients/rnn/transpose_1_grad/InvertPermutation', 'gradients/rnn/transpose_1_grad/transpose', 'gradients/rnn/TensorArrayStack/TensorArrayGatherV3_grad/TensorArrayGrad/TensorArrayGradV3', 'gradients/rnn/TensorArrayStack/TensorArrayGatherV3_grad/TensorArrayGrad/gradient_flow', 'gradients/rnn/TensorArrayStack/TensorArrayGatherV3_grad/TensorArrayScatter/TensorArrayScatterV3', 'gradients/zeros_like_1', 'gradients/rnn/while/Exit_2_grad/b_exit', 'gradients/rnn/while/Exit_3_grad/b_exit', 'gradients/rnn/while/Switch_2_grad/b_switch', 'gradients/rnn/while/Switch_3_grad/b_switch', 'gradients/rnn/while/Merge_2_grad/Switch', 'gradients/rnn/while/Merge_2_grad/tuple/group_deps', 'gradients/rnn/while/Merge_2_grad/tuple/control_dependency', 'gradients/rnn/while/Merge_2_grad/tuple/control_dependency_1', 'gradients/rnn/while/Merge_3_grad/Switch', 'gradients/rnn/while/Merge_3_grad/tuple/group_deps', 'gradients/rnn/while/Merge_3_grad/tuple/control_dependency', 'gradients/rnn/while/Merge_3_grad/tuple/control_dependency_1', 'gradients/rnn/while/Enter_2_grad/Exit', 'gradients/rnn/while/Enter_3_grad/Exit', 'gradients/rnn/while/TensorArrayWrite/TensorArrayWriteV3_grad/TensorArrayGrad/TensorArrayGradV3/Enter', 'gradients/rnn/while/TensorArrayWrite/TensorArrayWriteV3_grad/TensorArrayGrad/TensorArrayGradV3', 'gradients/rnn/while/TensorArrayWrite/TensorArrayWriteV3_grad/TensorArrayGrad/gradient_flow', 'gradients/rnn/while/TensorArrayWrite/TensorArrayWriteV3_grad/TensorArrayReadV3/Const', 'gradients/rnn/while/TensorArrayWrite/TensorArrayWriteV3_grad/TensorArrayReadV3/f_acc', 'gradients/rnn/while/TensorArrayWrite/TensorArrayWriteV3_grad/TensorArrayReadV3/Enter', 'gradients/rnn/while/TensorArrayWrite/TensorArrayWriteV3_grad/TensorArrayReadV3/StackPushV2', 'gradients/rnn/while/TensorArrayWrite/TensorArrayWriteV3_grad/TensorArrayReadV3/StackPopV2/Enter', 'gradients/rnn/while/TensorArrayWrite/TensorArrayWriteV3_grad/TensorArrayReadV3/StackPopV2', 'gradients/rnn/while/TensorArrayWrite/TensorArrayWriteV3_grad/TensorArrayReadV3', 'gradients/rnn/while/TensorArrayWrite/TensorArrayWriteV3_grad/tuple/group_deps', 'gradients/rnn/while/TensorArrayWrite/TensorArrayWriteV3_grad/tuple/control_dependency', 'gradients/rnn/while/TensorArrayWrite/TensorArrayWriteV3_grad/tuple/control_dependency_1', 'gradients/AddN', 'gradients/rnn/while/rnn/multi_rnn_cell/cell_0/basic_rnn_cell/Tanh_grad/TanhGrad/Const', 'gradients/rnn/while/rnn/multi_rnn_cell/cell_0/basic_rnn_cell/Tanh_grad/TanhGrad/f_acc', 'gradients/rnn/while/rnn/multi_rnn_cell/cell_0/basic_rnn_cell/Tanh_grad/TanhGrad/Enter', 'gradients/rnn/while/rnn/multi_rnn_cell/cell_0/basic_rnn_cell/Tanh_grad/TanhGrad/StackPushV2', 'gradients/rnn/while/rnn/multi_rnn_cell/cell_0/basic_rnn_cell/Tanh_grad/TanhGrad/StackPopV2/Enter', 'gradients/rnn/while/rnn/multi_rnn_cell/cell_0/basic_rnn_cell/Tanh_grad/TanhGrad/StackPopV2', 'gradients/rnn/while/rnn/multi_rnn_cell/cell_0/basic_rnn_cell/Tanh_grad/TanhGrad', 'gradients/rnn/while/rnn/multi_rnn_cell/cell_0/basic_rnn_cell/BiasAdd_grad/BiasAddGrad', 'gradients/rnn/while/rnn/multi_rnn_cell/cell_0/basic_rnn_cell/BiasAdd_grad/tuple/group_deps', 'gradients/rnn/while/rnn/multi_rnn_cell/cell_0/basic_rnn_cell/BiasAdd_grad/tuple/control_dependency', 'gradients/rnn/while/rnn/multi_rnn_cell/cell_0/basic_rnn_cell/BiasAdd_grad/tuple/control_dependency_1', 'gradients/rnn/while/Switch_2_grad_1/NextIteration', 'gradients/rnn/while/rnn/multi_rnn_cell/cell_0/basic_rnn_cell/MatMul_grad/MatMul/Enter', 'gradients/rnn/while/rnn/multi_rnn_cell/cell_0/basic_rnn_cell/MatMul_grad/MatMul', 'gradients/rnn/while/rnn/multi_rnn_cell/cell_0/basic_rnn_cell/MatMul_grad/MatMul_1/Const', 'gradients/rnn/while/rnn/multi_rnn_cell/cell_0/basic_rnn_cell/MatMul_grad/MatMul_1/f_acc', 'gradients/rnn/while/rnn/multi_rnn_cell/cell_0/basic_rnn_cell/MatMul_grad/MatMul_1/Enter', 'gradients/rnn/while/rnn/multi_rnn_cell/cell_0/basic_rnn_cell/MatMul_grad/MatMul_1/StackPushV2', 'gradients/rnn/while/rnn/multi_rnn_cell/cell_0/basic_rnn_cell/MatMul_grad/MatMul_1/StackPopV2/Enter', 'gradients/rnn/while/rnn/multi_rnn_cell/cell_0/basic_rnn_cell/MatMul_grad/MatMul_1/StackPopV2', 'gradients/rnn/while/rnn/multi_rnn_cell/cell_0/basic_rnn_cell/MatMul_grad/MatMul_1', 'gradients/rnn/while/rnn/multi_rnn_cell/cell_0/basic_rnn_cell/MatMul_grad/tuple/group_deps', 'gradients/rnn/while/rnn/multi_rnn_cell/cell_0/basic_rnn_cell/MatMul_grad/tuple/control_dependency', 'gradients/rnn/while/rnn/multi_rnn_cell/cell_0/basic_rnn_cell/MatMul_grad/tuple/control_dependency_1', 'gradients/rnn/while/rnn/multi_rnn_cell/cell_0/basic_rnn_cell/BiasAdd/Enter_grad/b_acc', 'gradients/rnn/while/rnn/multi_rnn_cell/cell_0/basic_rnn_cell/BiasAdd/Enter_grad/b_acc_1', 'gradients/rnn/while/rnn/multi_rnn_cell/cell_0/basic_rnn_cell/BiasAdd/Enter_grad/b_acc_2', 'gradients/rnn/while/rnn/multi_rnn_cell/cell_0/basic_rnn_cell/BiasAdd/Enter_grad/Switch', 'gradients/rnn/while/rnn/multi_rnn_cell/cell_0/basic_rnn_cell/BiasAdd/Enter_grad/Add', 'gradients/rnn/while/rnn/multi_rnn_cell/cell_0/basic_rnn_cell/BiasAdd/Enter_grad/NextIteration', 'gradients/rnn/while/rnn/multi_rnn_cell/cell_0/basic_rnn_cell/BiasAdd/Enter_grad/b_acc_3', 'gradients/rnn/while/rnn/multi_rnn_cell/cell_0/basic_rnn_cell/concat_grad/Const', 'gradients/rnn/while/rnn/multi_rnn_cell/cell_0/basic_rnn_cell/concat_grad/Rank', 'gradients/rnn/while/rnn/multi_rnn_cell/cell_0/basic_rnn_cell/concat_grad/mod', 'gradients/rnn/while/rnn/multi_rnn_cell/cell_0/basic_rnn_cell/concat_grad/Shape', 'gradients/rnn/while/rnn/multi_rnn_cell/cell_0/basic_rnn_cell/concat_grad/ShapeN/Const', 'gradients/rnn/while/rnn/multi_rnn_cell/cell_0/basic_rnn_cell/concat_grad/ShapeN/f_acc', 'gradients/rnn/while/rnn/multi_rnn_cell/cell_0/basic_rnn_cell/concat_grad/ShapeN/Enter', 'gradients/rnn/while/rnn/multi_rnn_cell/cell_0/basic_rnn_cell/concat_grad/ShapeN/StackPushV2', 'gradients/rnn/while/rnn/multi_rnn_cell/cell_0/basic_rnn_cell/concat_grad/ShapeN/StackPopV2/Enter', 'gradients/rnn/while/rnn/multi_rnn_cell/cell_0/basic_rnn_cell/concat_grad/ShapeN/StackPopV2', 'gradients/rnn/while/rnn/multi_rnn_cell/cell_0/basic_rnn_cell/concat_grad/ShapeN/Const_1', 'gradients/rnn/while/rnn/multi_rnn_cell/cell_0/basic_rnn_cell/concat_grad/ShapeN/f_acc_1', 'gradients/rnn/while/rnn/multi_rnn_cell/cell_0/basic_rnn_cell/concat_grad/ShapeN/Enter_1', 'gradients/rnn/while/rnn/multi_rnn_cell/cell_0/basic_rnn_cell/concat_grad/ShapeN/StackPushV2_1', 'gradients/NextIteration', 'gradients/rnn/while/rnn/multi_rnn_cell/cell_0/basic_rnn_cell/concat_grad/ShapeN/StackPopV2_1/Enter', 'gradients/rnn/while/rnn/multi_rnn_cell/cell_0/basic_rnn_cell/concat_grad/ShapeN/StackPopV2_1', 'gradients/rnn/while/TensorArrayWrite/TensorArrayWriteV3_grad/TensorArrayReadV3/b_sync', 'gradients/NextIteration_1', 'gradients/rnn/while/rnn/multi_rnn_cell/cell_0/basic_rnn_cell/concat_grad/ShapeN', 'gradients/rnn/while/rnn/multi_rnn_cell/cell_0/basic_rnn_cell/concat_grad/ConcatOffset', 'gradients/rnn/while/rnn/multi_rnn_cell/cell_0/basic_rnn_cell/concat_grad/Slice', 'gradients/rnn/while/rnn/multi_rnn_cell/cell_0/basic_rnn_cell/concat_grad/Slice_1', 'gradients/rnn/while/rnn/multi_rnn_cell/cell_0/basic_rnn_cell/concat_grad/tuple/group_deps', 'gradients/rnn/while/rnn/multi_rnn_cell/cell_0/basic_rnn_cell/concat_grad/tuple/control_dependency', 'gradients/rnn/while/rnn/multi_rnn_cell/cell_0/basic_rnn_cell/concat_grad/tuple/control_dependency_1', 'gradients/rnn/while/rnn/multi_rnn_cell/cell_0/basic_rnn_cell/MatMul/Enter_grad/b_acc', 'gradients/rnn/while/rnn/multi_rnn_cell/cell_0/basic_rnn_cell/MatMul/Enter_grad/b_acc_1', 'gradients/rnn/while/rnn/multi_rnn_cell/cell_0/basic_rnn_cell/MatMul/Enter_grad/b_acc_2', 'gradients/rnn/while/rnn/multi_rnn_cell/cell_0/basic_rnn_cell/MatMul/Enter_grad/Switch', 'gradients/rnn/while/rnn/multi_rnn_cell/cell_0/basic_rnn_cell/MatMul/Enter_grad/Add', 'gradients/rnn/while/rnn/multi_rnn_cell/cell_0/basic_rnn_cell/MatMul/Enter_grad/NextIteration', 'gradients/rnn/while/rnn/multi_rnn_cell/cell_0/basic_rnn_cell/MatMul/Enter_grad/b_acc_3', 'gradients/rnn/while/TensorArrayReadV3_grad/TensorArrayGrad/TensorArrayGradV3/Enter', 'gradients/rnn/while/TensorArrayReadV3_grad/TensorArrayGrad/TensorArrayGradV3/Enter_1', 'gradients/rnn/while/TensorArrayReadV3_grad/TensorArrayGrad/TensorArrayGradV3', 'gradients/rnn/while/TensorArrayReadV3_grad/TensorArrayGrad/gradient_flow', 'gradients/rnn/while/TensorArrayReadV3_grad/TensorArrayWrite/TensorArrayWriteV3', 'gradients/rnn/while/TensorArrayReadV3/Enter_1_grad/b_acc', 'gradients/rnn/while/TensorArrayReadV3/Enter_1_grad/b_acc_1', 'gradients/rnn/while/TensorArrayReadV3/Enter_1_grad/b_acc_2', 'gradients/rnn/while/TensorArrayReadV3/Enter_1_grad/Switch', 'gradients/rnn/while/TensorArrayReadV3/Enter_1_grad/Add', 'gradients/rnn/while/TensorArrayReadV3/Enter_1_grad/NextIteration', 'gradients/rnn/while/TensorArrayReadV3/Enter_1_grad/b_acc_3', 'gradients/rnn/while/Switch_3_grad_1/NextIteration', 'gradients/rnn/TensorArrayUnstack/TensorArrayScatter/TensorArrayScatterV3_grad/TensorArrayGrad/TensorArrayGradV3', 'gradients/rnn/TensorArrayUnstack/TensorArrayScatter/TensorArrayScatterV3_grad/TensorArrayGrad/gradient_flow', 'gradients/rnn/TensorArrayUnstack/TensorArrayScatter/TensorArrayScatterV3_grad/TensorArrayGatherV3', 'gradients/rnn/TensorArrayUnstack/TensorArrayScatter/TensorArrayScatterV3_grad/tuple/group_deps', 'gradients/rnn/TensorArrayUnstack/TensorArrayScatter/TensorArrayScatterV3_grad/tuple/control_dependency', 'gradients/rnn/TensorArrayUnstack/TensorArrayScatter/TensorArrayScatterV3_grad/tuple/control_dependency_1', 'gradients/rnn/transpose_grad/InvertPermutation', 'gradients/rnn/transpose_grad/transpose', 'gradients/embedding_lookup_grad/Shape', 'gradients/embedding_lookup_grad/ToInt32', 'gradients/embedding_lookup_grad/Size', 'gradients/embedding_lookup_grad/ExpandDims/dim', 'gradients/embedding_lookup_grad/ExpandDims', 'gradients/embedding_lookup_grad/strided_slice/stack', 'gradients/embedding_lookup_grad/strided_slice/stack_1', 'gradients/embedding_lookup_grad/strided_slice/stack_2', 'gradients/embedding_lookup_grad/strided_slice', 'gradients/embedding_lookup_grad/concat/axis', 'gradients/embedding_lookup_grad/concat', 'gradients/embedding_lookup_grad/Reshape', 'gradients/embedding_lookup_grad/Reshape_1', 'clip_by_value/strided_slice/stack', 'clip_by_value/strided_slice/stack_1', 'clip_by_value/strided_slice/stack_2', 'clip_by_value/strided_slice', 'clip_by_value/t', 'clip_by_value/Minimum/y', 'clip_by_value/Minimum', 'clip_by_value/y', 'clip_by_value', 'clip_by_value_1/Minimum/y', 'clip_by_value_1/Minimum', 'clip_by_value_1/y', 'clip_by_value_1', 'clip_by_value_2/Minimum/y', 'clip_by_value_2/Minimum', 'clip_by_value_2/y', 'clip_by_value_2', 'clip_by_value_3/Minimum/y', 'clip_by_value_3/Minimum', 'clip_by_value_3/y', 'clip_by_value_3', 'clip_by_value_4/Minimum/y', 'clip_by_value_4/Minimum', 'clip_by_value_4/y', 'clip_by_value_4', 'beta1_power/initial_value', 'beta1_power', 'beta1_power/Assign', 'beta1_power/read', 'beta2_power/initial_value', 'beta2_power', 'beta2_power/Assign', 'beta2_power/read', 'Variable/Adam/Initializer/zeros/shape_as_tensor', 'Variable/Adam/Initializer/zeros/Const', 'Variable/Adam/Initializer/zeros', 'Variable/Adam', 'Variable/Adam/Assign', 'Variable/Adam/read', 'Variable/Adam_1/Initializer/zeros/shape_as_tensor', 'Variable/Adam_1/Initializer/zeros/Const', 'Variable/Adam_1/Initializer/zeros', 'Variable/Adam_1', 'Variable/Adam_1/Assign', 'Variable/Adam_1/read', 'rnn/multi_rnn_cell/cell_0/basic_rnn_cell/kernel/Adam/Initializer/zeros/shape_as_tensor', 'rnn/multi_rnn_cell/cell_0/basic_rnn_cell/kernel/Adam/Initializer/zeros/Const', 'rnn/multi_rnn_cell/cell_0/basic_rnn_cell/kernel/Adam/Initializer/zeros', 'rnn/multi_rnn_cell/cell_0/basic_rnn_cell/kernel/Adam', 'rnn/multi_rnn_cell/cell_0/basic_rnn_cell/kernel/Adam/Assign', 'rnn/multi_rnn_cell/cell_0/basic_rnn_cell/kernel/Adam/read', 'rnn/multi_rnn_cell/cell_0/basic_rnn_cell/kernel/Adam_1/Initializer/zeros/shape_as_tensor', 'rnn/multi_rnn_cell/cell_0/basic_rnn_cell/kernel/Adam_1/Initializer/zeros/Const', 'rnn/multi_rnn_cell/cell_0/basic_rnn_cell/kernel/Adam_1/Initializer/zeros', 'rnn/multi_rnn_cell/cell_0/basic_rnn_cell/kernel/Adam_1', 'rnn/multi_rnn_cell/cell_0/basic_rnn_cell/kernel/Adam_1/Assign', 'rnn/multi_rnn_cell/cell_0/basic_rnn_cell/kernel/Adam_1/read', 'rnn/multi_rnn_cell/cell_0/basic_rnn_cell/bias/Adam/Initializer/zeros', 'rnn/multi_rnn_cell/cell_0/basic_rnn_cell/bias/Adam', 'rnn/multi_rnn_cell/cell_0/basic_rnn_cell/bias/Adam/Assign', 'rnn/multi_rnn_cell/cell_0/basic_rnn_cell/bias/Adam/read', 'rnn/multi_rnn_cell/cell_0/basic_rnn_cell/bias/Adam_1/Initializer/zeros', 'rnn/multi_rnn_cell/cell_0/basic_rnn_cell/bias/Adam_1', 'rnn/multi_rnn_cell/cell_0/basic_rnn_cell/bias/Adam_1/Assign', 'rnn/multi_rnn_cell/cell_0/basic_rnn_cell/bias/Adam_1/read', 'fully_connected/weights/Adam/Initializer/zeros/shape_as_tensor', 'fully_connected/weights/Adam/Initializer/zeros/Const', 'fully_connected/weights/Adam/Initializer/zeros', 'fully_connected/weights/Adam', 'fully_connected/weights/Adam/Assign', 'fully_connected/weights/Adam/read', 'fully_connected/weights/Adam_1/Initializer/zeros/shape_as_tensor', 'fully_connected/weights/Adam_1/Initializer/zeros/Const', 'fully_connected/weights/Adam_1/Initializer/zeros', 'fully_connected/weights/Adam_1', 'fully_connected/weights/Adam_1/Assign', 'fully_connected/weights/Adam_1/read', 'fully_connected/biases/Adam/Initializer/zeros/shape_as_tensor', 'fully_connected/biases/Adam/Initializer/zeros/Const', 'fully_connected/biases/Adam/Initializer/zeros', 'fully_connected/biases/Adam', 'fully_connected/biases/Adam/Assign', 'fully_connected/biases/Adam/read', 'fully_connected/biases/Adam_1/Initializer/zeros/shape_as_tensor', 'fully_connected/biases/Adam_1/Initializer/zeros/Const', 'fully_connected/biases/Adam_1/Initializer/zeros', 'fully_connected/biases/Adam_1', 'fully_connected/biases/Adam_1/Assign', 'fully_connected/biases/Adam_1/read', 'Adam/beta1', 'Adam/beta2', 'Adam/epsilon', 'Adam/update_Variable/ApplyAdam', 'Adam/update_rnn/multi_rnn_cell/cell_0/basic_rnn_cell/kernel/ApplyAdam', 'Adam/update_rnn/multi_rnn_cell/cell_0/basic_rnn_cell/bias/ApplyAdam', 'Adam/update_fully_connected/weights/ApplyAdam', 'Adam/update_fully_connected/biases/ApplyAdam', 'Adam/mul', 'Adam/Assign', 'Adam/mul_1', 'Adam/Assign_1', 'Adam', 'init', 'save/Const', 'save/SaveV2/tensor_names', 'save/SaveV2/shape_and_slices', 'save/SaveV2', 'save/control_dependency', 'save/RestoreV2/tensor_names', 'save/RestoreV2/shape_and_slices', 'save/RestoreV2', 'save/Assign', 'save/Assign_1', 'save/Assign_2', 'save/Assign_3', 'save/Assign_4', 'save/Assign_5', 'save/Assign_6', 'save/Assign_7', 'save/Assign_8', 'save/Assign_9', 'save/Assign_10', 'save/Assign_11', 'save/Assign_12', 'save/Assign_13', 'save/Assign_14', 'save/Assign_15', 'save/Assign_16', 'save/restore_all']\n",
            "Tensor(\"input:0\", shape=(?, ?), dtype=int32)\n",
            "<class 'tensorflow.python.training.saver.Saver'>\n",
            "Tensor(\"input:0\", shape=(?, ?), dtype=int32) Tensor(\"initial_state:0\", shape=(1, ?, 750), dtype=float32) Tensor(\"final_state:0\", shape=(1, ?, 750), dtype=float32) Tensor(\"probs:0\", shape=(?, ?, 6779), dtype=float32)\n",
            "Tensor(\"input:0\", shape=(?, ?), dtype=int32)\n"
          ],
          "name": "stdout"
        },
        {
          "output_type": "error",
          "ename": "TypeError",
          "evalue": "ignored",
          "traceback": [
            "\u001b[0;31m---------------------------------------------------------------------------\u001b[0m",
            "\u001b[0;31mValueError\u001b[0m                                Traceback (most recent call last)",
            "\u001b[0;32m/usr/local/lib/python3.6/dist-packages/tensorflow/python/client/session.py\u001b[0m in \u001b[0;36m_run\u001b[0;34m(self, handle, fetches, feed_dict, options, run_metadata)\u001b[0m\n\u001b[1;32m   1091\u001b[0m             subfeed_t = self.graph.as_graph_element(\n\u001b[0;32m-> 1092\u001b[0;31m                 subfeed, allow_tensor=True, allow_operation=False)\n\u001b[0m\u001b[1;32m   1093\u001b[0m           \u001b[0;32mexcept\u001b[0m \u001b[0mException\u001b[0m \u001b[0;32mas\u001b[0m \u001b[0me\u001b[0m\u001b[0;34m:\u001b[0m\u001b[0;34m\u001b[0m\u001b[0m\n",
            "\u001b[0;32m/usr/local/lib/python3.6/dist-packages/tensorflow/python/framework/ops.py\u001b[0m in \u001b[0;36mas_graph_element\u001b[0;34m(self, obj, allow_tensor, allow_operation)\u001b[0m\n\u001b[1;32m   3489\u001b[0m     \u001b[0;32mwith\u001b[0m \u001b[0mself\u001b[0m\u001b[0;34m.\u001b[0m\u001b[0m_lock\u001b[0m\u001b[0;34m:\u001b[0m\u001b[0;34m\u001b[0m\u001b[0m\n\u001b[0;32m-> 3490\u001b[0;31m       \u001b[0;32mreturn\u001b[0m \u001b[0mself\u001b[0m\u001b[0;34m.\u001b[0m\u001b[0m_as_graph_element_locked\u001b[0m\u001b[0;34m(\u001b[0m\u001b[0mobj\u001b[0m\u001b[0;34m,\u001b[0m \u001b[0mallow_tensor\u001b[0m\u001b[0;34m,\u001b[0m \u001b[0mallow_operation\u001b[0m\u001b[0;34m)\u001b[0m\u001b[0;34m\u001b[0m\u001b[0m\n\u001b[0m\u001b[1;32m   3491\u001b[0m \u001b[0;34m\u001b[0m\u001b[0m\n",
            "\u001b[0;32m/usr/local/lib/python3.6/dist-packages/tensorflow/python/framework/ops.py\u001b[0m in \u001b[0;36m_as_graph_element_locked\u001b[0;34m(self, obj, allow_tensor, allow_operation)\u001b[0m\n\u001b[1;32m   3568\u001b[0m       \u001b[0;32mif\u001b[0m \u001b[0mobj\u001b[0m\u001b[0;34m.\u001b[0m\u001b[0mgraph\u001b[0m \u001b[0;32mis\u001b[0m \u001b[0;32mnot\u001b[0m \u001b[0mself\u001b[0m\u001b[0;34m:\u001b[0m\u001b[0;34m\u001b[0m\u001b[0m\n\u001b[0;32m-> 3569\u001b[0;31m         \u001b[0;32mraise\u001b[0m \u001b[0mValueError\u001b[0m\u001b[0;34m(\u001b[0m\u001b[0;34m\"Tensor %s is not an element of this graph.\"\u001b[0m \u001b[0;34m%\u001b[0m \u001b[0mobj\u001b[0m\u001b[0;34m)\u001b[0m\u001b[0;34m\u001b[0m\u001b[0m\n\u001b[0m\u001b[1;32m   3570\u001b[0m       \u001b[0;32mreturn\u001b[0m \u001b[0mobj\u001b[0m\u001b[0;34m\u001b[0m\u001b[0m\n",
            "\u001b[0;31mValueError\u001b[0m: Tensor Tensor(\"input:0\", shape=(?, ?), dtype=int32) is not an element of this graph.",
            "\nDuring handling of the above exception, another exception occurred:\n",
            "\u001b[0;31mTypeError\u001b[0m                                 Traceback (most recent call last)",
            "\u001b[0;32m<ipython-input-85-109437263f2b>\u001b[0m in \u001b[0;36m<module>\u001b[0;34m()\u001b[0m\n\u001b[1;32m     40\u001b[0m                           \u001b[0;31m#{'input_text:0': input2tensor}\u001b[0m\u001b[0;34m\u001b[0m\u001b[0;34m\u001b[0m\u001b[0m\n\u001b[1;32m     41\u001b[0m                           \u001b[0;31m#{'input_text:0': np.array([[1]])}\u001b[0m\u001b[0;34m\u001b[0m\u001b[0;34m\u001b[0m\u001b[0m\n\u001b[0;32m---> 42\u001b[0;31m                           \u001b[0;34m{\u001b[0m\u001b[0minput_text\u001b[0m\u001b[0;34m:\u001b[0m \u001b[0mnp\u001b[0m\u001b[0;34m.\u001b[0m\u001b[0marray\u001b[0m\u001b[0;34m(\u001b[0m\u001b[0;34m[\u001b[0m\u001b[0;34m[\u001b[0m\u001b[0;36m1\u001b[0m\u001b[0;34m]\u001b[0m\u001b[0;34m]\u001b[0m\u001b[0;34m)\u001b[0m\u001b[0;34m}\u001b[0m\u001b[0;34m\u001b[0m\u001b[0m\n\u001b[0m\u001b[1;32m     43\u001b[0m                          )\n\u001b[1;32m     44\u001b[0m \u001b[0;34m\u001b[0m\u001b[0m\n",
            "\u001b[0;32m/usr/local/lib/python3.6/dist-packages/tensorflow/python/client/session.py\u001b[0m in \u001b[0;36mrun\u001b[0;34m(self, fetches, feed_dict, options, run_metadata)\u001b[0m\n\u001b[1;32m    927\u001b[0m     \u001b[0;32mtry\u001b[0m\u001b[0;34m:\u001b[0m\u001b[0;34m\u001b[0m\u001b[0m\n\u001b[1;32m    928\u001b[0m       result = self._run(None, fetches, feed_dict, options_ptr,\n\u001b[0;32m--> 929\u001b[0;31m                          run_metadata_ptr)\n\u001b[0m\u001b[1;32m    930\u001b[0m       \u001b[0;32mif\u001b[0m \u001b[0mrun_metadata\u001b[0m\u001b[0;34m:\u001b[0m\u001b[0;34m\u001b[0m\u001b[0m\n\u001b[1;32m    931\u001b[0m         \u001b[0mproto_data\u001b[0m \u001b[0;34m=\u001b[0m \u001b[0mtf_session\u001b[0m\u001b[0;34m.\u001b[0m\u001b[0mTF_GetBuffer\u001b[0m\u001b[0;34m(\u001b[0m\u001b[0mrun_metadata_ptr\u001b[0m\u001b[0;34m)\u001b[0m\u001b[0;34m\u001b[0m\u001b[0m\n",
            "\u001b[0;32m/usr/local/lib/python3.6/dist-packages/tensorflow/python/client/session.py\u001b[0m in \u001b[0;36m_run\u001b[0;34m(self, handle, fetches, feed_dict, options, run_metadata)\u001b[0m\n\u001b[1;32m   1093\u001b[0m           \u001b[0;32mexcept\u001b[0m \u001b[0mException\u001b[0m \u001b[0;32mas\u001b[0m \u001b[0me\u001b[0m\u001b[0;34m:\u001b[0m\u001b[0;34m\u001b[0m\u001b[0m\n\u001b[1;32m   1094\u001b[0m             raise TypeError(\n\u001b[0;32m-> 1095\u001b[0;31m                 'Cannot interpret feed_dict key as Tensor: ' + e.args[0])\n\u001b[0m\u001b[1;32m   1096\u001b[0m \u001b[0;34m\u001b[0m\u001b[0m\n\u001b[1;32m   1097\u001b[0m           \u001b[0;32mif\u001b[0m \u001b[0misinstance\u001b[0m\u001b[0;34m(\u001b[0m\u001b[0msubfeed_val\u001b[0m\u001b[0;34m,\u001b[0m \u001b[0mops\u001b[0m\u001b[0;34m.\u001b[0m\u001b[0mTensor\u001b[0m\u001b[0;34m)\u001b[0m\u001b[0;34m:\u001b[0m\u001b[0;34m\u001b[0m\u001b[0m\n",
            "\u001b[0;31mTypeError\u001b[0m: Cannot interpret feed_dict key as Tensor: Tensor Tensor(\"input:0\", shape=(?, ?), dtype=int32) is not an element of this graph."
          ]
        }
      ]
    },
    {
      "metadata": {
        "id": "EGqB23VDb-Br",
        "colab_type": "text"
      },
      "cell_type": "markdown",
      "source": [
        "# The TV Script is Nonsensical\n",
        "It's ok if the TV script doesn't make any sense.  We trained on less than a megabyte of text.  In order to get good results, you'll have to use a smaller vocabulary or get more data.  Luckly there's more data!  As we mentioned in the begging of this project, this is a subset of [another dataset](https://www.kaggle.com/wcukierski/the-simpsons-by-the-data).  We didn't have you train on all the data, because that would take too long.  However, you are free to train your neural network on all the data.  After you complete the project, of course.\n",
        "# Submitting This Project\n",
        "When submitting this project, make sure to run all the cells before saving the notebook. Save the notebook file as \"dlnd_tv_script_generation.ipynb\" and save it as a HTML file under \"File\" -> \"Download as\". Include the \"helper.py\" and \"problem_unittests.py\" files in your submission."
      ]
    }
  ]
}